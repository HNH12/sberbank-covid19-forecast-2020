{
  "nbformat": 4,
  "nbformat_minor": 0,
  "metadata": {
    "colab": {
      "name": "covid_simple.ipynb",
      "provenance": [],
      "collapsed_sections": [],
      "toc_visible": true,
      "machine_shape": "hm"
    },
    "kernelspec": {
      "name": "python3",
      "display_name": "Python 3"
    }
  },
  "cells": [
    {
      "cell_type": "markdown",
      "metadata": {
        "id": "LCs2Q5vvGiDM",
        "colab_type": "text"
      },
      "source": [
        "#Подключаем библиотеки и загружаем данные"
      ]
    },
    {
      "cell_type": "code",
      "metadata": {
        "id": "2JMyOSZ7bLoa",
        "colab_type": "code",
        "colab": {
          "base_uri": "https://localhost:8080/",
          "height": 70
        },
        "outputId": "a3549263-929d-462c-d9d8-0cff1ea5dc51"
      },
      "source": [
        "from sklearn import ensemble, model_selection, datasets, metrics, tree, linear_model, preprocessing \n",
        "import xgboost as xgb\n",
        "import pandas as pd\n",
        "import matplotlib.pyplot as plt\n",
        "import seaborn as sns\n",
        "import numpy as np\n",
        "%matplotlib inline"
      ],
      "execution_count": 2,
      "outputs": [
        {
          "output_type": "stream",
          "text": [
            "/usr/local/lib/python3.6/dist-packages/statsmodels/tools/_testing.py:19: FutureWarning: pandas.util.testing is deprecated. Use the functions in the public API at pandas.testing instead.\n",
            "  import pandas.util.testing as tm\n"
          ],
          "name": "stderr"
        }
      ]
    },
    {
      "cell_type": "code",
      "metadata": {
        "id": "6z9w3muR2NA1",
        "colab_type": "code",
        "outputId": "17d8e3ac-32aa-4cbf-9eac-6b52c7dc8962",
        "colab": {
          "base_uri": "https://localhost:8080/",
          "height": 438
        }
      },
      "source": [
        "#Загрузить список стран и удалить лишние атрибуты \n",
        "countries = pd.read_csv(\"countries.csv\")\n",
        "countries.drop(['iso_alpha3','iso_numeric','official_name','name'], axis='columns',inplace=True)\n",
        "\n",
        "#Загрузить список стран c датами\n",
        "data_ans = pd.read_csv(\"/content/sample_submission_GcA3UZa.csv\").iloc[:,:-1]\n",
        "data_ans[\"confirmed\"] = -1\n",
        "data_ans = data_ans.merge(countries, how = 'left', left_on='country', right_on='iso_alpha2')\n",
        "data_ans = data_ans[[\"date\",\"ccse_name\",\"confirmed\"]]\n",
        "data_ans[\"deaths\"] = -1\n",
        "\n",
        "#Загрузить данные по миру\n",
        "data = pd.read_csv(\"time_series_covid19_confirmed_global.csv\")\n",
        "data = data.groupby(\"Country/Region\").sum()\n",
        "data_deaths = pd.read_csv(\"time_series_covid19_deaths_global.csv\")\n",
        "data_deaths = data_deaths.groupby(\"Country/Region\").sum()\n",
        "\n",
        "#Страна в строку. Каждый день это столбец\n",
        "data_all = countries.merge(data, how = 'left', left_on='ccse_name', right_on='Country/Region')\n",
        "data_all"
      ],
      "execution_count": 4,
      "outputs": [
        {
          "output_type": "execute_result",
          "data": {
            "text/html": [
              "<div>\n",
              "<style scoped>\n",
              "    .dataframe tbody tr th:only-of-type {\n",
              "        vertical-align: middle;\n",
              "    }\n",
              "\n",
              "    .dataframe tbody tr th {\n",
              "        vertical-align: top;\n",
              "    }\n",
              "\n",
              "    .dataframe thead th {\n",
              "        text-align: right;\n",
              "    }\n",
              "</style>\n",
              "<table border=\"1\" class=\"dataframe\">\n",
              "  <thead>\n",
              "    <tr style=\"text-align: right;\">\n",
              "      <th></th>\n",
              "      <th>iso_alpha2</th>\n",
              "      <th>ccse_name</th>\n",
              "      <th>density</th>\n",
              "      <th>fertility_rate</th>\n",
              "      <th>land_area</th>\n",
              "      <th>median_age</th>\n",
              "      <th>migrants</th>\n",
              "      <th>population</th>\n",
              "      <th>urban_pop_rate</th>\n",
              "      <th>world_share</th>\n",
              "      <th>Lat</th>\n",
              "      <th>Long</th>\n",
              "      <th>1/22/20</th>\n",
              "      <th>1/23/20</th>\n",
              "      <th>1/24/20</th>\n",
              "      <th>1/25/20</th>\n",
              "      <th>1/26/20</th>\n",
              "      <th>1/27/20</th>\n",
              "      <th>1/28/20</th>\n",
              "      <th>1/29/20</th>\n",
              "      <th>1/30/20</th>\n",
              "      <th>1/31/20</th>\n",
              "      <th>2/1/20</th>\n",
              "      <th>2/2/20</th>\n",
              "      <th>2/3/20</th>\n",
              "      <th>2/4/20</th>\n",
              "      <th>2/5/20</th>\n",
              "      <th>2/6/20</th>\n",
              "      <th>2/7/20</th>\n",
              "      <th>2/8/20</th>\n",
              "      <th>2/9/20</th>\n",
              "      <th>2/10/20</th>\n",
              "      <th>2/11/20</th>\n",
              "      <th>2/12/20</th>\n",
              "      <th>2/13/20</th>\n",
              "      <th>2/14/20</th>\n",
              "      <th>2/15/20</th>\n",
              "      <th>2/16/20</th>\n",
              "      <th>2/17/20</th>\n",
              "      <th>2/18/20</th>\n",
              "      <th>...</th>\n",
              "      <th>2/22/20</th>\n",
              "      <th>2/23/20</th>\n",
              "      <th>2/24/20</th>\n",
              "      <th>2/25/20</th>\n",
              "      <th>2/26/20</th>\n",
              "      <th>2/27/20</th>\n",
              "      <th>2/28/20</th>\n",
              "      <th>2/29/20</th>\n",
              "      <th>3/1/20</th>\n",
              "      <th>3/2/20</th>\n",
              "      <th>3/3/20</th>\n",
              "      <th>3/4/20</th>\n",
              "      <th>3/5/20</th>\n",
              "      <th>3/6/20</th>\n",
              "      <th>3/7/20</th>\n",
              "      <th>3/8/20</th>\n",
              "      <th>3/9/20</th>\n",
              "      <th>3/10/20</th>\n",
              "      <th>3/11/20</th>\n",
              "      <th>3/12/20</th>\n",
              "      <th>3/13/20</th>\n",
              "      <th>3/14/20</th>\n",
              "      <th>3/15/20</th>\n",
              "      <th>3/16/20</th>\n",
              "      <th>3/17/20</th>\n",
              "      <th>3/18/20</th>\n",
              "      <th>3/19/20</th>\n",
              "      <th>3/20/20</th>\n",
              "      <th>3/21/20</th>\n",
              "      <th>3/22/20</th>\n",
              "      <th>3/23/20</th>\n",
              "      <th>3/24/20</th>\n",
              "      <th>3/25/20</th>\n",
              "      <th>3/26/20</th>\n",
              "      <th>3/27/20</th>\n",
              "      <th>3/28/20</th>\n",
              "      <th>3/29/20</th>\n",
              "      <th>3/30/20</th>\n",
              "      <th>3/31/20</th>\n",
              "      <th>4/1/20</th>\n",
              "    </tr>\n",
              "  </thead>\n",
              "  <tbody>\n",
              "    <tr>\n",
              "      <th>0</th>\n",
              "      <td>AF</td>\n",
              "      <td>Afghanistan</td>\n",
              "      <td>60</td>\n",
              "      <td>4.6</td>\n",
              "      <td>652860</td>\n",
              "      <td>18.0</td>\n",
              "      <td>-62920.0</td>\n",
              "      <td>38928346</td>\n",
              "      <td>0.25</td>\n",
              "      <td>0.0050</td>\n",
              "      <td>33.0000</td>\n",
              "      <td>65.0000</td>\n",
              "      <td>0</td>\n",
              "      <td>0</td>\n",
              "      <td>0</td>\n",
              "      <td>0</td>\n",
              "      <td>0</td>\n",
              "      <td>0</td>\n",
              "      <td>0</td>\n",
              "      <td>0</td>\n",
              "      <td>0</td>\n",
              "      <td>0</td>\n",
              "      <td>0</td>\n",
              "      <td>0</td>\n",
              "      <td>0</td>\n",
              "      <td>0</td>\n",
              "      <td>0</td>\n",
              "      <td>0</td>\n",
              "      <td>0</td>\n",
              "      <td>0</td>\n",
              "      <td>0</td>\n",
              "      <td>0</td>\n",
              "      <td>0</td>\n",
              "      <td>0</td>\n",
              "      <td>0</td>\n",
              "      <td>0</td>\n",
              "      <td>0</td>\n",
              "      <td>0</td>\n",
              "      <td>0</td>\n",
              "      <td>0</td>\n",
              "      <td>...</td>\n",
              "      <td>0</td>\n",
              "      <td>0</td>\n",
              "      <td>1</td>\n",
              "      <td>1</td>\n",
              "      <td>1</td>\n",
              "      <td>1</td>\n",
              "      <td>1</td>\n",
              "      <td>1</td>\n",
              "      <td>1</td>\n",
              "      <td>1</td>\n",
              "      <td>1</td>\n",
              "      <td>1</td>\n",
              "      <td>1</td>\n",
              "      <td>1</td>\n",
              "      <td>1</td>\n",
              "      <td>4</td>\n",
              "      <td>4</td>\n",
              "      <td>5</td>\n",
              "      <td>7</td>\n",
              "      <td>7</td>\n",
              "      <td>7</td>\n",
              "      <td>11</td>\n",
              "      <td>16</td>\n",
              "      <td>21</td>\n",
              "      <td>22</td>\n",
              "      <td>22</td>\n",
              "      <td>22</td>\n",
              "      <td>24</td>\n",
              "      <td>24</td>\n",
              "      <td>40</td>\n",
              "      <td>40</td>\n",
              "      <td>74</td>\n",
              "      <td>84</td>\n",
              "      <td>94</td>\n",
              "      <td>110</td>\n",
              "      <td>110</td>\n",
              "      <td>120</td>\n",
              "      <td>170</td>\n",
              "      <td>174</td>\n",
              "      <td>237</td>\n",
              "    </tr>\n",
              "    <tr>\n",
              "      <th>1</th>\n",
              "      <td>AL</td>\n",
              "      <td>Albania</td>\n",
              "      <td>105</td>\n",
              "      <td>1.6</td>\n",
              "      <td>27400</td>\n",
              "      <td>36.0</td>\n",
              "      <td>-14000.0</td>\n",
              "      <td>2877797</td>\n",
              "      <td>0.63</td>\n",
              "      <td>0.0004</td>\n",
              "      <td>41.1533</td>\n",
              "      <td>20.1683</td>\n",
              "      <td>0</td>\n",
              "      <td>0</td>\n",
              "      <td>0</td>\n",
              "      <td>0</td>\n",
              "      <td>0</td>\n",
              "      <td>0</td>\n",
              "      <td>0</td>\n",
              "      <td>0</td>\n",
              "      <td>0</td>\n",
              "      <td>0</td>\n",
              "      <td>0</td>\n",
              "      <td>0</td>\n",
              "      <td>0</td>\n",
              "      <td>0</td>\n",
              "      <td>0</td>\n",
              "      <td>0</td>\n",
              "      <td>0</td>\n",
              "      <td>0</td>\n",
              "      <td>0</td>\n",
              "      <td>0</td>\n",
              "      <td>0</td>\n",
              "      <td>0</td>\n",
              "      <td>0</td>\n",
              "      <td>0</td>\n",
              "      <td>0</td>\n",
              "      <td>0</td>\n",
              "      <td>0</td>\n",
              "      <td>0</td>\n",
              "      <td>...</td>\n",
              "      <td>0</td>\n",
              "      <td>0</td>\n",
              "      <td>0</td>\n",
              "      <td>0</td>\n",
              "      <td>0</td>\n",
              "      <td>0</td>\n",
              "      <td>0</td>\n",
              "      <td>0</td>\n",
              "      <td>0</td>\n",
              "      <td>0</td>\n",
              "      <td>0</td>\n",
              "      <td>0</td>\n",
              "      <td>0</td>\n",
              "      <td>0</td>\n",
              "      <td>0</td>\n",
              "      <td>0</td>\n",
              "      <td>2</td>\n",
              "      <td>10</td>\n",
              "      <td>12</td>\n",
              "      <td>23</td>\n",
              "      <td>33</td>\n",
              "      <td>38</td>\n",
              "      <td>42</td>\n",
              "      <td>51</td>\n",
              "      <td>55</td>\n",
              "      <td>59</td>\n",
              "      <td>64</td>\n",
              "      <td>70</td>\n",
              "      <td>76</td>\n",
              "      <td>89</td>\n",
              "      <td>104</td>\n",
              "      <td>123</td>\n",
              "      <td>146</td>\n",
              "      <td>174</td>\n",
              "      <td>186</td>\n",
              "      <td>197</td>\n",
              "      <td>212</td>\n",
              "      <td>223</td>\n",
              "      <td>243</td>\n",
              "      <td>259</td>\n",
              "    </tr>\n",
              "    <tr>\n",
              "      <th>2</th>\n",
              "      <td>DZ</td>\n",
              "      <td>Algeria</td>\n",
              "      <td>18</td>\n",
              "      <td>3.1</td>\n",
              "      <td>2381740</td>\n",
              "      <td>29.0</td>\n",
              "      <td>-10000.0</td>\n",
              "      <td>43851044</td>\n",
              "      <td>0.73</td>\n",
              "      <td>0.0056</td>\n",
              "      <td>28.0339</td>\n",
              "      <td>1.6596</td>\n",
              "      <td>0</td>\n",
              "      <td>0</td>\n",
              "      <td>0</td>\n",
              "      <td>0</td>\n",
              "      <td>0</td>\n",
              "      <td>0</td>\n",
              "      <td>0</td>\n",
              "      <td>0</td>\n",
              "      <td>0</td>\n",
              "      <td>0</td>\n",
              "      <td>0</td>\n",
              "      <td>0</td>\n",
              "      <td>0</td>\n",
              "      <td>0</td>\n",
              "      <td>0</td>\n",
              "      <td>0</td>\n",
              "      <td>0</td>\n",
              "      <td>0</td>\n",
              "      <td>0</td>\n",
              "      <td>0</td>\n",
              "      <td>0</td>\n",
              "      <td>0</td>\n",
              "      <td>0</td>\n",
              "      <td>0</td>\n",
              "      <td>0</td>\n",
              "      <td>0</td>\n",
              "      <td>0</td>\n",
              "      <td>0</td>\n",
              "      <td>...</td>\n",
              "      <td>0</td>\n",
              "      <td>0</td>\n",
              "      <td>0</td>\n",
              "      <td>1</td>\n",
              "      <td>1</td>\n",
              "      <td>1</td>\n",
              "      <td>1</td>\n",
              "      <td>1</td>\n",
              "      <td>1</td>\n",
              "      <td>3</td>\n",
              "      <td>5</td>\n",
              "      <td>12</td>\n",
              "      <td>12</td>\n",
              "      <td>17</td>\n",
              "      <td>17</td>\n",
              "      <td>19</td>\n",
              "      <td>20</td>\n",
              "      <td>20</td>\n",
              "      <td>20</td>\n",
              "      <td>24</td>\n",
              "      <td>26</td>\n",
              "      <td>37</td>\n",
              "      <td>48</td>\n",
              "      <td>54</td>\n",
              "      <td>60</td>\n",
              "      <td>74</td>\n",
              "      <td>87</td>\n",
              "      <td>90</td>\n",
              "      <td>139</td>\n",
              "      <td>201</td>\n",
              "      <td>230</td>\n",
              "      <td>264</td>\n",
              "      <td>302</td>\n",
              "      <td>367</td>\n",
              "      <td>409</td>\n",
              "      <td>454</td>\n",
              "      <td>511</td>\n",
              "      <td>584</td>\n",
              "      <td>716</td>\n",
              "      <td>847</td>\n",
              "    </tr>\n",
              "    <tr>\n",
              "      <th>3</th>\n",
              "      <td>AD</td>\n",
              "      <td>Andorra</td>\n",
              "      <td>164</td>\n",
              "      <td>NaN</td>\n",
              "      <td>470</td>\n",
              "      <td>NaN</td>\n",
              "      <td>NaN</td>\n",
              "      <td>77265</td>\n",
              "      <td>0.88</td>\n",
              "      <td>0.0000</td>\n",
              "      <td>42.5063</td>\n",
              "      <td>1.5218</td>\n",
              "      <td>0</td>\n",
              "      <td>0</td>\n",
              "      <td>0</td>\n",
              "      <td>0</td>\n",
              "      <td>0</td>\n",
              "      <td>0</td>\n",
              "      <td>0</td>\n",
              "      <td>0</td>\n",
              "      <td>0</td>\n",
              "      <td>0</td>\n",
              "      <td>0</td>\n",
              "      <td>0</td>\n",
              "      <td>0</td>\n",
              "      <td>0</td>\n",
              "      <td>0</td>\n",
              "      <td>0</td>\n",
              "      <td>0</td>\n",
              "      <td>0</td>\n",
              "      <td>0</td>\n",
              "      <td>0</td>\n",
              "      <td>0</td>\n",
              "      <td>0</td>\n",
              "      <td>0</td>\n",
              "      <td>0</td>\n",
              "      <td>0</td>\n",
              "      <td>0</td>\n",
              "      <td>0</td>\n",
              "      <td>0</td>\n",
              "      <td>...</td>\n",
              "      <td>0</td>\n",
              "      <td>0</td>\n",
              "      <td>0</td>\n",
              "      <td>0</td>\n",
              "      <td>0</td>\n",
              "      <td>0</td>\n",
              "      <td>0</td>\n",
              "      <td>0</td>\n",
              "      <td>0</td>\n",
              "      <td>1</td>\n",
              "      <td>1</td>\n",
              "      <td>1</td>\n",
              "      <td>1</td>\n",
              "      <td>1</td>\n",
              "      <td>1</td>\n",
              "      <td>1</td>\n",
              "      <td>1</td>\n",
              "      <td>1</td>\n",
              "      <td>1</td>\n",
              "      <td>1</td>\n",
              "      <td>1</td>\n",
              "      <td>1</td>\n",
              "      <td>1</td>\n",
              "      <td>2</td>\n",
              "      <td>39</td>\n",
              "      <td>39</td>\n",
              "      <td>53</td>\n",
              "      <td>75</td>\n",
              "      <td>88</td>\n",
              "      <td>113</td>\n",
              "      <td>133</td>\n",
              "      <td>164</td>\n",
              "      <td>188</td>\n",
              "      <td>224</td>\n",
              "      <td>267</td>\n",
              "      <td>308</td>\n",
              "      <td>334</td>\n",
              "      <td>370</td>\n",
              "      <td>376</td>\n",
              "      <td>390</td>\n",
              "    </tr>\n",
              "    <tr>\n",
              "      <th>4</th>\n",
              "      <td>AO</td>\n",
              "      <td>Angola</td>\n",
              "      <td>26</td>\n",
              "      <td>5.6</td>\n",
              "      <td>1246700</td>\n",
              "      <td>17.0</td>\n",
              "      <td>6413.0</td>\n",
              "      <td>32866272</td>\n",
              "      <td>0.67</td>\n",
              "      <td>0.0042</td>\n",
              "      <td>-11.2027</td>\n",
              "      <td>17.8739</td>\n",
              "      <td>0</td>\n",
              "      <td>0</td>\n",
              "      <td>0</td>\n",
              "      <td>0</td>\n",
              "      <td>0</td>\n",
              "      <td>0</td>\n",
              "      <td>0</td>\n",
              "      <td>0</td>\n",
              "      <td>0</td>\n",
              "      <td>0</td>\n",
              "      <td>0</td>\n",
              "      <td>0</td>\n",
              "      <td>0</td>\n",
              "      <td>0</td>\n",
              "      <td>0</td>\n",
              "      <td>0</td>\n",
              "      <td>0</td>\n",
              "      <td>0</td>\n",
              "      <td>0</td>\n",
              "      <td>0</td>\n",
              "      <td>0</td>\n",
              "      <td>0</td>\n",
              "      <td>0</td>\n",
              "      <td>0</td>\n",
              "      <td>0</td>\n",
              "      <td>0</td>\n",
              "      <td>0</td>\n",
              "      <td>0</td>\n",
              "      <td>...</td>\n",
              "      <td>0</td>\n",
              "      <td>0</td>\n",
              "      <td>0</td>\n",
              "      <td>0</td>\n",
              "      <td>0</td>\n",
              "      <td>0</td>\n",
              "      <td>0</td>\n",
              "      <td>0</td>\n",
              "      <td>0</td>\n",
              "      <td>0</td>\n",
              "      <td>0</td>\n",
              "      <td>0</td>\n",
              "      <td>0</td>\n",
              "      <td>0</td>\n",
              "      <td>0</td>\n",
              "      <td>0</td>\n",
              "      <td>0</td>\n",
              "      <td>0</td>\n",
              "      <td>0</td>\n",
              "      <td>0</td>\n",
              "      <td>0</td>\n",
              "      <td>0</td>\n",
              "      <td>0</td>\n",
              "      <td>0</td>\n",
              "      <td>0</td>\n",
              "      <td>0</td>\n",
              "      <td>0</td>\n",
              "      <td>1</td>\n",
              "      <td>2</td>\n",
              "      <td>2</td>\n",
              "      <td>3</td>\n",
              "      <td>3</td>\n",
              "      <td>3</td>\n",
              "      <td>4</td>\n",
              "      <td>4</td>\n",
              "      <td>5</td>\n",
              "      <td>7</td>\n",
              "      <td>7</td>\n",
              "      <td>7</td>\n",
              "      <td>8</td>\n",
              "    </tr>\n",
              "    <tr>\n",
              "      <th>...</th>\n",
              "      <td>...</td>\n",
              "      <td>...</td>\n",
              "      <td>...</td>\n",
              "      <td>...</td>\n",
              "      <td>...</td>\n",
              "      <td>...</td>\n",
              "      <td>...</td>\n",
              "      <td>...</td>\n",
              "      <td>...</td>\n",
              "      <td>...</td>\n",
              "      <td>...</td>\n",
              "      <td>...</td>\n",
              "      <td>...</td>\n",
              "      <td>...</td>\n",
              "      <td>...</td>\n",
              "      <td>...</td>\n",
              "      <td>...</td>\n",
              "      <td>...</td>\n",
              "      <td>...</td>\n",
              "      <td>...</td>\n",
              "      <td>...</td>\n",
              "      <td>...</td>\n",
              "      <td>...</td>\n",
              "      <td>...</td>\n",
              "      <td>...</td>\n",
              "      <td>...</td>\n",
              "      <td>...</td>\n",
              "      <td>...</td>\n",
              "      <td>...</td>\n",
              "      <td>...</td>\n",
              "      <td>...</td>\n",
              "      <td>...</td>\n",
              "      <td>...</td>\n",
              "      <td>...</td>\n",
              "      <td>...</td>\n",
              "      <td>...</td>\n",
              "      <td>...</td>\n",
              "      <td>...</td>\n",
              "      <td>...</td>\n",
              "      <td>...</td>\n",
              "      <td>...</td>\n",
              "      <td>...</td>\n",
              "      <td>...</td>\n",
              "      <td>...</td>\n",
              "      <td>...</td>\n",
              "      <td>...</td>\n",
              "      <td>...</td>\n",
              "      <td>...</td>\n",
              "      <td>...</td>\n",
              "      <td>...</td>\n",
              "      <td>...</td>\n",
              "      <td>...</td>\n",
              "      <td>...</td>\n",
              "      <td>...</td>\n",
              "      <td>...</td>\n",
              "      <td>...</td>\n",
              "      <td>...</td>\n",
              "      <td>...</td>\n",
              "      <td>...</td>\n",
              "      <td>...</td>\n",
              "      <td>...</td>\n",
              "      <td>...</td>\n",
              "      <td>...</td>\n",
              "      <td>...</td>\n",
              "      <td>...</td>\n",
              "      <td>...</td>\n",
              "      <td>...</td>\n",
              "      <td>...</td>\n",
              "      <td>...</td>\n",
              "      <td>...</td>\n",
              "      <td>...</td>\n",
              "      <td>...</td>\n",
              "      <td>...</td>\n",
              "      <td>...</td>\n",
              "      <td>...</td>\n",
              "      <td>...</td>\n",
              "      <td>...</td>\n",
              "      <td>...</td>\n",
              "      <td>...</td>\n",
              "      <td>...</td>\n",
              "      <td>...</td>\n",
              "    </tr>\n",
              "    <tr>\n",
              "      <th>164</th>\n",
              "      <td>BF</td>\n",
              "      <td>Burkina Faso</td>\n",
              "      <td>76</td>\n",
              "      <td>5.2</td>\n",
              "      <td>273600</td>\n",
              "      <td>18.0</td>\n",
              "      <td>-25000.0</td>\n",
              "      <td>20903273</td>\n",
              "      <td>0.31</td>\n",
              "      <td>0.0027</td>\n",
              "      <td>12.2383</td>\n",
              "      <td>-1.5616</td>\n",
              "      <td>0</td>\n",
              "      <td>0</td>\n",
              "      <td>0</td>\n",
              "      <td>0</td>\n",
              "      <td>0</td>\n",
              "      <td>0</td>\n",
              "      <td>0</td>\n",
              "      <td>0</td>\n",
              "      <td>0</td>\n",
              "      <td>0</td>\n",
              "      <td>0</td>\n",
              "      <td>0</td>\n",
              "      <td>0</td>\n",
              "      <td>0</td>\n",
              "      <td>0</td>\n",
              "      <td>0</td>\n",
              "      <td>0</td>\n",
              "      <td>0</td>\n",
              "      <td>0</td>\n",
              "      <td>0</td>\n",
              "      <td>0</td>\n",
              "      <td>0</td>\n",
              "      <td>0</td>\n",
              "      <td>0</td>\n",
              "      <td>0</td>\n",
              "      <td>0</td>\n",
              "      <td>0</td>\n",
              "      <td>0</td>\n",
              "      <td>...</td>\n",
              "      <td>0</td>\n",
              "      <td>0</td>\n",
              "      <td>0</td>\n",
              "      <td>0</td>\n",
              "      <td>0</td>\n",
              "      <td>0</td>\n",
              "      <td>0</td>\n",
              "      <td>0</td>\n",
              "      <td>0</td>\n",
              "      <td>0</td>\n",
              "      <td>0</td>\n",
              "      <td>0</td>\n",
              "      <td>0</td>\n",
              "      <td>0</td>\n",
              "      <td>0</td>\n",
              "      <td>0</td>\n",
              "      <td>0</td>\n",
              "      <td>1</td>\n",
              "      <td>2</td>\n",
              "      <td>2</td>\n",
              "      <td>2</td>\n",
              "      <td>2</td>\n",
              "      <td>3</td>\n",
              "      <td>15</td>\n",
              "      <td>15</td>\n",
              "      <td>20</td>\n",
              "      <td>33</td>\n",
              "      <td>40</td>\n",
              "      <td>64</td>\n",
              "      <td>75</td>\n",
              "      <td>99</td>\n",
              "      <td>114</td>\n",
              "      <td>146</td>\n",
              "      <td>152</td>\n",
              "      <td>180</td>\n",
              "      <td>207</td>\n",
              "      <td>222</td>\n",
              "      <td>246</td>\n",
              "      <td>261</td>\n",
              "      <td>282</td>\n",
              "    </tr>\n",
              "    <tr>\n",
              "      <th>165</th>\n",
              "      <td>UY</td>\n",
              "      <td>Uruguay</td>\n",
              "      <td>20</td>\n",
              "      <td>2.0</td>\n",
              "      <td>175020</td>\n",
              "      <td>36.0</td>\n",
              "      <td>-3000.0</td>\n",
              "      <td>3473730</td>\n",
              "      <td>0.96</td>\n",
              "      <td>0.0004</td>\n",
              "      <td>-32.5228</td>\n",
              "      <td>-55.7658</td>\n",
              "      <td>0</td>\n",
              "      <td>0</td>\n",
              "      <td>0</td>\n",
              "      <td>0</td>\n",
              "      <td>0</td>\n",
              "      <td>0</td>\n",
              "      <td>0</td>\n",
              "      <td>0</td>\n",
              "      <td>0</td>\n",
              "      <td>0</td>\n",
              "      <td>0</td>\n",
              "      <td>0</td>\n",
              "      <td>0</td>\n",
              "      <td>0</td>\n",
              "      <td>0</td>\n",
              "      <td>0</td>\n",
              "      <td>0</td>\n",
              "      <td>0</td>\n",
              "      <td>0</td>\n",
              "      <td>0</td>\n",
              "      <td>0</td>\n",
              "      <td>0</td>\n",
              "      <td>0</td>\n",
              "      <td>0</td>\n",
              "      <td>0</td>\n",
              "      <td>0</td>\n",
              "      <td>0</td>\n",
              "      <td>0</td>\n",
              "      <td>...</td>\n",
              "      <td>0</td>\n",
              "      <td>0</td>\n",
              "      <td>0</td>\n",
              "      <td>0</td>\n",
              "      <td>0</td>\n",
              "      <td>0</td>\n",
              "      <td>0</td>\n",
              "      <td>0</td>\n",
              "      <td>0</td>\n",
              "      <td>0</td>\n",
              "      <td>0</td>\n",
              "      <td>0</td>\n",
              "      <td>0</td>\n",
              "      <td>0</td>\n",
              "      <td>0</td>\n",
              "      <td>0</td>\n",
              "      <td>0</td>\n",
              "      <td>0</td>\n",
              "      <td>0</td>\n",
              "      <td>0</td>\n",
              "      <td>0</td>\n",
              "      <td>4</td>\n",
              "      <td>4</td>\n",
              "      <td>8</td>\n",
              "      <td>29</td>\n",
              "      <td>50</td>\n",
              "      <td>79</td>\n",
              "      <td>94</td>\n",
              "      <td>110</td>\n",
              "      <td>158</td>\n",
              "      <td>162</td>\n",
              "      <td>162</td>\n",
              "      <td>189</td>\n",
              "      <td>217</td>\n",
              "      <td>238</td>\n",
              "      <td>274</td>\n",
              "      <td>304</td>\n",
              "      <td>310</td>\n",
              "      <td>338</td>\n",
              "      <td>338</td>\n",
              "    </tr>\n",
              "    <tr>\n",
              "      <th>166</th>\n",
              "      <td>UZ</td>\n",
              "      <td>Uzbekistan</td>\n",
              "      <td>79</td>\n",
              "      <td>2.4</td>\n",
              "      <td>425400</td>\n",
              "      <td>28.0</td>\n",
              "      <td>-8863.0</td>\n",
              "      <td>33469203</td>\n",
              "      <td>0.50</td>\n",
              "      <td>0.0043</td>\n",
              "      <td>41.3775</td>\n",
              "      <td>64.5853</td>\n",
              "      <td>0</td>\n",
              "      <td>0</td>\n",
              "      <td>0</td>\n",
              "      <td>0</td>\n",
              "      <td>0</td>\n",
              "      <td>0</td>\n",
              "      <td>0</td>\n",
              "      <td>0</td>\n",
              "      <td>0</td>\n",
              "      <td>0</td>\n",
              "      <td>0</td>\n",
              "      <td>0</td>\n",
              "      <td>0</td>\n",
              "      <td>0</td>\n",
              "      <td>0</td>\n",
              "      <td>0</td>\n",
              "      <td>0</td>\n",
              "      <td>0</td>\n",
              "      <td>0</td>\n",
              "      <td>0</td>\n",
              "      <td>0</td>\n",
              "      <td>0</td>\n",
              "      <td>0</td>\n",
              "      <td>0</td>\n",
              "      <td>0</td>\n",
              "      <td>0</td>\n",
              "      <td>0</td>\n",
              "      <td>0</td>\n",
              "      <td>...</td>\n",
              "      <td>0</td>\n",
              "      <td>0</td>\n",
              "      <td>0</td>\n",
              "      <td>0</td>\n",
              "      <td>0</td>\n",
              "      <td>0</td>\n",
              "      <td>0</td>\n",
              "      <td>0</td>\n",
              "      <td>0</td>\n",
              "      <td>0</td>\n",
              "      <td>0</td>\n",
              "      <td>0</td>\n",
              "      <td>0</td>\n",
              "      <td>0</td>\n",
              "      <td>0</td>\n",
              "      <td>0</td>\n",
              "      <td>0</td>\n",
              "      <td>0</td>\n",
              "      <td>0</td>\n",
              "      <td>0</td>\n",
              "      <td>0</td>\n",
              "      <td>0</td>\n",
              "      <td>1</td>\n",
              "      <td>6</td>\n",
              "      <td>10</td>\n",
              "      <td>15</td>\n",
              "      <td>23</td>\n",
              "      <td>33</td>\n",
              "      <td>43</td>\n",
              "      <td>43</td>\n",
              "      <td>46</td>\n",
              "      <td>50</td>\n",
              "      <td>60</td>\n",
              "      <td>75</td>\n",
              "      <td>88</td>\n",
              "      <td>104</td>\n",
              "      <td>144</td>\n",
              "      <td>149</td>\n",
              "      <td>172</td>\n",
              "      <td>181</td>\n",
              "    </tr>\n",
              "    <tr>\n",
              "      <th>167</th>\n",
              "      <td>VE</td>\n",
              "      <td>Venezuela</td>\n",
              "      <td>32</td>\n",
              "      <td>2.3</td>\n",
              "      <td>882050</td>\n",
              "      <td>30.0</td>\n",
              "      <td>-653249.0</td>\n",
              "      <td>28435940</td>\n",
              "      <td>NaN</td>\n",
              "      <td>0.0036</td>\n",
              "      <td>6.4238</td>\n",
              "      <td>-66.5897</td>\n",
              "      <td>0</td>\n",
              "      <td>0</td>\n",
              "      <td>0</td>\n",
              "      <td>0</td>\n",
              "      <td>0</td>\n",
              "      <td>0</td>\n",
              "      <td>0</td>\n",
              "      <td>0</td>\n",
              "      <td>0</td>\n",
              "      <td>0</td>\n",
              "      <td>0</td>\n",
              "      <td>0</td>\n",
              "      <td>0</td>\n",
              "      <td>0</td>\n",
              "      <td>0</td>\n",
              "      <td>0</td>\n",
              "      <td>0</td>\n",
              "      <td>0</td>\n",
              "      <td>0</td>\n",
              "      <td>0</td>\n",
              "      <td>0</td>\n",
              "      <td>0</td>\n",
              "      <td>0</td>\n",
              "      <td>0</td>\n",
              "      <td>0</td>\n",
              "      <td>0</td>\n",
              "      <td>0</td>\n",
              "      <td>0</td>\n",
              "      <td>...</td>\n",
              "      <td>0</td>\n",
              "      <td>0</td>\n",
              "      <td>0</td>\n",
              "      <td>0</td>\n",
              "      <td>0</td>\n",
              "      <td>0</td>\n",
              "      <td>0</td>\n",
              "      <td>0</td>\n",
              "      <td>0</td>\n",
              "      <td>0</td>\n",
              "      <td>0</td>\n",
              "      <td>0</td>\n",
              "      <td>0</td>\n",
              "      <td>0</td>\n",
              "      <td>0</td>\n",
              "      <td>0</td>\n",
              "      <td>0</td>\n",
              "      <td>0</td>\n",
              "      <td>0</td>\n",
              "      <td>0</td>\n",
              "      <td>0</td>\n",
              "      <td>2</td>\n",
              "      <td>10</td>\n",
              "      <td>17</td>\n",
              "      <td>33</td>\n",
              "      <td>36</td>\n",
              "      <td>42</td>\n",
              "      <td>42</td>\n",
              "      <td>70</td>\n",
              "      <td>70</td>\n",
              "      <td>77</td>\n",
              "      <td>84</td>\n",
              "      <td>91</td>\n",
              "      <td>107</td>\n",
              "      <td>107</td>\n",
              "      <td>119</td>\n",
              "      <td>119</td>\n",
              "      <td>135</td>\n",
              "      <td>135</td>\n",
              "      <td>143</td>\n",
              "    </tr>\n",
              "    <tr>\n",
              "      <th>168</th>\n",
              "      <td>ZM</td>\n",
              "      <td>Zambia</td>\n",
              "      <td>25</td>\n",
              "      <td>4.7</td>\n",
              "      <td>743390</td>\n",
              "      <td>18.0</td>\n",
              "      <td>-8000.0</td>\n",
              "      <td>18383955</td>\n",
              "      <td>0.45</td>\n",
              "      <td>0.0024</td>\n",
              "      <td>-15.4167</td>\n",
              "      <td>28.2833</td>\n",
              "      <td>0</td>\n",
              "      <td>0</td>\n",
              "      <td>0</td>\n",
              "      <td>0</td>\n",
              "      <td>0</td>\n",
              "      <td>0</td>\n",
              "      <td>0</td>\n",
              "      <td>0</td>\n",
              "      <td>0</td>\n",
              "      <td>0</td>\n",
              "      <td>0</td>\n",
              "      <td>0</td>\n",
              "      <td>0</td>\n",
              "      <td>0</td>\n",
              "      <td>0</td>\n",
              "      <td>0</td>\n",
              "      <td>0</td>\n",
              "      <td>0</td>\n",
              "      <td>0</td>\n",
              "      <td>0</td>\n",
              "      <td>0</td>\n",
              "      <td>0</td>\n",
              "      <td>0</td>\n",
              "      <td>0</td>\n",
              "      <td>0</td>\n",
              "      <td>0</td>\n",
              "      <td>0</td>\n",
              "      <td>0</td>\n",
              "      <td>...</td>\n",
              "      <td>0</td>\n",
              "      <td>0</td>\n",
              "      <td>0</td>\n",
              "      <td>0</td>\n",
              "      <td>0</td>\n",
              "      <td>0</td>\n",
              "      <td>0</td>\n",
              "      <td>0</td>\n",
              "      <td>0</td>\n",
              "      <td>0</td>\n",
              "      <td>0</td>\n",
              "      <td>0</td>\n",
              "      <td>0</td>\n",
              "      <td>0</td>\n",
              "      <td>0</td>\n",
              "      <td>0</td>\n",
              "      <td>0</td>\n",
              "      <td>0</td>\n",
              "      <td>0</td>\n",
              "      <td>0</td>\n",
              "      <td>0</td>\n",
              "      <td>0</td>\n",
              "      <td>0</td>\n",
              "      <td>0</td>\n",
              "      <td>0</td>\n",
              "      <td>2</td>\n",
              "      <td>2</td>\n",
              "      <td>2</td>\n",
              "      <td>2</td>\n",
              "      <td>3</td>\n",
              "      <td>3</td>\n",
              "      <td>3</td>\n",
              "      <td>12</td>\n",
              "      <td>16</td>\n",
              "      <td>22</td>\n",
              "      <td>28</td>\n",
              "      <td>29</td>\n",
              "      <td>35</td>\n",
              "      <td>35</td>\n",
              "      <td>36</td>\n",
              "    </tr>\n",
              "  </tbody>\n",
              "</table>\n",
              "<p>169 rows × 83 columns</p>\n",
              "</div>"
            ],
            "text/plain": [
              "    iso_alpha2     ccse_name  density  ...  3/30/20  3/31/20  4/1/20\n",
              "0           AF   Afghanistan       60  ...      170      174     237\n",
              "1           AL       Albania      105  ...      223      243     259\n",
              "2           DZ       Algeria       18  ...      584      716     847\n",
              "3           AD       Andorra      164  ...      370      376     390\n",
              "4           AO        Angola       26  ...        7        7       8\n",
              "..         ...           ...      ...  ...      ...      ...     ...\n",
              "164         BF  Burkina Faso       76  ...      246      261     282\n",
              "165         UY       Uruguay       20  ...      310      338     338\n",
              "166         UZ    Uzbekistan       79  ...      149      172     181\n",
              "167         VE     Venezuela       32  ...      135      135     143\n",
              "168         ZM        Zambia       25  ...       35       35      36\n",
              "\n",
              "[169 rows x 83 columns]"
            ]
          },
          "metadata": {
            "tags": []
          },
          "execution_count": 4
        }
      ]
    },
    {
      "cell_type": "markdown",
      "metadata": {
        "id": "v2gXwGZ-Js5u",
        "colab_type": "text"
      },
      "source": [
        "# Смотрим на первые страны"
      ]
    },
    {
      "cell_type": "code",
      "metadata": {
        "id": "TMVUPrvb_JYP",
        "colab_type": "code",
        "outputId": "821910b1-e07f-4e44-e56e-c4f6b01801a3",
        "colab": {
          "base_uri": "https://localhost:8080/",
          "height": 585
        }
      },
      "source": [
        "plt.rcParams['figure.figsize'] = [20, 10]\n",
        "data.iloc[:8].T.iloc[50:].plot()"
      ],
      "execution_count": 5,
      "outputs": [
        {
          "output_type": "execute_result",
          "data": {
            "text/plain": [
              "<matplotlib.axes._subplots.AxesSubplot at 0x7f0723e10e80>"
            ]
          },
          "metadata": {
            "tags": []
          },
          "execution_count": 5
        },
        {
          "output_type": "display_data",
          "data": {
            "image/png": "[encoded data removed]",
            "text/plain": [
              "<Figure size 1440x720 with 1 Axes>"
            ]
          },
          "metadata": {
            "tags": []
          }
        }
      ]
    },
    {
      "cell_type": "markdown",
      "metadata": {
        "id": "aWqa7oXAHPmJ",
        "colab_type": "text"
      },
      "source": [
        "# Представляем данные в виде, где каждой дате соответствует свой столбец"
      ]
    },
    {
      "cell_type": "code",
      "metadata": {
        "id": "aZyMgfcUSUIB",
        "colab_type": "code",
        "colab": {}
      },
      "source": [
        "#Каждый день на новой строке\n",
        "data_deaths = data_deaths.iloc[:,4:].stack().reset_index()\n",
        "data_deaths.columns = [\"ccse_name\",\"date\",\"deaths\"]\n",
        "data2 = data.iloc[:,4:].stack().reset_index()\n",
        "data2.columns = [\"ccse_name\",\"date\",\"confirmed\"]\n",
        "\n",
        "#Соединим смерти и заражения\n",
        "data2 = data2.merge(data_deaths, how = 'left', left_on=('ccse_name','date'), right_on=('ccse_name','date'))\n",
        "\n",
        "#Объединим с будущим\n",
        "data2 = pd.concat([data2, data_ans],ignore_index=True)\n",
        "\n",
        "#Добавим информацию о стране(плотность, население и тд)\n",
        "data2 = data2.merge(countries, how = 'right', left_on='ccse_name', right_on='ccse_name')\n",
        "\n",
        "#Удалим дни без больных\n",
        "data2 = data2[data2.confirmed != 0]"
      ],
      "execution_count": 0,
      "outputs": []
    },
    {
      "cell_type": "markdown",
      "metadata": {
        "id": "cP_K0n4zHt6z",
        "colab_type": "text"
      },
      "source": [
        "# Добавляем признак, количество дней от первого зараженного"
      ]
    },
    {
      "cell_type": "code",
      "metadata": {
        "id": "gF73ZobwHs-Z",
        "colab_type": "code",
        "outputId": "7c08c486-dad1-48dd-daba-630b641ecfa8",
        "colab": {
          "base_uri": "https://localhost:8080/",
          "height": 422
        }
      },
      "source": [
        "# Считаем дни от первого больного\n",
        "data2[\"date\"] = pd.to_datetime(data2.date)\n",
        "data2 = data2[(data2[\"date\"]<pd.to_datetime(\"2020-05-1\")) & ((data2[\"date\"]>pd.to_datetime(\"2020-04-1\")) | (data2.confirmed !=-1))]\n",
        "data4 = data2[[\"ccse_name\",\"date\"]].groupby(\"ccse_name\").min()\n",
        "data4.columns = [\"Date_min\"]\n",
        "data2 = data2.merge(data4, how = 'left', left_on='ccse_name', right_on='ccse_name')\n",
        "data2[\"days\"] = (data2.date - data2.Date_min).dt.days\n",
        "data2[\"days_mart\"] = (data2.date - pd.to_datetime(\"2020-03-1\")).dt.days\n",
        "data2.drop(['date','Date_min'], axis='columns',inplace=True)\n",
        "data2 = data2.dropna(axis='index', how='any')\n",
        "data2"
      ],
      "execution_count": 7,
      "outputs": [
        {
          "output_type": "execute_result",
          "data": {
            "text/html": [
              "<div>\n",
              "<style scoped>\n",
              "    .dataframe tbody tr th:only-of-type {\n",
              "        vertical-align: middle;\n",
              "    }\n",
              "\n",
              "    .dataframe tbody tr th {\n",
              "        vertical-align: top;\n",
              "    }\n",
              "\n",
              "    .dataframe thead th {\n",
              "        text-align: right;\n",
              "    }\n",
              "</style>\n",
              "<table border=\"1\" class=\"dataframe\">\n",
              "  <thead>\n",
              "    <tr style=\"text-align: right;\">\n",
              "      <th></th>\n",
              "      <th>ccse_name</th>\n",
              "      <th>confirmed</th>\n",
              "      <th>deaths</th>\n",
              "      <th>iso_alpha2</th>\n",
              "      <th>density</th>\n",
              "      <th>fertility_rate</th>\n",
              "      <th>land_area</th>\n",
              "      <th>median_age</th>\n",
              "      <th>migrants</th>\n",
              "      <th>population</th>\n",
              "      <th>urban_pop_rate</th>\n",
              "      <th>world_share</th>\n",
              "      <th>days</th>\n",
              "      <th>days_mart</th>\n",
              "    </tr>\n",
              "  </thead>\n",
              "  <tbody>\n",
              "    <tr>\n",
              "      <th>0</th>\n",
              "      <td>Afghanistan</td>\n",
              "      <td>1</td>\n",
              "      <td>0</td>\n",
              "      <td>AF</td>\n",
              "      <td>60</td>\n",
              "      <td>4.6</td>\n",
              "      <td>652860</td>\n",
              "      <td>18.0</td>\n",
              "      <td>-62920.0</td>\n",
              "      <td>38928346</td>\n",
              "      <td>0.25</td>\n",
              "      <td>0.0050</td>\n",
              "      <td>0</td>\n",
              "      <td>-6</td>\n",
              "    </tr>\n",
              "    <tr>\n",
              "      <th>1</th>\n",
              "      <td>Afghanistan</td>\n",
              "      <td>1</td>\n",
              "      <td>0</td>\n",
              "      <td>AF</td>\n",
              "      <td>60</td>\n",
              "      <td>4.6</td>\n",
              "      <td>652860</td>\n",
              "      <td>18.0</td>\n",
              "      <td>-62920.0</td>\n",
              "      <td>38928346</td>\n",
              "      <td>0.25</td>\n",
              "      <td>0.0050</td>\n",
              "      <td>1</td>\n",
              "      <td>-5</td>\n",
              "    </tr>\n",
              "    <tr>\n",
              "      <th>2</th>\n",
              "      <td>Afghanistan</td>\n",
              "      <td>1</td>\n",
              "      <td>0</td>\n",
              "      <td>AF</td>\n",
              "      <td>60</td>\n",
              "      <td>4.6</td>\n",
              "      <td>652860</td>\n",
              "      <td>18.0</td>\n",
              "      <td>-62920.0</td>\n",
              "      <td>38928346</td>\n",
              "      <td>0.25</td>\n",
              "      <td>0.0050</td>\n",
              "      <td>2</td>\n",
              "      <td>-4</td>\n",
              "    </tr>\n",
              "    <tr>\n",
              "      <th>3</th>\n",
              "      <td>Afghanistan</td>\n",
              "      <td>1</td>\n",
              "      <td>0</td>\n",
              "      <td>AF</td>\n",
              "      <td>60</td>\n",
              "      <td>4.6</td>\n",
              "      <td>652860</td>\n",
              "      <td>18.0</td>\n",
              "      <td>-62920.0</td>\n",
              "      <td>38928346</td>\n",
              "      <td>0.25</td>\n",
              "      <td>0.0050</td>\n",
              "      <td>3</td>\n",
              "      <td>-3</td>\n",
              "    </tr>\n",
              "    <tr>\n",
              "      <th>4</th>\n",
              "      <td>Afghanistan</td>\n",
              "      <td>1</td>\n",
              "      <td>0</td>\n",
              "      <td>AF</td>\n",
              "      <td>60</td>\n",
              "      <td>4.6</td>\n",
              "      <td>652860</td>\n",
              "      <td>18.0</td>\n",
              "      <td>-62920.0</td>\n",
              "      <td>38928346</td>\n",
              "      <td>0.25</td>\n",
              "      <td>0.0050</td>\n",
              "      <td>4</td>\n",
              "      <td>-2</td>\n",
              "    </tr>\n",
              "    <tr>\n",
              "      <th>...</th>\n",
              "      <td>...</td>\n",
              "      <td>...</td>\n",
              "      <td>...</td>\n",
              "      <td>...</td>\n",
              "      <td>...</td>\n",
              "      <td>...</td>\n",
              "      <td>...</td>\n",
              "      <td>...</td>\n",
              "      <td>...</td>\n",
              "      <td>...</td>\n",
              "      <td>...</td>\n",
              "      <td>...</td>\n",
              "      <td>...</td>\n",
              "      <td>...</td>\n",
              "    </tr>\n",
              "    <tr>\n",
              "      <th>10127</th>\n",
              "      <td>Zimbabwe</td>\n",
              "      <td>-1</td>\n",
              "      <td>-1</td>\n",
              "      <td>ZW</td>\n",
              "      <td>38</td>\n",
              "      <td>3.6</td>\n",
              "      <td>386850</td>\n",
              "      <td>19.0</td>\n",
              "      <td>-116858.0</td>\n",
              "      <td>14862924</td>\n",
              "      <td>0.38</td>\n",
              "      <td>0.0019</td>\n",
              "      <td>37</td>\n",
              "      <td>56</td>\n",
              "    </tr>\n",
              "    <tr>\n",
              "      <th>10128</th>\n",
              "      <td>Zimbabwe</td>\n",
              "      <td>-1</td>\n",
              "      <td>-1</td>\n",
              "      <td>ZW</td>\n",
              "      <td>38</td>\n",
              "      <td>3.6</td>\n",
              "      <td>386850</td>\n",
              "      <td>19.0</td>\n",
              "      <td>-116858.0</td>\n",
              "      <td>14862924</td>\n",
              "      <td>0.38</td>\n",
              "      <td>0.0019</td>\n",
              "      <td>38</td>\n",
              "      <td>57</td>\n",
              "    </tr>\n",
              "    <tr>\n",
              "      <th>10129</th>\n",
              "      <td>Zimbabwe</td>\n",
              "      <td>-1</td>\n",
              "      <td>-1</td>\n",
              "      <td>ZW</td>\n",
              "      <td>38</td>\n",
              "      <td>3.6</td>\n",
              "      <td>386850</td>\n",
              "      <td>19.0</td>\n",
              "      <td>-116858.0</td>\n",
              "      <td>14862924</td>\n",
              "      <td>0.38</td>\n",
              "      <td>0.0019</td>\n",
              "      <td>39</td>\n",
              "      <td>58</td>\n",
              "    </tr>\n",
              "    <tr>\n",
              "      <th>10130</th>\n",
              "      <td>Zimbabwe</td>\n",
              "      <td>-1</td>\n",
              "      <td>-1</td>\n",
              "      <td>ZW</td>\n",
              "      <td>38</td>\n",
              "      <td>3.6</td>\n",
              "      <td>386850</td>\n",
              "      <td>19.0</td>\n",
              "      <td>-116858.0</td>\n",
              "      <td>14862924</td>\n",
              "      <td>0.38</td>\n",
              "      <td>0.0019</td>\n",
              "      <td>40</td>\n",
              "      <td>59</td>\n",
              "    </tr>\n",
              "    <tr>\n",
              "      <th>10131</th>\n",
              "      <td>Zimbabwe</td>\n",
              "      <td>-1</td>\n",
              "      <td>-1</td>\n",
              "      <td>ZW</td>\n",
              "      <td>38</td>\n",
              "      <td>3.6</td>\n",
              "      <td>386850</td>\n",
              "      <td>19.0</td>\n",
              "      <td>-116858.0</td>\n",
              "      <td>14862924</td>\n",
              "      <td>0.38</td>\n",
              "      <td>0.0019</td>\n",
              "      <td>41</td>\n",
              "      <td>60</td>\n",
              "    </tr>\n",
              "  </tbody>\n",
              "</table>\n",
              "<p>9560 rows × 14 columns</p>\n",
              "</div>"
            ],
            "text/plain": [
              "         ccse_name  confirmed  deaths  ... world_share  days  days_mart\n",
              "0      Afghanistan          1       0  ...      0.0050     0         -6\n",
              "1      Afghanistan          1       0  ...      0.0050     1         -5\n",
              "2      Afghanistan          1       0  ...      0.0050     2         -4\n",
              "3      Afghanistan          1       0  ...      0.0050     3         -3\n",
              "4      Afghanistan          1       0  ...      0.0050     4         -2\n",
              "...            ...        ...     ...  ...         ...   ...        ...\n",
              "10127     Zimbabwe         -1      -1  ...      0.0019    37         56\n",
              "10128     Zimbabwe         -1      -1  ...      0.0019    38         57\n",
              "10129     Zimbabwe         -1      -1  ...      0.0019    39         58\n",
              "10130     Zimbabwe         -1      -1  ...      0.0019    40         59\n",
              "10131     Zimbabwe         -1      -1  ...      0.0019    41         60\n",
              "\n",
              "[9560 rows x 14 columns]"
            ]
          },
          "metadata": {
            "tags": []
          },
          "execution_count": 7
        }
      ]
    },
    {
      "cell_type": "markdown",
      "metadata": {
        "id": "rgQAinJNj4HU",
        "colab_type": "text"
      },
      "source": [
        "# Добавить данные за прошлый день"
      ]
    },
    {
      "cell_type": "code",
      "metadata": {
        "id": "okBJhPd2jyGB",
        "colab_type": "code",
        "outputId": "7476999c-2ccf-4e9b-8538-2287512afd87",
        "colab": {
          "base_uri": "https://localhost:8080/",
          "height": 118
        }
      },
      "source": [
        "old_con = data2[\"confirmed\"].iloc[:-1]\n",
        "old_con2 = data2[\"deaths\"].iloc[:-1]\n",
        "data2 = data2.iloc[1:]\n",
        "data2[\"pred_conf\"] = old_con.values"
      ],
      "execution_count": 10,
      "outputs": [
        {
          "output_type": "stream",
          "text": [
            "/usr/local/lib/python3.6/dist-packages/ipykernel_launcher.py:4: SettingWithCopyWarning: \n",
            "A value is trying to be set on a copy of a slice from a DataFrame.\n",
            "Try using .loc[row_indexer,col_indexer] = value instead\n",
            "\n",
            "See the caveats in the documentation: https://pandas.pydata.org/pandas-docs/stable/user_guide/indexing.html#returning-a-view-versus-a-copy\n",
            "  after removing the cwd from sys.path.\n"
          ],
          "name": "stderr"
        }
      ]
    },
    {
      "cell_type": "markdown",
      "metadata": {
        "id": "LDR-u7ggH5Gz",
        "colab_type": "text"
      },
      "source": [
        "# Отделяем данные на трейн и тест"
      ]
    },
    {
      "cell_type": "code",
      "metadata": {
        "id": "PQy31qWKbapT",
        "colab_type": "code",
        "outputId": "ec53912a-ab32-4828-dda0-66ad805258fa",
        "colab": {
          "base_uri": "https://localhost:8080/",
          "height": 402
        }
      },
      "source": [
        "#Выберите день начала приватных данных\n",
        "days_x = 25\n",
        "\n",
        "#Удаляем ненужные фичи\n",
        "#data3 = data2.drop(['world_share','urban_pop_rate','population', 'migrants','median_age','land_area','fertility_rate','density'], axis='columns')\n",
        "data3 = data2.drop(['world_share', 'migrants','median_age','land_area','fertility_rate','density'], axis='columns')\n",
        "#data3 = data2.drop(['delta_deaths2','delta_deaths1','pred_deaths'], axis='columns')\n",
        "data3.population = data3.population/10**6\n",
        "\n",
        "#Представляем страны в one_hot\n",
        "#one_hot = pd.get_dummies(data3['iso_alpha2'])\n",
        "#data3 = data3.join(one_hot)\n",
        "\n",
        "#Отделяем пару стран на тест\n",
        "data_France = data3[(data3.ccse_name == 'France') & (data3.confirmed > 0)]\n",
        "data_Russia = data3[(data3.ccse_name == 'Russia') & (data3.confirmed > 0)]\n",
        "\n",
        "#Приватные данные\n",
        "new_data = data3[data2.days_mart >= days_x]\n",
        "old_data = data3[data2.days_mart < days_x]\n",
        "old_data = old_data[(old_data.ccse_name != 'Russia')&(old_data.ccse_name != 'France')]\n",
        "\n",
        "#Логорифмируем предсказания\n",
        "#old_data[\"confirmed\"] = log(old_data.confirmed) \n",
        "\n",
        "#Убираем ответ из данных\n",
        "train_labels = old_data.confirmed\n",
        "train_death = old_data.deaths\n",
        "train_data = old_data.drop(['iso_alpha2','confirmed','ccse_name','deaths'], axis='columns')\n",
        "train_data"
      ],
      "execution_count": 11,
      "outputs": [
        {
          "output_type": "execute_result",
          "data": {
            "text/html": [
              "<div>\n",
              "<style scoped>\n",
              "    .dataframe tbody tr th:only-of-type {\n",
              "        vertical-align: middle;\n",
              "    }\n",
              "\n",
              "    .dataframe tbody tr th {\n",
              "        vertical-align: top;\n",
              "    }\n",
              "\n",
              "    .dataframe thead th {\n",
              "        text-align: right;\n",
              "    }\n",
              "</style>\n",
              "<table border=\"1\" class=\"dataframe\">\n",
              "  <thead>\n",
              "    <tr style=\"text-align: right;\">\n",
              "      <th></th>\n",
              "      <th>population</th>\n",
              "      <th>urban_pop_rate</th>\n",
              "      <th>days</th>\n",
              "      <th>days_mart</th>\n",
              "      <th>pred_conf</th>\n",
              "      <th>pred_deaths</th>\n",
              "      <th>delta_conf1</th>\n",
              "      <th>delta_deaths1</th>\n",
              "    </tr>\n",
              "  </thead>\n",
              "  <tbody>\n",
              "    <tr>\n",
              "      <th>3</th>\n",
              "      <td>38.928346</td>\n",
              "      <td>0.25</td>\n",
              "      <td>3</td>\n",
              "      <td>-3</td>\n",
              "      <td>1</td>\n",
              "      <td>0</td>\n",
              "      <td>0</td>\n",
              "      <td>0</td>\n",
              "    </tr>\n",
              "    <tr>\n",
              "      <th>4</th>\n",
              "      <td>38.928346</td>\n",
              "      <td>0.25</td>\n",
              "      <td>4</td>\n",
              "      <td>-2</td>\n",
              "      <td>1</td>\n",
              "      <td>0</td>\n",
              "      <td>0</td>\n",
              "      <td>0</td>\n",
              "    </tr>\n",
              "    <tr>\n",
              "      <th>5</th>\n",
              "      <td>38.928346</td>\n",
              "      <td>0.25</td>\n",
              "      <td>5</td>\n",
              "      <td>-1</td>\n",
              "      <td>1</td>\n",
              "      <td>0</td>\n",
              "      <td>0</td>\n",
              "      <td>0</td>\n",
              "    </tr>\n",
              "    <tr>\n",
              "      <th>6</th>\n",
              "      <td>38.928346</td>\n",
              "      <td>0.25</td>\n",
              "      <td>6</td>\n",
              "      <td>0</td>\n",
              "      <td>1</td>\n",
              "      <td>0</td>\n",
              "      <td>0</td>\n",
              "      <td>0</td>\n",
              "    </tr>\n",
              "    <tr>\n",
              "      <th>7</th>\n",
              "      <td>38.928346</td>\n",
              "      <td>0.25</td>\n",
              "      <td>7</td>\n",
              "      <td>1</td>\n",
              "      <td>1</td>\n",
              "      <td>0</td>\n",
              "      <td>0</td>\n",
              "      <td>0</td>\n",
              "    </tr>\n",
              "    <tr>\n",
              "      <th>...</th>\n",
              "      <td>...</td>\n",
              "      <td>...</td>\n",
              "      <td>...</td>\n",
              "      <td>...</td>\n",
              "      <td>...</td>\n",
              "      <td>...</td>\n",
              "      <td>...</td>\n",
              "      <td>...</td>\n",
              "    </tr>\n",
              "    <tr>\n",
              "      <th>10091</th>\n",
              "      <td>14.862924</td>\n",
              "      <td>0.38</td>\n",
              "      <td>1</td>\n",
              "      <td>20</td>\n",
              "      <td>1</td>\n",
              "      <td>0</td>\n",
              "      <td>2</td>\n",
              "      <td>1</td>\n",
              "    </tr>\n",
              "    <tr>\n",
              "      <th>10092</th>\n",
              "      <td>14.862924</td>\n",
              "      <td>0.38</td>\n",
              "      <td>2</td>\n",
              "      <td>21</td>\n",
              "      <td>3</td>\n",
              "      <td>0</td>\n",
              "      <td>2</td>\n",
              "      <td>0</td>\n",
              "    </tr>\n",
              "    <tr>\n",
              "      <th>10093</th>\n",
              "      <td>14.862924</td>\n",
              "      <td>0.38</td>\n",
              "      <td>3</td>\n",
              "      <td>22</td>\n",
              "      <td>3</td>\n",
              "      <td>0</td>\n",
              "      <td>0</td>\n",
              "      <td>0</td>\n",
              "    </tr>\n",
              "    <tr>\n",
              "      <th>10094</th>\n",
              "      <td>14.862924</td>\n",
              "      <td>0.38</td>\n",
              "      <td>4</td>\n",
              "      <td>23</td>\n",
              "      <td>3</td>\n",
              "      <td>1</td>\n",
              "      <td>0</td>\n",
              "      <td>1</td>\n",
              "    </tr>\n",
              "    <tr>\n",
              "      <th>10095</th>\n",
              "      <td>14.862924</td>\n",
              "      <td>0.38</td>\n",
              "      <td>5</td>\n",
              "      <td>24</td>\n",
              "      <td>3</td>\n",
              "      <td>1</td>\n",
              "      <td>0</td>\n",
              "      <td>0</td>\n",
              "    </tr>\n",
              "  </tbody>\n",
              "</table>\n",
              "<p>3716 rows × 8 columns</p>\n",
              "</div>"
            ],
            "text/plain": [
              "       population  urban_pop_rate  ...  delta_conf1  delta_deaths1\n",
              "3       38.928346            0.25  ...            0              0\n",
              "4       38.928346            0.25  ...            0              0\n",
              "5       38.928346            0.25  ...            0              0\n",
              "6       38.928346            0.25  ...            0              0\n",
              "7       38.928346            0.25  ...            0              0\n",
              "...           ...             ...  ...          ...            ...\n",
              "10091   14.862924            0.38  ...            2              1\n",
              "10092   14.862924            0.38  ...            2              0\n",
              "10093   14.862924            0.38  ...            0              0\n",
              "10094   14.862924            0.38  ...            0              1\n",
              "10095   14.862924            0.38  ...            0              0\n",
              "\n",
              "[3716 rows x 8 columns]"
            ]
          },
          "metadata": {
            "tags": []
          },
          "execution_count": 11
        }
      ]
    },
    {
      "cell_type": "markdown",
      "metadata": {
        "id": "a9nszT9LOQBz",
        "colab_type": "text"
      },
      "source": [
        "# Предсказываем и строим графики"
      ]
    },
    {
      "cell_type": "code",
      "metadata": {
        "id": "39hRoy6ELjdH",
        "colab_type": "code",
        "colab": {}
      },
      "source": [
        "def plot_pred(model_name, data, exp_pr = False):\n",
        "  labels = data.confirmed\n",
        "  data = data.drop(['iso_alpha2','confirmed','ccse_name','deaths'], axis='columns')\n",
        "  if exp_pr:\n",
        "    data = scaler.transform(data)\n",
        "  predictions = model_name.predict(data)\n",
        "  print(metrics.mean_squared_error(labels, predictions))\n",
        "  #Строи графики\n",
        "  if exp_pr:\n",
        "    plt.plot(np.exp(predictions))\n",
        "  else:\n",
        "    plt.plot(predictions)\n",
        "  plt.plot(labels.values)"
      ],
      "execution_count": 0,
      "outputs": []
    },
    {
      "cell_type": "markdown",
      "metadata": {
        "id": "qqtiFQTAETF4",
        "colab_type": "text"
      },
      "source": [
        "# Обучаем Линейная регрессия"
      ]
    },
    {
      "cell_type": "code",
      "metadata": {
        "id": "_1Pyk7_MDqcj",
        "colab_type": "code",
        "outputId": "f607e7fc-da2d-4f5f-d82e-ee73a6ce1e24",
        "colab": {
          "base_uri": "https://localhost:8080/",
          "height": 50
        }
      },
      "source": [
        "# Масштабируем данные?\n",
        "scaler_data = True\n",
        "train_data_scaler = train_data\n",
        "if scaler_data:\n",
        "  scaler = preprocessing.StandardScaler()\n",
        "  scaler.fit(train_data)\n",
        "  train_data_scaler = scaler.transform(train_data)\n",
        "\n",
        "reg = linear_model.Ridge()\n",
        "reg.fit(train_data_scaler, np.log(train_labels))"
      ],
      "execution_count": 14,
      "outputs": [
        {
          "output_type": "execute_result",
          "data": {
            "text/plain": [
              "Ridge(alpha=1.0, copy_X=True, fit_intercept=True, max_iter=None,\n",
              "      normalize=False, random_state=None, solver='auto', tol=0.001)"
            ]
          },
          "metadata": {
            "tags": []
          },
          "execution_count": 14
        }
      ]
    },
    {
      "cell_type": "code",
      "metadata": {
        "id": "_4IShbqSEAx9",
        "colab_type": "code",
        "outputId": "f93c648b-72c2-4301-8679-02f902ffcbb9",
        "colab": {
          "base_uri": "https://localhost:8080/",
          "height": 585
        }
      },
      "source": [
        "#Предсказываем для России\n",
        "plot_pred(reg,data_Russia,True)\n"
      ],
      "execution_count": 17,
      "outputs": [
        {
          "output_type": "stream",
          "text": [
            "375912.8724406743\n"
          ],
          "name": "stdout"
        },
        {
          "output_type": "display_data",
          "data": {
            "image/png": "[encoded data removed]",
            "text/plain": [
              "<Figure size 1440x720 with 1 Axes>"
            ]
          },
          "metadata": {
            "tags": []
          }
        }
      ]
    },
    {
      "cell_type": "code",
      "metadata": {
        "id": "1d3N__a1EBb5",
        "colab_type": "code",
        "outputId": "832644b7-bc58-47ab-fd98-0ae1263c4b83",
        "colab": {
          "base_uri": "https://localhost:8080/",
          "height": 598
        }
      },
      "source": [
        "#Предсказываем для Франции\n",
        "plot_pred(reg,data_France,True)"
      ],
      "execution_count": 18,
      "outputs": [
        {
          "output_type": "stream",
          "text": [
            "229575332.71102273\n"
          ],
          "name": "stdout"
        },
        {
          "output_type": "display_data",
          "data": {
            "image/png": "[encoded data removed]",
            "text/plain": [
              "<Figure size 1440x720 with 1 Axes>"
            ]
          },
          "metadata": {
            "tags": []
          }
        }
      ]
    },
    {
      "cell_type": "markdown",
      "metadata": {
        "id": "-tEn5oOMHRCv",
        "colab_type": "text"
      },
      "source": [
        "# Обучаем Adaboost Regressor"
      ]
    },
    {
      "cell_type": "code",
      "metadata": {
        "id": "PABkIVDs5PKP",
        "colab_type": "code",
        "outputId": "07b05ddb-f72c-46d3-b26c-4b1b86a2306f",
        "colab": {
          "base_uri": "https://localhost:8080/",
          "height": 440
        }
      },
      "source": [
        "treeDepth = 10\n",
        "mdl = tree.DecisionTreeRegressor(max_depth=treeDepth)\n",
        "param_grid = {\n",
        "    'n_estimators': [100, 250, 500],\n",
        "    'learning_rate': [0.1, 0.01, 0.001]\n",
        "                }\n",
        "regrMdl = ensemble.AdaBoostRegressor(base_estimator=mdl)\n",
        "Ada = model_selection.RandomizedSearchCV(estimator = regrMdl, param_distributions = param_grid,\n",
        "                                      n_iter = 100, cv = 3, verbose=0, random_state=42, n_jobs = -1)\n",
        "Ada.fit(train_data, train_labels)"
      ],
      "execution_count": 19,
      "outputs": [
        {
          "output_type": "stream",
          "text": [
            "/usr/local/lib/python3.6/dist-packages/sklearn/model_selection/_search.py:281: UserWarning: The total space of parameters 9 is smaller than n_iter=100. Running 9 iterations. For exhaustive searches, use GridSearchCV.\n",
            "  % (grid_size, self.n_iter, grid_size), UserWarning)\n"
          ],
          "name": "stderr"
        },
        {
          "output_type": "execute_result",
          "data": {
            "text/plain": [
              "RandomizedSearchCV(cv=3, error_score=nan,\n",
              "                   estimator=AdaBoostRegressor(base_estimator=DecisionTreeRegressor(ccp_alpha=0.0,\n",
              "                                                                                    criterion='mse',\n",
              "                                                                                    max_depth=10,\n",
              "                                                                                    max_features=None,\n",
              "                                                                                    max_leaf_nodes=None,\n",
              "                                                                                    min_impurity_decrease=0.0,\n",
              "                                                                                    min_impurity_split=None,\n",
              "                                                                                    min_samples_leaf=1,\n",
              "                                                                                    min_samples_split=2,\n",
              "                                                                                    min_weight_fraction_leaf=0.0,\n",
              "                                                                                    presort='deprecated',\n",
              "                                                                                    random_state=None,\n",
              "                                                                                    splitter='best'),\n",
              "                                               learning_rate=1.0, loss='linear',\n",
              "                                               n_estimators=50,\n",
              "                                               random_state=None),\n",
              "                   iid='deprecated', n_iter=100, n_jobs=-1,\n",
              "                   param_distributions={'learning_rate': [0.1, 0.01, 0.001],\n",
              "                                        'n_estimators': [100, 250, 500]},\n",
              "                   pre_dispatch='2*n_jobs', random_state=42, refit=True,\n",
              "                   return_train_score=False, scoring=None, verbose=0)"
            ]
          },
          "metadata": {
            "tags": []
          },
          "execution_count": 19
        }
      ]
    },
    {
      "cell_type": "code",
      "metadata": {
        "id": "IDY1zVYn7cEd",
        "colab_type": "code",
        "outputId": "f4c438ce-1eaa-47b0-f842-3c534969adcc",
        "colab": {
          "base_uri": "https://localhost:8080/",
          "height": 585
        }
      },
      "source": [
        "#Предсказываем для России\n",
        "plot_pred(Ada,data_Russia)"
      ],
      "execution_count": 20,
      "outputs": [
        {
          "output_type": "stream",
          "text": [
            "1099.8944810674716\n"
          ],
          "name": "stdout"
        },
        {
          "output_type": "display_data",
          "data": {
            "image/png": "[encoded data removed]",
            "text/plain": [
              "<Figure size 1440x720 with 1 Axes>"
            ]
          },
          "metadata": {
            "tags": []
          }
        }
      ]
    },
    {
      "cell_type": "code",
      "metadata": {
        "id": "6T3WF-Fl5cXH",
        "colab_type": "code",
        "outputId": "d78e019f-cf56-411c-e0e7-32295d158b74",
        "colab": {
          "base_uri": "https://localhost:8080/",
          "height": 582
        }
      },
      "source": [
        "#Предсказываем для Франции\n",
        "plot_pred(Ada,data_France)"
      ],
      "execution_count": 21,
      "outputs": [
        {
          "output_type": "stream",
          "text": [
            "780372.9445172095\n"
          ],
          "name": "stdout"
        },
        {
          "output_type": "display_data",
          "data": {
            "image/png": "[encoded data removed]",
            "text/plain": [
              "<Figure size 1440x720 with 1 Axes>"
            ]
          },
          "metadata": {
            "tags": []
          }
        }
      ]
    },
    {
      "cell_type": "markdown",
      "metadata": {
        "id": "hX_q13KIISjO",
        "colab_type": "text"
      },
      "source": [
        "# Обучаем случайный лес"
      ]
    },
    {
      "cell_type": "code",
      "metadata": {
        "id": "vC2zFb_iVzL7",
        "colab_type": "code",
        "outputId": "ef609150-ae4f-40e7-ef54-de59581fa49f",
        "colab": {
          "base_uri": "https://localhost:8080/",
          "height": 151
        }
      },
      "source": [
        "#Обучаем случайный лес\n",
        "clf = ensemble.RandomForestClassifier(n_estimators=200, max_depth=30)\n",
        "clf.fit(train_data, train_labels)"
      ],
      "execution_count": 22,
      "outputs": [
        {
          "output_type": "execute_result",
          "data": {
            "text/plain": [
              "RandomForestClassifier(bootstrap=True, ccp_alpha=0.0, class_weight=None,\n",
              "                       criterion='gini', max_depth=30, max_features='auto',\n",
              "                       max_leaf_nodes=None, max_samples=None,\n",
              "                       min_impurity_decrease=0.0, min_impurity_split=None,\n",
              "                       min_samples_leaf=1, min_samples_split=2,\n",
              "                       min_weight_fraction_leaf=0.0, n_estimators=200,\n",
              "                       n_jobs=None, oob_score=False, random_state=None,\n",
              "                       verbose=0, warm_start=False)"
            ]
          },
          "metadata": {
            "tags": []
          },
          "execution_count": 22
        }
      ]
    },
    {
      "cell_type": "code",
      "metadata": {
        "id": "XwKDVAr3eNkg",
        "colab_type": "code",
        "outputId": "d74a878d-e9ff-4b3e-f51a-f24671ae7837",
        "colab": {
          "base_uri": "https://localhost:8080/",
          "height": 585
        }
      },
      "source": [
        "#Предсказываем для России\n",
        "plot_pred(clf,data_Russia)"
      ],
      "execution_count": 23,
      "outputs": [
        {
          "output_type": "stream",
          "text": [
            "780561.8387096775\n"
          ],
          "name": "stdout"
        },
        {
          "output_type": "display_data",
          "data": {
            "image/png": "[encoded data removed]",
            "text/plain": [
              "<Figure size 1440x720 with 1 Axes>"
            ]
          },
          "metadata": {
            "tags": []
          }
        }
      ]
    },
    {
      "cell_type": "code",
      "metadata": {
        "id": "cM0AiAbgeTCA",
        "colab_type": "code",
        "outputId": "7baab818-2e57-415c-9b51-5576a9570792",
        "colab": {
          "base_uri": "https://localhost:8080/",
          "height": 582
        }
      },
      "source": [
        "#Предсказываем для Франции\n",
        "plot_pred(clf,data_France)"
      ],
      "execution_count": 24,
      "outputs": [
        {
          "output_type": "stream",
          "text": [
            "65518758.57971015\n"
          ],
          "name": "stdout"
        },
        {
          "output_type": "display_data",
          "data": {
            "image/png": "[encoded data removed]",
            "text/plain": [
              "<Figure size 1440x720 with 1 Axes>"
            ]
          },
          "metadata": {
            "tags": []
          }
        }
      ]
    },
    {
      "cell_type": "markdown",
      "metadata": {
        "id": "uGCQujFoIZtt",
        "colab_type": "text"
      },
      "source": [
        "# Обучаем xgboost"
      ]
    },
    {
      "cell_type": "code",
      "metadata": {
        "id": "VKwSnk73ByTd",
        "colab_type": "code",
        "colab": {}
      },
      "source": [
        "modelXGB = xgb.XGBRegressor(objective ='reg:squarederror',n_estimators=1000).fit(train_data, train_labels)"
      ],
      "execution_count": 0,
      "outputs": []
    },
    {
      "cell_type": "code",
      "metadata": {
        "id": "_8PcDveZIh8U",
        "colab_type": "code",
        "outputId": "060f085e-8782-4bd6-b586-522be8da1050",
        "colab": {
          "base_uri": "https://localhost:8080/",
          "height": 586
        }
      },
      "source": [
        "#Предсказываем для России\n",
        "plot_pred(modelXGB,data_Russia)"
      ],
      "execution_count": 26,
      "outputs": [
        {
          "output_type": "stream",
          "text": [
            "1987.0289369764903\n"
          ],
          "name": "stdout"
        },
        {
          "output_type": "display_data",
          "data": {
            "image/png": "[encoded data removed]",
            "text/plain": [
              "<Figure size 1440x720 with 1 Axes>"
            ]
          },
          "metadata": {
            "tags": []
          }
        }
      ]
    },
    {
      "cell_type": "code",
      "metadata": {
        "id": "QywPEaoICsC0",
        "colab_type": "code",
        "outputId": "41f48c82-40a5-49a1-af46-9300723fe907",
        "colab": {
          "base_uri": "https://localhost:8080/",
          "height": 582
        }
      },
      "source": [
        "#Предсказываем для Франции\n",
        "plot_pred(modelXGB,data_France)"
      ],
      "execution_count": 27,
      "outputs": [
        {
          "output_type": "stream",
          "text": [
            "1505233.4877654188\n"
          ],
          "name": "stdout"
        },
        {
          "output_type": "display_data",
          "data": {
            "image/png": "[encoded data removed]",
            "text/plain": [
              "<Figure size 1440x720 with 1 Axes>"
            ]
          },
          "metadata": {
            "tags": []
          }
        }
      ]
    },
    {
      "cell_type": "markdown",
      "metadata": {
        "id": "7mK52KxpHbSN",
        "colab_type": "text"
      },
      "source": [
        "#Предсказываем новые данные"
      ]
    },
    {
      "cell_type": "code",
      "metadata": {
        "id": "3bQVsTWd3MWV",
        "colab_type": "code",
        "colab": {}
      },
      "source": [
        "# modelXGB , clf , Ada\n",
        "model_name = Ada\n",
        "new_data_list = new_data[new_data.days_mart == days_x]\n",
        "labels = new_data_list.iso_alpha2\n",
        "data = new_data_list.drop(['iso_alpha2','confirmed','ccse_name','deaths'], axis='columns')\n",
        "predictions = []\n",
        "for _ in range(25):\n",
        "  prediction = model_name.predict(data)\n",
        "  data[\"pred_conf\"] = prediction\n",
        "  data[[\"days_mart\", \"days\"]] += 1\n",
        "  predictions.append(prediction)\n",
        "Mat_pred = pd.DataFrame(predictions,columns = labels)\n"
      ],
      "execution_count": 0,
      "outputs": []
    },
    {
      "cell_type": "code",
      "metadata": {
        "id": "dvroko5V35hp",
        "colab_type": "code",
        "outputId": "989cc1a3-dd79-455b-ee16-755e3de47347",
        "colab": {
          "base_uri": "https://localhost:8080/",
          "height": 582
        }
      },
      "source": [
        "Country = 'FR'\n",
        "yyy2 = Mat_pred[Country]\n",
        "yyy = data2[(data2.iso_alpha2 == Country)&(data2.confirmed>0)&(data2.days_mart>=days_x - 10)]\n",
        "plt.plot(yyy.days_mart,yyy.confirmed)\n",
        "plt.plot(days_x + yyy2.index,yyy2)"
      ],
      "execution_count": 30,
      "outputs": [
        {
          "output_type": "execute_result",
          "data": {
            "text/plain": [
              "[<matplotlib.lines.Line2D at 0x7f071c0c03c8>]"
            ]
          },
          "metadata": {
            "tags": []
          },
          "execution_count": 30
        },
        {
          "output_type": "display_data",
          "data": {
            "image/png": "[encoded data removed]",
            "text/plain": [
              "<Figure size 1440x720 with 1 Axes>"
            ]
          },
          "metadata": {
            "tags": []
          }
        }
      ]
    },
    {
      "cell_type": "code",
      "metadata": {
        "id": "TVzBluTuQT7W",
        "colab_type": "code",
        "outputId": "2c7b3efe-f9e2-4006-bfbc-70d7bc3535fc",
        "colab": {
          "base_uri": "https://localhost:8080/",
          "height": 585
        }
      },
      "source": [
        "Country = 'RU'\n",
        "yyy2 = Mat_pred[Country]\n",
        "yyy = data2[(data2.iso_alpha2 == Country)&(data2.confirmed>0)&(data2.days_mart>=days_x - 10)]\n",
        "plt.plot(yyy.days_mart,yyy.confirmed)\n",
        "plt.plot(days_x + yyy2.index,yyy2)"
      ],
      "execution_count": 31,
      "outputs": [
        {
          "output_type": "execute_result",
          "data": {
            "text/plain": [
              "[<matplotlib.lines.Line2D at 0x7f071bef62b0>]"
            ]
          },
          "metadata": {
            "tags": []
          },
          "execution_count": 31
        },
        {
          "output_type": "display_data",
          "data": {
            "image/png": "[encoded data removed]",
            "text/plain": [
              "<Figure size 1440x720 with 1 Axes>"
            ]
          },
          "metadata": {
            "tags": []
          }
        }
      ]
    }
  ]
}