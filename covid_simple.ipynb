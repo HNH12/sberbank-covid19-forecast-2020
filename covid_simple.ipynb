{
  "nbformat": 4,
  "nbformat_minor": 0,
  "metadata": {
    "colab": {
      "name": "covid_simple.ipynb",
      "provenance": [],
      "collapsed_sections": [],
      "toc_visible": true,
      "machine_shape": "hm"
    },
    "kernelspec": {
      "name": "python3",
      "display_name": "Python 3"
    }
  },
  "cells": [
    {
      "cell_type": "markdown",
      "metadata": {
        "id": "LCs2Q5vvGiDM",
        "colab_type": "text"
      },
      "source": [
        "#Подключаем библиотеки и загружаем данные"
      ]
    },
    {
      "cell_type": "code",
      "metadata": {
        "id": "tLz0ubq_yI_r",
        "colab_type": "code",
        "outputId": "588de6a9-4d0d-4250-88c8-55d853fc58c9",
        "colab": {
          "base_uri": "https://localhost:8080/",
          "height": 323
        }
      },
      "source": [
        "!pip install catboost"
      ],
      "execution_count": 1,
      "outputs": [
        {
          "output_type": "stream",
          "text": [
            "Collecting catboost\n",
            "\u001b[?25l  Downloading https://files.pythonhosted.org/packages/b1/61/2b8106c8870601671d99ca94d8b8d180f2b740b7cdb95c930147508abcf9/catboost-0.23-cp36-none-manylinux1_x86_64.whl (64.7MB)\n",
            "\u001b[K     |████████████████████████████████| 64.8MB 60kB/s \n",
            "\u001b[?25hRequirement already satisfied: numpy>=1.16.0 in /usr/local/lib/python3.6/dist-packages (from catboost) (1.18.3)\n",
            "Requirement already satisfied: pandas>=0.24.0 in /usr/local/lib/python3.6/dist-packages (from catboost) (1.0.3)\n",
            "Requirement already satisfied: six in /usr/local/lib/python3.6/dist-packages (from catboost) (1.12.0)\n",
            "Requirement already satisfied: graphviz in /usr/local/lib/python3.6/dist-packages (from catboost) (0.10.1)\n",
            "Requirement already satisfied: matplotlib in /usr/local/lib/python3.6/dist-packages (from catboost) (3.2.1)\n",
            "Requirement already satisfied: plotly in /usr/local/lib/python3.6/dist-packages (from catboost) (4.4.1)\n",
            "Requirement already satisfied: scipy in /usr/local/lib/python3.6/dist-packages (from catboost) (1.4.1)\n",
            "Requirement already satisfied: pytz>=2017.2 in /usr/local/lib/python3.6/dist-packages (from pandas>=0.24.0->catboost) (2018.9)\n",
            "Requirement already satisfied: python-dateutil>=2.6.1 in /usr/local/lib/python3.6/dist-packages (from pandas>=0.24.0->catboost) (2.8.1)\n",
            "Requirement already satisfied: kiwisolver>=1.0.1 in /usr/local/lib/python3.6/dist-packages (from matplotlib->catboost) (1.2.0)\n",
            "Requirement already satisfied: cycler>=0.10 in /usr/local/lib/python3.6/dist-packages (from matplotlib->catboost) (0.10.0)\n",
            "Requirement already satisfied: pyparsing!=2.0.4,!=2.1.2,!=2.1.6,>=2.0.1 in /usr/local/lib/python3.6/dist-packages (from matplotlib->catboost) (2.4.7)\n",
            "Requirement already satisfied: retrying>=1.3.3 in /usr/local/lib/python3.6/dist-packages (from plotly->catboost) (1.3.3)\n",
            "Installing collected packages: catboost\n",
            "Successfully installed catboost-0.23\n"
          ],
          "name": "stdout"
        }
      ]
    },
    {
      "cell_type": "code",
      "metadata": {
        "id": "2JMyOSZ7bLoa",
        "colab_type": "code",
        "outputId": "61531f39-5ed3-4be8-8451-f72ce8e1723e",
        "colab": {
          "base_uri": "https://localhost:8080/",
          "height": 51
        }
      },
      "source": [
        "from sklearn import ensemble, model_selection, datasets, metrics, tree, linear_model, preprocessing \n",
        "from sklearn.neural_network import MLPRegressor\n",
        "\n",
        "from catboost import CatBoostRegressor\n",
        "\n",
        "import torch\n",
        "import torch.nn as nn\n",
        "import torch.nn.functional as F\n",
        "from torch.autograd import Variable\n",
        "import torch.optim as optim\n",
        "\n",
        "import tensorflow as tf\n",
        "from tensorflow import keras\n",
        "from tensorflow.keras import layers\n",
        "\n",
        "import lightgbm as lgb\n",
        "\n",
        "import xgboost as xgb\n",
        "\n",
        "import pandas as pd\n",
        "import matplotlib.pyplot as plt\n",
        "import seaborn as sns\n",
        "import numpy as np\n",
        "import random\n",
        "%matplotlib inline"
      ],
      "execution_count": 2,
      "outputs": [
        {
          "output_type": "stream",
          "text": [
            "/usr/local/lib/python3.6/dist-packages/statsmodels/tools/_testing.py:19: FutureWarning: pandas.util.testing is deprecated. Use the functions in the public API at pandas.testing instead.\n",
            "  import pandas.util.testing as tm\n"
          ],
          "name": "stderr"
        }
      ]
    },
    {
      "cell_type": "markdown",
      "metadata": {
        "id": "GBQ5OY9sVBkK",
        "colab_type": "text"
      },
      "source": [
        "## Данные по заражениям"
      ]
    },
    {
      "cell_type": "code",
      "metadata": {
        "id": "hjSHpNYZCUjY",
        "colab_type": "code",
        "outputId": "e92b575a-947c-4456-c92a-037148466b51",
        "colab": {
          "base_uri": "https://localhost:8080/",
          "height": 136
        }
      },
      "source": [
        "!git clone https://github.com/CSSEGISandData/COVID-19 -b web-data COVID-19-new"
      ],
      "execution_count": 3,
      "outputs": [
        {
          "output_type": "stream",
          "text": [
            "Cloning into 'COVID-19-new'...\n",
            "remote: Enumerating objects: 35, done.\u001b[K\n",
            "remote: Counting objects:   2% (1/35)\u001b[K\rremote: Counting objects:   5% (2/35)\u001b[K\rremote: Counting objects:   8% (3/35)\u001b[K\rremote: Counting objects:  11% (4/35)\u001b[K\rremote: Counting objects:  14% (5/35)\u001b[K\rremote: Counting objects:  17% (6/35)\u001b[K\rremote: Counting objects:  20% (7/35)\u001b[K\rremote: Counting objects:  22% (8/35)\u001b[K\rremote: Counting objects:  25% (9/35)\u001b[K\rremote: Counting objects:  28% (10/35)\u001b[K\rremote: Counting objects:  31% (11/35)\u001b[K\rremote: Counting objects:  34% (12/35)\u001b[K\rremote: Counting objects:  37% (13/35)\u001b[K\rremote: Counting objects:  40% (14/35)\u001b[K\rremote: Counting objects:  42% (15/35)\u001b[K\rremote: Counting objects:  45% (16/35)\u001b[K\rremote: Counting objects:  48% (17/35)\u001b[K\rremote: Counting objects:  51% (18/35)\u001b[K\rremote: Counting objects:  54% (19/35)\u001b[K\rremote: Counting objects:  57% (20/35)\u001b[K\rremote: Counting objects:  60% (21/35)\u001b[K\rremote: Counting objects:  62% (22/35)\u001b[K\rremote: Counting objects:  65% (23/35)\u001b[K\rremote: Counting objects:  68% (24/35)\u001b[K\rremote: Counting objects:  71% (25/35)\u001b[K\rremote: Counting objects:  74% (26/35)\u001b[K\rremote: Counting objects:  77% (27/35)\u001b[K\rremote: Counting objects:  80% (28/35)\u001b[K\rremote: Counting objects:  82% (29/35)\u001b[K\rremote: Counting objects:  85% (30/35)\u001b[K\rremote: Counting objects:  88% (31/35)\u001b[K\rremote: Counting objects:  91% (32/35)\u001b[K\rremote: Counting objects:  94% (33/35)\u001b[K\rremote: Counting objects:  97% (34/35)\u001b[K\rremote: Counting objects: 100% (35/35)\u001b[K\rremote: Counting objects: 100% (35/35), done.\u001b[K\n",
            "remote: Compressing objects:   5% (1/18)\u001b[K\rremote: Compressing objects:  11% (2/18)\u001b[K\rremote: Compressing objects:  16% (3/18)\u001b[K\rremote: Compressing objects:  22% (4/18)\u001b[K\rremote: Compressing objects:  27% (5/18)\u001b[K\rremote: Compressing objects:  33% (6/18)\u001b[K\rremote: Compressing objects:  38% (7/18)\u001b[K\rremote: Compressing objects:  44% (8/18)\u001b[K\rremote: Compressing objects:  50% (9/18)\u001b[K\rremote: Compressing objects:  55% (10/18)\u001b[K\rremote: Compressing objects:  61% (11/18)\u001b[K\rremote: Compressing objects:  66% (12/18)\u001b[K\rremote: Compressing objects:  72% (13/18)\u001b[K\rremote: Compressing objects:  77% (14/18)\u001b[K\rremote: Compressing objects:  83% (15/18)\u001b[K\rremote: Compressing objects:  88% (16/18)\u001b[K\rremote: Compressing objects:  94% (17/18)\u001b[K\rremote: Compressing objects: 100% (18/18)\u001b[K\rremote: Compressing objects: 100% (18/18), done.\u001b[K\n",
            "Receiving objects:   0% (1/24642)   \rReceiving objects:   1% (247/24642)   \rReceiving objects:   2% (493/24642)   \rReceiving objects:   3% (740/24642)   \rReceiving objects:   4% (986/24642)   \rReceiving objects:   5% (1233/24642)   \rReceiving objects:   6% (1479/24642)   \rReceiving objects:   7% (1725/24642)   \rReceiving objects:   8% (1972/24642)   \rReceiving objects:   9% (2218/24642)   \rReceiving objects:  10% (2465/24642)   \rReceiving objects:  11% (2711/24642)   \rReceiving objects:  12% (2958/24642)   \rReceiving objects:  13% (3204/24642)   \rReceiving objects:  14% (3450/24642)   \rReceiving objects:  15% (3697/24642)   \rReceiving objects:  16% (3943/24642)   \rReceiving objects:  17% (4190/24642)   \rReceiving objects:  18% (4436/24642), 2.04 MiB | 4.01 MiB/s   \rReceiving objects:  19% (4682/24642), 2.04 MiB | 4.01 MiB/s   \rReceiving objects:  19% (4924/24642), 2.04 MiB | 4.01 MiB/s   \rReceiving objects:  20% (4929/24642), 16.19 MiB | 15.79 MiB/s   \rReceiving objects:  20% (4968/24642), 34.63 MiB | 22.70 MiB/s   \rReceiving objects:  21% (5175/24642), 56.12 MiB | 27.71 MiB/s   \rReceiving objects:  22% (5422/24642), 56.12 MiB | 27.71 MiB/s   \rReceiving objects:  23% (5668/24642), 56.12 MiB | 27.71 MiB/s   \rReceiving objects:  24% (5915/24642), 72.26 MiB | 28.61 MiB/s   \rReceiving objects:  25% (6161/24642), 72.26 MiB | 28.61 MiB/s   \rReceiving objects:  26% (6407/24642), 72.26 MiB | 28.61 MiB/s   \rReceiving objects:  27% (6654/24642), 72.26 MiB | 28.61 MiB/s   \rReceiving objects:  28% (6900/24642), 72.26 MiB | 28.61 MiB/s   \rReceiving objects:  29% (7147/24642), 72.26 MiB | 28.61 MiB/s   \rReceiving objects:  30% (7393/24642), 72.26 MiB | 28.61 MiB/s   \rReceiving objects:  31% (7640/24642), 72.26 MiB | 28.61 MiB/s   \rReceiving objects:  32% (7886/24642), 72.26 MiB | 28.61 MiB/s   \rReceiving objects:  33% (8132/24642), 72.26 MiB | 28.61 MiB/s   \rReceiving objects:  34% (8379/24642), 72.26 MiB | 28.61 MiB/s   \rReceiving objects:  35% (8625/24642), 72.26 MiB | 28.61 MiB/s   \rReceiving objects:  36% (8872/24642), 72.26 MiB | 28.61 MiB/s   \rReceiving objects:  36% (8979/24642), 72.26 MiB | 28.61 MiB/s   \rReceiving objects:  37% (9118/24642), 88.12 MiB | 29.12 MiB/s   \rReceiving objects:  38% (9364/24642), 88.12 MiB | 29.12 MiB/s   \rReceiving objects:  39% (9611/24642), 88.12 MiB | 29.12 MiB/s   \rReceiving objects:  40% (9857/24642), 88.12 MiB | 29.12 MiB/s   \rReceiving objects:  41% (10104/24642), 88.12 MiB | 29.12 MiB/s   \rReceiving objects:  42% (10350/24642), 88.12 MiB | 29.12 MiB/s   \rReceiving objects:  43% (10597/24642), 88.12 MiB | 29.12 MiB/s   \rReceiving objects:  44% (10843/24642), 88.12 MiB | 29.12 MiB/s   \rReceiving objects:  45% (11089/24642), 88.12 MiB | 29.12 MiB/s   \rReceiving objects:  46% (11336/24642), 88.12 MiB | 29.12 MiB/s   \rReceiving objects:  47% (11582/24642), 88.12 MiB | 29.12 MiB/s   \rReceiving objects:  48% (11829/24642), 88.12 MiB | 29.12 MiB/s   \rReceiving objects:  49% (12075/24642), 88.12 MiB | 29.12 MiB/s   \rReceiving objects:  50% (12321/24642), 88.12 MiB | 29.12 MiB/s   \rReceiving objects:  51% (12568/24642), 88.12 MiB | 29.12 MiB/s   \rReceiving objects:  52% (12814/24642), 104.25 MiB | 29.57 MiB/s   \rReceiving objects:  53% (13061/24642), 104.25 MiB | 29.57 MiB/s   \rReceiving objects:  54% (13307/24642), 104.25 MiB | 29.57 MiB/s   \rReceiving objects:  55% (13554/24642), 104.25 MiB | 29.57 MiB/s   \rReceiving objects:  56% (13800/24642), 104.25 MiB | 29.57 MiB/s   \rReceiving objects:  57% (14046/24642), 104.25 MiB | 29.57 MiB/s   \rReceiving objects:  58% (14293/24642), 104.25 MiB | 29.57 MiB/s   \rReceiving objects:  59% (14539/24642), 104.25 MiB | 29.57 MiB/s   \rReceiving objects:  60% (14786/24642), 104.25 MiB | 29.57 MiB/s   \rReceiving objects:  61% (15032/24642), 104.25 MiB | 29.57 MiB/s   \rReceiving objects:  62% (15279/24642), 104.25 MiB | 29.57 MiB/s   \rReceiving objects:  63% (15525/24642), 104.25 MiB | 29.57 MiB/s   \rReceiving objects:  64% (15771/24642), 104.25 MiB | 29.57 MiB/s   \rReceiving objects:  65% (16018/24642), 104.25 MiB | 29.57 MiB/s   \rReceiving objects:  66% (16264/24642), 104.25 MiB | 29.57 MiB/s   \rReceiving objects:  67% (16511/24642), 104.25 MiB | 29.57 MiB/s   \rReceiving objects:  68% (16757/24642), 104.25 MiB | 29.57 MiB/s   \rReceiving objects:  69% (17003/24642), 104.25 MiB | 29.57 MiB/s   \rReceiving objects:  70% (17250/24642), 104.25 MiB | 29.57 MiB/s   \rReceiving objects:  71% (17496/24642), 104.25 MiB | 29.57 MiB/s   \rReceiving objects:  72% (17743/24642), 104.25 MiB | 29.57 MiB/s   \rReceiving objects:  73% (17989/24642), 104.25 MiB | 29.57 MiB/s   \rReceiving objects:  74% (18236/24642), 104.25 MiB | 29.57 MiB/s   \rReceiving objects:  75% (18482/24642), 104.25 MiB | 29.57 MiB/s   \rReceiving objects:  76% (18728/24642), 104.25 MiB | 29.57 MiB/s   \rReceiving objects:  77% (18975/24642), 104.25 MiB | 29.57 MiB/s   \rReceiving objects:  78% (19221/24642), 104.25 MiB | 29.57 MiB/s   \rReceiving objects:  79% (19468/24642), 104.25 MiB | 29.57 MiB/s   \rReceiving objects:  80% (19714/24642), 104.25 MiB | 29.57 MiB/s   \rReceiving objects:  81% (19961/24642), 104.25 MiB | 29.57 MiB/s   \rReceiving objects:  82% (20207/24642), 104.25 MiB | 29.57 MiB/s   \rReceiving objects:  83% (20453/24642), 104.25 MiB | 29.57 MiB/s   \rReceiving objects:  84% (20700/24642), 104.25 MiB | 29.57 MiB/s   \rReceiving objects:  85% (20946/24642), 104.25 MiB | 29.57 MiB/s   \rReceiving objects:  86% (21193/24642), 104.25 MiB | 29.57 MiB/s   \rReceiving objects:  87% (21439/24642), 104.25 MiB | 29.57 MiB/s   \rReceiving objects:  88% (21685/24642), 104.25 MiB | 29.57 MiB/s   \rReceiving objects:  89% (21932/24642), 104.25 MiB | 29.57 MiB/s   \rReceiving objects:  90% (22178/24642), 104.25 MiB | 29.57 MiB/s   \rReceiving objects:  91% (22425/24642), 104.25 MiB | 29.57 MiB/s   \rReceiving objects:  92% (22671/24642), 104.25 MiB | 29.57 MiB/s   \rReceiving objects:  93% (22918/24642), 104.25 MiB | 29.57 MiB/s   \rReceiving objects:  94% (23164/24642), 104.25 MiB | 29.57 MiB/s   \rReceiving objects:  95% (23410/24642), 104.25 MiB | 29.57 MiB/s   \rReceiving objects:  96% (23657/24642), 104.25 MiB | 29.57 MiB/s   \rReceiving objects:  97% (23903/24642), 104.25 MiB | 29.57 MiB/s   \rReceiving objects:  98% (24150/24642), 104.25 MiB | 29.57 MiB/s   \rReceiving objects:  99% (24396/24642), 104.25 MiB | 29.57 MiB/s   \rremote: Total 24642 (delta 20), reused 28 (delta 17), pack-reused 24607\u001b[K\n",
            "Receiving objects: 100% (24642/24642), 110.17 MiB | 29.65 MiB/s, done.\n",
            "Resolving deltas: 100% (13643/13643), done.\n"
          ],
          "name": "stdout"
        }
      ]
    },
    {
      "cell_type": "code",
      "metadata": {
        "id": "eEM4nwAcT-uj",
        "colab_type": "code",
        "outputId": "0ab4c97d-7dd7-4cf6-e88c-075859f66bd2",
        "colab": {
          "base_uri": "https://localhost:8080/",
          "height": 136
        }
      },
      "source": [
        "!git clone https://github.com/CSSEGISandData/COVID-19.git\n"
      ],
      "execution_count": 4,
      "outputs": [
        {
          "output_type": "stream",
          "text": [
            "Cloning into 'COVID-19'...\n",
            "remote: Enumerating objects: 35, done.\u001b[K\n",
            "remote: Counting objects: 100% (35/35), done.\u001b[K\n",
            "remote: Compressing objects: 100% (18/18), done.\u001b[K\n",
            "remote: Total 24642 (delta 20), reused 28 (delta 17), pack-reused 24607\u001b[K\n",
            "Receiving objects: 100% (24642/24642), 110.17 MiB | 31.67 MiB/s, done.\n",
            "Resolving deltas: 100% (13643/13643), done.\n"
          ],
          "name": "stdout"
        }
      ]
    },
    {
      "cell_type": "code",
      "metadata": {
        "id": "XI3hn-gjnTV5",
        "colab_type": "code",
        "outputId": "775079ff-91f1-4c63-9171-d5bec13fd36f",
        "colab": {
          "base_uri": "https://localhost:8080/",
          "height": 136
        }
      },
      "source": [
        "!git clone https://github.com/grwlf/COVID-19_plus_Russia.git"
      ],
      "execution_count": 5,
      "outputs": [
        {
          "output_type": "stream",
          "text": [
            "Cloning into 'COVID-19_plus_Russia'...\n",
            "remote: Enumerating objects: 624, done.\u001b[K\n",
            "remote: Counting objects:   0% (1/624)\u001b[K\rremote: Counting objects:   1% (7/624)\u001b[K\rremote: Counting objects:   2% (13/624)\u001b[K\rremote: Counting objects:   3% (19/624)\u001b[K\rremote: Counting objects:   4% (25/624)\u001b[K\rremote: Counting objects:   5% (32/624)\u001b[K\rremote: Counting objects:   6% (38/624)\u001b[K\rremote: Counting objects:   7% (44/624)\u001b[K\rremote: Counting objects:   8% (50/624)\u001b[K\rremote: Counting objects:   9% (57/624)\u001b[K\rremote: Counting objects:  10% (63/624)\u001b[K\rremote: Counting objects:  11% (69/624)\u001b[K\rremote: Counting objects:  12% (75/624)\u001b[K\rremote: Counting objects:  13% (82/624)\u001b[K\rremote: Counting objects:  14% (88/624)\u001b[K\rremote: Counting objects:  15% (94/624)\u001b[K\rremote: Counting objects:  16% (100/624)\u001b[K\rremote: Counting objects:  17% (107/624)\u001b[K\rremote: Counting objects:  18% (113/624)\u001b[K\rremote: Counting objects:  19% (119/624)\u001b[K\rremote: Counting objects:  20% (125/624)\u001b[K\rremote: Counting objects:  21% (132/624)\u001b[K\rremote: Counting objects:  22% (138/624)\u001b[K\rremote: Counting objects:  23% (144/624)\u001b[K\rremote: Counting objects:  24% (150/624)\u001b[K\rremote: Counting objects:  25% (156/624)\u001b[K\rremote: Counting objects:  26% (163/624)\u001b[K\rremote: Counting objects:  27% (169/624)\u001b[K\rremote: Counting objects:  28% (175/624)\u001b[K\rremote: Counting objects:  29% (181/624)\u001b[K\rremote: Counting objects:  30% (188/624)\u001b[K\rremote: Counting objects:  31% (194/624)\u001b[K\rremote: Counting objects:  32% (200/624)\u001b[K\rremote: Counting objects:  33% (206/624)\u001b[K\rremote: Counting objects:  34% (213/624)\u001b[K\rremote: Counting objects:  35% (219/624)\u001b[K\rremote: Counting objects:  36% (225/624)\u001b[K\rremote: Counting objects:  37% (231/624)\u001b[K\rremote: Counting objects:  38% (238/624)\u001b[K\rremote: Counting objects:  39% (244/624)\u001b[K\rremote: Counting objects:  40% (250/624)\u001b[K\rremote: Counting objects:  41% (256/624)\u001b[K\rremote: Counting objects:  42% (263/624)\u001b[K\rremote: Counting objects:  43% (269/624)\u001b[K\rremote: Counting objects:  44% (275/624)\u001b[K\rremote: Counting objects:  45% (281/624)\u001b[K\rremote: Counting objects:  46% (288/624)\u001b[K\rremote: Counting objects:  47% (294/624)\u001b[K\rremote: Counting objects:  48% (300/624)\u001b[K\rremote: Counting objects:  49% (306/624)\u001b[K\rremote: Counting objects:  50% (312/624)\u001b[K\rremote: Counting objects:  51% (319/624)\u001b[K\rremote: Counting objects:  52% (325/624)\u001b[K\rremote: Counting objects:  53% (331/624)\u001b[K\rremote: Counting objects:  54% (337/624)\u001b[K\rremote: Counting objects:  55% (344/624)\u001b[K\rremote: Counting objects:  56% (350/624)\u001b[K\rremote: Counting objects:  57% (356/624)\u001b[K\rremote: Counting objects:  58% (362/624)\u001b[K\rremote: Counting objects:  59% (369/624)\u001b[K\rremote: Counting objects:  60% (375/624)\u001b[K\rremote: Counting objects:  61% (381/624)\u001b[K\rremote: Counting objects:  62% (387/624)\u001b[K\rremote: Counting objects:  63% (394/624)\u001b[K\rremote: Counting objects:  64% (400/624)\u001b[K\rremote: Counting objects:  65% (406/624)\u001b[K\rremote: Counting objects:  66% (412/624)\u001b[K\rremote: Counting objects:  67% (419/624)\u001b[K\rremote: Counting objects:  68% (425/624)\u001b[K\rremote: Counting objects:  69% (431/624)\u001b[K\rremote: Counting objects:  70% (437/624)\u001b[K\rremote: Counting objects:  71% (444/624)\u001b[K\rremote: Counting objects:  72% (450/624)\u001b[K\rremote: Counting objects:  73% (456/624)\u001b[K\rremote: Counting objects:  74% (462/624)\u001b[K\rremote: Counting objects:  75% (468/624)\u001b[K\rremote: Counting objects:  76% (475/624)\u001b[K\rremote: Counting objects:  77% (481/624)\u001b[K\rremote: Counting objects:  78% (487/624)\u001b[K\rremote: Counting objects:  79% (493/624)\u001b[K\rremote: Counting objects:  80% (500/624)\u001b[K\rremote: Counting objects:  81% (506/624)\u001b[K\rremote: Counting objects:  82% (512/624)\u001b[K\rremote: Counting objects:  83% (518/624)\u001b[K\rremote: Counting objects:  84% (525/624)\u001b[K\rremote: Counting objects:  85% (531/624)\u001b[K\rremote: Counting objects:  86% (537/624)\u001b[K\rremote: Counting objects:  87% (543/624)\u001b[K\rremote: Counting objects:  88% (550/624)\u001b[K\rremote: Counting objects:  89% (556/624)\u001b[K\rremote: Counting objects:  90% (562/624)\u001b[K\rremote: Counting objects:  91% (568/624)\u001b[K\rremote: Counting objects:  92% (575/624)\u001b[K\rremote: Counting objects:  93% (581/624)\u001b[K\rremote: Counting objects:  94% (587/624)\u001b[K\rremote: Counting objects:  95% (593/624)\u001b[K\rremote: Counting objects:  96% (600/624)\u001b[K\rremote: Counting objects:  97% (606/624)\u001b[K\rremote: Counting objects:  98% (612/624)\u001b[K\rremote: Counting objects:  99% (618/624)\u001b[K\rremote: Counting objects: 100% (624/624)\u001b[K\rremote: Counting objects: 100% (624/624), done.\u001b[K\n",
            "remote: Compressing objects: 100% (252/252), done.\u001b[K\n",
            "remote: Total 18171 (delta 376), reused 615 (delta 370), pack-reused 17547\u001b[K\n",
            "Receiving objects: 100% (18171/18171), 97.87 MiB | 26.89 MiB/s, done.\n",
            "Resolving deltas: 100% (9285/9285), done.\n"
          ],
          "name": "stdout"
        }
      ]
    },
    {
      "cell_type": "markdown",
      "metadata": {
        "id": "Hcd2xqhUVNAB",
        "colab_type": "text"
      },
      "source": [
        "## Данные про страны"
      ]
    },
    {
      "cell_type": "code",
      "metadata": {
        "id": "xNntNTQ1UsKO",
        "colab_type": "code",
        "outputId": "678c397f-f33c-4971-f98a-f98c22975602",
        "colab": {
          "base_uri": "https://localhost:8080/",
          "height": 136
        }
      },
      "source": [
        "!git clone https://github.com/vlomme/sberbank-covid19-forecast-2020.git"
      ],
      "execution_count": 6,
      "outputs": [
        {
          "output_type": "stream",
          "text": [
            "Cloning into 'sberbank-covid19-forecast-2020'...\n",
            "remote: Enumerating objects: 81, done.\u001b[K\n",
            "remote: Counting objects:   1% (1/81)\u001b[K\rremote: Counting objects:   2% (2/81)\u001b[K\rremote: Counting objects:   3% (3/81)\u001b[K\rremote: Counting objects:   4% (4/81)\u001b[K\rremote: Counting objects:   6% (5/81)\u001b[K\rremote: Counting objects:   7% (6/81)\u001b[K\rremote: Counting objects:   8% (7/81)\u001b[K\rremote: Counting objects:   9% (8/81)\u001b[K\rremote: Counting objects:  11% (9/81)\u001b[K\rremote: Counting objects:  12% (10/81)\u001b[K\rremote: Counting objects:  13% (11/81)\u001b[K\rremote: Counting objects:  14% (12/81)\u001b[K\rremote: Counting objects:  16% (13/81)\u001b[K\rremote: Counting objects:  17% (14/81)\u001b[K\rremote: Counting objects:  18% (15/81)\u001b[K\rremote: Counting objects:  19% (16/81)\u001b[K\rremote: Counting objects:  20% (17/81)\u001b[K\rremote: Counting objects:  22% (18/81)\u001b[K\rremote: Counting objects:  23% (19/81)\u001b[K\rremote: Counting objects:  24% (20/81)\u001b[K\rremote: Counting objects:  25% (21/81)\u001b[K\rremote: Counting objects:  27% (22/81)\u001b[K\rremote: Counting objects:  28% (23/81)\u001b[K\rremote: Counting objects:  29% (24/81)\u001b[K\rremote: Counting objects:  30% (25/81)\u001b[K\rremote: Counting objects:  32% (26/81)\u001b[K\rremote: Counting objects:  33% (27/81)\u001b[K\rremote: Counting objects:  34% (28/81)\u001b[K\rremote: Counting objects:  35% (29/81)\u001b[K\rremote: Counting objects:  37% (30/81)\u001b[K\rremote: Counting objects:  38% (31/81)\u001b[K\rremote: Counting objects:  39% (32/81)\u001b[K\rremote: Counting objects:  40% (33/81)\u001b[K\rremote: Counting objects:  41% (34/81)\u001b[K\rremote: Counting objects:  43% (35/81)\u001b[K\rremote: Counting objects:  44% (36/81)\u001b[K\rremote: Counting objects:  45% (37/81)\u001b[K\rremote: Counting objects:  46% (38/81)\u001b[K\rremote: Counting objects:  48% (39/81)\u001b[K\rremote: Counting objects:  49% (40/81)\u001b[K\rremote: Counting objects:  50% (41/81)\u001b[K\rremote: Counting objects:  51% (42/81)\u001b[K\rremote: Counting objects:  53% (43/81)\u001b[K\rremote: Counting objects:  54% (44/81)\u001b[K\rremote: Counting objects:  55% (45/81)\u001b[K\rremote: Counting objects:  56% (46/81)\u001b[K\rremote: Counting objects:  58% (47/81)\u001b[K\rremote: Counting objects:  59% (48/81)\u001b[K\rremote: Counting objects:  60% (49/81)\u001b[K\rremote: Counting objects:  61% (50/81)\u001b[K\rremote: Counting objects:  62% (51/81)\u001b[K\rremote: Counting objects:  64% (52/81)\u001b[K\rremote: Counting objects:  65% (53/81)\u001b[K\rremote: Counting objects:  66% (54/81)\u001b[K\rremote: Counting objects:  67% (55/81)\u001b[K\rremote: Counting objects:  69% (56/81)\u001b[K\rremote: Counting objects:  70% (57/81)\u001b[K\rremote: Counting objects:  71% (58/81)\u001b[K\rremote: Counting objects:  72% (59/81)\u001b[K\rremote: Counting objects:  74% (60/81)\u001b[K\rremote: Counting objects:  75% (61/81)\u001b[K\rremote: Counting objects:  76% (62/81)\u001b[K\rremote: Counting objects:  77% (63/81)\u001b[K\rremote: Counting objects:  79% (64/81)\u001b[K\rremote: Counting objects:  80% (65/81)\u001b[K\rremote: Counting objects:  81% (66/81)\u001b[K\rremote: Counting objects:  82% (67/81)\u001b[K\rremote: Counting objects:  83% (68/81)\u001b[K\rremote: Counting objects:  85% (69/81)\u001b[K\rremote: Counting objects:  86% (70/81)\u001b[K\rremote: Counting objects:  87% (71/81)\u001b[K\rremote: Counting objects:  88% (72/81)\u001b[K\rremote: Counting objects:  90% (73/81)\u001b[K\rremote: Counting objects:  91% (74/81)\u001b[K\rremote: Counting objects:  92% (75/81)\u001b[K\rremote: Counting objects:  93% (76/81)\u001b[K\rremote: Counting objects:  95% (77/81)\u001b[K\rremote: Counting objects:  96% (78/81)\u001b[K\rremote: Counting objects:  97% (79/81)\u001b[K\rremote: Counting objects:  98% (80/81)\u001b[K\rremote: Counting objects: 100% (81/81)\u001b[K\rremote: Counting objects: 100% (81/81), done.\u001b[K\n",
            "remote: Compressing objects:   1% (1/81)\u001b[K\rremote: Compressing objects:   2% (2/81)\u001b[K\rremote: Compressing objects:   3% (3/81)\u001b[K\rremote: Compressing objects:   4% (4/81)\u001b[K\rremote: Compressing objects:   6% (5/81)\u001b[K\rremote: Compressing objects:   7% (6/81)\u001b[K\rremote: Compressing objects:   8% (7/81)\u001b[K\rremote: Compressing objects:   9% (8/81)\u001b[K\rremote: Compressing objects:  11% (9/81)\u001b[K\rremote: Compressing objects:  12% (10/81)\u001b[K\rremote: Compressing objects:  13% (11/81)\u001b[K\rremote: Compressing objects:  14% (12/81)\u001b[K\rremote: Compressing objects:  16% (13/81)\u001b[K\rremote: Compressing objects:  17% (14/81)\u001b[K\rremote: Compressing objects:  18% (15/81)\u001b[K\rremote: Compressing objects:  19% (16/81)\u001b[K\rremote: Compressing objects:  20% (17/81)\u001b[K\rremote: Compressing objects:  22% (18/81)\u001b[K\rremote: Compressing objects:  23% (19/81)\u001b[K\rremote: Compressing objects:  24% (20/81)\u001b[K\rremote: Compressing objects:  25% (21/81)\u001b[K\rremote: Compressing objects:  27% (22/81)\u001b[K\rremote: Compressing objects:  28% (23/81)\u001b[K\rremote: Compressing objects:  29% (24/81)\u001b[K\rremote: Compressing objects:  30% (25/81)\u001b[K\rremote: Compressing objects:  32% (26/81)\u001b[K\rremote: Compressing objects:  33% (27/81)\u001b[K\rremote: Compressing objects:  34% (28/81)\u001b[K\rremote: Compressing objects:  35% (29/81)\u001b[K\rremote: Compressing objects:  37% (30/81)\u001b[K\rremote: Compressing objects:  38% (31/81)\u001b[K\rremote: Compressing objects:  39% (32/81)\u001b[K\rremote: Compressing objects:  40% (33/81)\u001b[K\rremote: Compressing objects:  41% (34/81)\u001b[K\rremote: Compressing objects:  43% (35/81)\u001b[K\rremote: Compressing objects:  44% (36/81)\u001b[K\rremote: Compressing objects:  45% (37/81)\u001b[K\rremote: Compressing objects:  46% (38/81)\u001b[K\rremote: Compressing objects:  48% (39/81)\u001b[K\rremote: Compressing objects:  49% (40/81)\u001b[K\rremote: Compressing objects:  50% (41/81)\u001b[K\rremote: Compressing objects:  51% (42/81)\u001b[K\rremote: Compressing objects:  53% (43/81)\u001b[K\rremote: Compressing objects:  54% (44/81)\u001b[K\rremote: Compressing objects:  55% (45/81)\u001b[K\rremote: Compressing objects:  56% (46/81)\u001b[K\rremote: Compressing objects:  58% (47/81)\u001b[K\rremote: Compressing objects:  59% (48/81)\u001b[K\rremote: Compressing objects:  60% (49/81)\u001b[K\rremote: Compressing objects:  61% (50/81)\u001b[K\rremote: Compressing objects:  62% (51/81)\u001b[K\rremote: Compressing objects:  64% (52/81)\u001b[K\rremote: Compressing objects:  65% (53/81)\u001b[K\rremote: Compressing objects:  66% (54/81)\u001b[K\rremote: Compressing objects:  67% (55/81)\u001b[K\rremote: Compressing objects:  69% (56/81)\u001b[K\rremote: Compressing objects:  70% (57/81)\u001b[K\rremote: Compressing objects:  71% (58/81)\u001b[K\rremote: Compressing objects:  72% (59/81)\u001b[K\rremote: Compressing objects:  74% (60/81)\u001b[K\rremote: Compressing objects:  75% (61/81)\u001b[K\rremote: Compressing objects:  76% (62/81)\u001b[K\rremote: Compressing objects:  77% (63/81)\u001b[K\rremote: Compressing objects:  79% (64/81)\u001b[K\rremote: Compressing objects:  80% (65/81)\u001b[K\rremote: Compressing objects:  81% (66/81)\u001b[K\rremote: Compressing objects:  82% (67/81)\u001b[K\rremote: Compressing objects:  83% (68/81)\u001b[K\rremote: Compressing objects:  85% (69/81)\u001b[K\rremote: Compressing objects:  86% (70/81)\u001b[K\rremote: Compressing objects:  87% (71/81)\u001b[K\rremote: Compressing objects:  88% (72/81)\u001b[K\rremote: Compressing objects:  90% (73/81)\u001b[K\rremote: Compressing objects:  91% (74/81)\u001b[K\rremote: Compressing objects:  92% (75/81)\u001b[K\rremote: Compressing objects:  93% (76/81)\u001b[K\rremote: Compressing objects:  95% (77/81)\u001b[K\rremote: Compressing objects:  96% (78/81)\u001b[K\rremote: Compressing objects:  97% (79/81)\u001b[K\rremote: Compressing objects:  98% (80/81)\u001b[K\rremote: Compressing objects: 100% (81/81)\u001b[K\rremote: Compressing objects: 100% (81/81), done.\u001b[K\n",
            "Receiving objects:   0% (1/274)   \rReceiving objects:   1% (3/274)   \rReceiving objects:   2% (6/274)   \rReceiving objects:   3% (9/274)   \rReceiving objects:   4% (11/274)   \rReceiving objects:   5% (14/274)   \rReceiving objects:   6% (17/274)   \rReceiving objects:   7% (20/274)   \rReceiving objects:   8% (22/274)   \rReceiving objects:   9% (25/274)   \rReceiving objects:  10% (28/274)   \rReceiving objects:  11% (31/274)   \rReceiving objects:  12% (33/274)   \rReceiving objects:  13% (36/274)   \rReceiving objects:  14% (39/274)   \rReceiving objects:  15% (42/274)   \rReceiving objects:  16% (44/274)   \rReceiving objects:  17% (47/274)   \rReceiving objects:  18% (50/274)   \rReceiving objects:  19% (53/274)   \rReceiving objects:  20% (55/274)   \rReceiving objects:  21% (58/274)   \rReceiving objects:  22% (61/274)   \rReceiving objects:  23% (64/274)   \rReceiving objects:  24% (66/274)   \rReceiving objects:  25% (69/274)   \rReceiving objects:  26% (72/274)   \rReceiving objects:  27% (74/274)   \rReceiving objects:  28% (77/274)   \rReceiving objects:  29% (80/274)   \rReceiving objects:  30% (83/274)   \rReceiving objects:  31% (85/274)   \rReceiving objects:  32% (88/274)   \rReceiving objects:  33% (91/274)   \rReceiving objects:  34% (94/274)   \rReceiving objects:  35% (96/274)   \rReceiving objects:  36% (99/274)   \rReceiving objects:  37% (102/274)   \rReceiving objects:  38% (105/274)   \rReceiving objects:  39% (107/274)   \rReceiving objects:  40% (110/274)   \rReceiving objects:  41% (113/274)   \rReceiving objects:  42% (116/274)   \rReceiving objects:  43% (118/274)   \rReceiving objects:  44% (121/274)   \rReceiving objects:  45% (124/274)   \rReceiving objects:  46% (127/274)   \rReceiving objects:  47% (129/274)   \rReceiving objects:  48% (132/274)   \rReceiving objects:  49% (135/274)   \rReceiving objects:  50% (137/274)   \rReceiving objects:  51% (140/274)   \rReceiving objects:  52% (143/274)   \rReceiving objects:  53% (146/274)   \rReceiving objects:  54% (148/274)   \rReceiving objects:  55% (151/274)   \rReceiving objects:  56% (154/274)   \rReceiving objects:  57% (157/274)   \rReceiving objects:  58% (159/274)   \rReceiving objects:  59% (162/274), 4.67 MiB | 9.22 MiB/s   \rReceiving objects:  60% (165/274), 4.67 MiB | 9.22 MiB/s   \rReceiving objects:  61% (168/274), 4.67 MiB | 9.22 MiB/s   \rReceiving objects:  62% (170/274), 4.67 MiB | 9.22 MiB/s   \rReceiving objects:  63% (173/274), 4.67 MiB | 9.22 MiB/s   \rReceiving objects:  64% (176/274), 4.67 MiB | 9.22 MiB/s   \rReceiving objects:  65% (179/274), 4.67 MiB | 9.22 MiB/s   \rReceiving objects:  66% (181/274), 4.67 MiB | 9.22 MiB/s   \rReceiving objects:  67% (184/274), 4.67 MiB | 9.22 MiB/s   \rReceiving objects:  68% (187/274), 4.67 MiB | 9.22 MiB/s   \rReceiving objects:  69% (190/274), 4.67 MiB | 9.22 MiB/s   \rReceiving objects:  70% (192/274), 4.67 MiB | 9.22 MiB/s   \rReceiving objects:  71% (195/274), 4.67 MiB | 9.22 MiB/s   \rReceiving objects:  72% (198/274), 4.67 MiB | 9.22 MiB/s   \rReceiving objects:  73% (201/274), 4.67 MiB | 9.22 MiB/s   \rReceiving objects:  74% (203/274), 4.67 MiB | 9.22 MiB/s   \rReceiving objects:  75% (206/274), 4.67 MiB | 9.22 MiB/s   \rReceiving objects:  76% (209/274), 4.67 MiB | 9.22 MiB/s   \rReceiving objects:  77% (211/274), 4.67 MiB | 9.22 MiB/s   \rReceiving objects:  78% (214/274), 4.67 MiB | 9.22 MiB/s   \rReceiving objects:  79% (217/274), 4.67 MiB | 9.22 MiB/s   \rReceiving objects:  80% (220/274), 4.67 MiB | 9.22 MiB/s   \rReceiving objects:  81% (222/274), 4.67 MiB | 9.22 MiB/s   \rReceiving objects:  82% (225/274), 4.67 MiB | 9.22 MiB/s   \rReceiving objects:  83% (228/274), 4.67 MiB | 9.22 MiB/s   \rReceiving objects:  83% (228/274), 11.12 MiB | 10.65 MiB/s   \rReceiving objects:  84% (231/274), 11.12 MiB | 10.65 MiB/s   \rReceiving objects:  85% (233/274), 11.12 MiB | 10.65 MiB/s   \rremote: Total 274 (delta 40), reused 0 (delta 0), pack-reused 193\u001b[K\n",
            "Receiving objects:  86% (236/274), 11.12 MiB | 10.65 MiB/s   \rReceiving objects:  87% (239/274), 11.12 MiB | 10.65 MiB/s   \rReceiving objects:  88% (242/274), 11.12 MiB | 10.65 MiB/s   \rReceiving objects:  89% (244/274), 11.12 MiB | 10.65 MiB/s   \rReceiving objects:  90% (247/274), 11.12 MiB | 10.65 MiB/s   \rReceiving objects:  91% (250/274), 11.12 MiB | 10.65 MiB/s   \rReceiving objects:  92% (253/274), 11.12 MiB | 10.65 MiB/s   \rReceiving objects:  93% (255/274), 11.12 MiB | 10.65 MiB/s   \rReceiving objects:  94% (258/274), 11.12 MiB | 10.65 MiB/s   \rReceiving objects:  95% (261/274), 11.12 MiB | 10.65 MiB/s   \rReceiving objects:  96% (264/274), 11.12 MiB | 10.65 MiB/s   \rReceiving objects:  97% (266/274), 11.12 MiB | 10.65 MiB/s   \rReceiving objects:  98% (269/274), 11.12 MiB | 10.65 MiB/s   \rReceiving objects:  99% (272/274), 11.12 MiB | 10.65 MiB/s   \rReceiving objects: 100% (274/274), 11.12 MiB | 10.65 MiB/s   \rReceiving objects: 100% (274/274), 12.21 MiB | 8.90 MiB/s, done.\n",
            "Resolving deltas:   0% (0/134)   \rResolving deltas:   1% (2/134)   \rResolving deltas:   8% (12/134)   \rResolving deltas:  12% (17/134)   \rResolving deltas:  33% (45/134)   \rResolving deltas:  41% (56/134)   \rResolving deltas:  64% (87/134)   \rResolving deltas:  67% (91/134)   \rResolving deltas:  81% (109/134)   \rResolving deltas:  88% (119/134)   \rResolving deltas:  90% (121/134)   \rResolving deltas:  91% (122/134)   \rResolving deltas:  97% (130/134)   \rResolving deltas:  98% (132/134)   \rResolving deltas:  99% (133/134)   \rResolving deltas: 100% (134/134)   \rResolving deltas: 100% (134/134), done.\n"
          ],
          "name": "stdout"
        }
      ]
    },
    {
      "cell_type": "markdown",
      "metadata": {
        "id": "73CcvjEpY2OX",
        "colab_type": "text"
      },
      "source": [
        "## Данные по карантинам"
      ]
    },
    {
      "cell_type": "code",
      "metadata": {
        "id": "V7qgyyfjYva5",
        "colab_type": "code",
        "outputId": "d0c3601c-900d-46d3-b876-16252944fdba",
        "colab": {
          "base_uri": "https://localhost:8080/",
          "height": 136
        }
      },
      "source": [
        "!git clone https://github.com/tyz910/sberbank-covid19.git"
      ],
      "execution_count": 7,
      "outputs": [
        {
          "output_type": "stream",
          "text": [
            "Cloning into 'sberbank-covid19'...\n",
            "remote: Enumerating objects: 216, done.\u001b[K\n",
            "remote: Counting objects:   0% (1/216)\u001b[K\rremote: Counting objects:   1% (3/216)\u001b[K\rremote: Counting objects:   2% (5/216)\u001b[K\rremote: Counting objects:   3% (7/216)\u001b[K\rremote: Counting objects:   4% (9/216)\u001b[K\rremote: Counting objects:   5% (11/216)\u001b[K\rremote: Counting objects:   6% (13/216)\u001b[K\rremote: Counting objects:   7% (16/216)\u001b[K\rremote: Counting objects:   8% (18/216)\u001b[K\rremote: Counting objects:   9% (20/216)\u001b[K\rremote: Counting objects:  10% (22/216)\u001b[K\rremote: Counting objects:  11% (24/216)\u001b[K\rremote: Counting objects:  12% (26/216)\u001b[K\rremote: Counting objects:  13% (29/216)\u001b[K\rremote: Counting objects:  14% (31/216)\u001b[K\rremote: Counting objects:  15% (33/216)\u001b[K\rremote: Counting objects:  16% (35/216)\u001b[K\rremote: Counting objects:  17% (37/216)\u001b[K\rremote: Counting objects:  18% (39/216)\u001b[K\rremote: Counting objects:  19% (42/216)\u001b[K\rremote: Counting objects:  20% (44/216)\u001b[K\rremote: Counting objects:  21% (46/216)\u001b[K\rremote: Counting objects:  22% (48/216)\u001b[K\rremote: Counting objects:  23% (50/216)\u001b[K\rremote: Counting objects:  24% (52/216)\u001b[K\rremote: Counting objects:  25% (54/216)\u001b[K\rremote: Counting objects:  26% (57/216)\u001b[K\rremote: Counting objects:  27% (59/216)\u001b[K\rremote: Counting objects:  28% (61/216)\u001b[K\rremote: Counting objects:  29% (63/216)\u001b[K\rremote: Counting objects:  30% (65/216)\u001b[K\rremote: Counting objects:  31% (67/216)\u001b[K\rremote: Counting objects:  32% (70/216)\u001b[K\rremote: Counting objects:  33% (72/216)\u001b[K\rremote: Counting objects:  34% (74/216)\u001b[K\rremote: Counting objects:  35% (76/216)\u001b[K\rremote: Counting objects:  36% (78/216)\u001b[K\rremote: Counting objects:  37% (80/216)\u001b[K\rremote: Counting objects:  38% (83/216)\u001b[K\rremote: Counting objects:  39% (85/216)\u001b[K\rremote: Counting objects:  40% (87/216)\u001b[K\rremote: Counting objects:  41% (89/216)\u001b[K\rremote: Counting objects:  42% (91/216)\u001b[K\rremote: Counting objects:  43% (93/216)\u001b[K\rremote: Counting objects:  44% (96/216)\u001b[K\rremote: Counting objects:  45% (98/216)\u001b[K\rremote: Counting objects:  46% (100/216)\u001b[K\rremote: Counting objects:  47% (102/216)\u001b[K\rremote: Counting objects:  48% (104/216)\u001b[K\rremote: Counting objects:  49% (106/216)\u001b[K\rremote: Counting objects:  50% (108/216)\u001b[K\rremote: Counting objects:  51% (111/216)\u001b[K\rremote: Counting objects:  52% (113/216)\u001b[K\rremote: Counting objects:  53% (115/216)\u001b[K\rremote: Counting objects:  54% (117/216)\u001b[K\rremote: Counting objects:  55% (119/216)\u001b[K\rremote: Counting objects:  56% (121/216)\u001b[K\rremote: Counting objects:  57% (124/216)\u001b[K\rremote: Counting objects:  58% (126/216)\u001b[K\rremote: Counting objects:  59% (128/216)\u001b[K\rremote: Counting objects:  60% (130/216)\u001b[K\rremote: Counting objects:  61% (132/216)\u001b[K\rremote: Counting objects:  62% (134/216)\u001b[K\rremote: Counting objects:  63% (137/216)\u001b[K\rremote: Counting objects:  64% (139/216)\u001b[K\rremote: Counting objects:  65% (141/216)\u001b[K\rremote: Counting objects:  66% (143/216)\u001b[K\rremote: Counting objects:  67% (145/216)\u001b[K\rremote: Counting objects:  68% (147/216)\u001b[K\rremote: Counting objects:  69% (150/216)\u001b[K\rremote: Counting objects:  70% (152/216)\u001b[K\rremote: Counting objects:  71% (154/216)\u001b[K\rremote: Counting objects:  72% (156/216)\u001b[K\rremote: Counting objects:  73% (158/216)\u001b[K\rremote: Counting objects:  74% (160/216)\u001b[K\rremote: Counting objects:  75% (162/216)\u001b[K\rremote: Counting objects:  76% (165/216)\u001b[K\rremote: Counting objects:  77% (167/216)\u001b[K\rremote: Counting objects:  78% (169/216)\u001b[K\rremote: Counting objects:  79% (171/216)\u001b[K\rremote: Counting objects:  80% (173/216)\u001b[K\rremote: Counting objects:  81% (175/216)\u001b[K\rremote: Counting objects:  82% (178/216)\u001b[K\rremote: Counting objects:  83% (180/216)\u001b[K\rremote: Counting objects:  84% (182/216)\u001b[K\rremote: Counting objects:  85% (184/216)\u001b[K\rremote: Counting objects:  86% (186/216)\u001b[K\rremote: Counting objects:  87% (188/216)\u001b[K\rremote: Counting objects:  88% (191/216)\u001b[K\rremote: Counting objects:  89% (193/216)\u001b[K\rremote: Counting objects:  90% (195/216)\u001b[K\rremote: Counting objects:  91% (197/216)\u001b[K\rremote: Counting objects:  92% (199/216)\u001b[K\rremote: Counting objects:  93% (201/216)\u001b[K\rremote: Counting objects:  94% (204/216)\u001b[K\rremote: Counting objects:  95% (206/216)\u001b[K\rremote: Counting objects:  96% (208/216)\u001b[K\rremote: Counting objects:  97% (210/216)\u001b[K\rremote: Counting objects:  98% (212/216)\u001b[K\rremote: Counting objects:  99% (214/216)\u001b[K\rremote: Counting objects: 100% (216/216)\u001b[K\rremote: Counting objects: 100% (216/216), done.\u001b[K\n",
            "remote: Compressing objects:   0% (1/133)\u001b[K\rremote: Compressing objects:   1% (2/133)\u001b[K\rremote: Compressing objects:   2% (3/133)\u001b[K\rremote: Compressing objects:   3% (4/133)\u001b[K\rremote: Compressing objects:   4% (6/133)\u001b[K\rremote: Compressing objects:   5% (7/133)\u001b[K\rremote: Compressing objects:   6% (8/133)\u001b[K\rremote: Compressing objects:   7% (10/133)\u001b[K\rremote: Compressing objects:   8% (11/133)\u001b[K\rremote: Compressing objects:   9% (12/133)\u001b[K\rremote: Compressing objects:  10% (14/133)\u001b[K\rremote: Compressing objects:  11% (15/133)\u001b[K\rremote: Compressing objects:  12% (16/133)\u001b[K\rremote: Compressing objects:  13% (18/133)\u001b[K\rremote: Compressing objects:  14% (19/133)\u001b[K\rremote: Compressing objects:  15% (20/133)\u001b[K\rremote: Compressing objects:  16% (22/133)\u001b[K\rremote: Compressing objects:  17% (23/133)\u001b[K\rremote: Compressing objects:  18% (24/133)\u001b[K\rremote: Compressing objects:  19% (26/133)\u001b[K\rremote: Compressing objects:  20% (27/133)\u001b[K\rremote: Compressing objects:  21% (28/133)\u001b[K\rremote: Compressing objects:  22% (30/133)\u001b[K\rremote: Compressing objects:  23% (31/133)\u001b[K\rremote: Compressing objects:  24% (32/133)\u001b[K\rremote: Compressing objects:  25% (34/133)\u001b[K\rremote: Compressing objects:  26% (35/133)\u001b[K\rremote: Compressing objects:  27% (36/133)\u001b[K\rremote: Compressing objects:  28% (38/133)\u001b[K\rremote: Compressing objects:  29% (39/133)\u001b[K\rremote: Compressing objects:  30% (40/133)\u001b[K\rremote: Compressing objects:  31% (42/133)\u001b[K\rremote: Compressing objects:  32% (43/133)\u001b[K\rremote: Compressing objects:  33% (44/133)\u001b[K\rremote: Compressing objects:  34% (46/133)\u001b[K\rremote: Compressing objects:  35% (47/133)\u001b[K\rremote: Compressing objects:  36% (48/133)\u001b[K\rremote: Compressing objects:  37% (50/133)\u001b[K\rremote: Compressing objects:  38% (51/133)\u001b[K\rremote: Compressing objects:  39% (52/133)\u001b[K\rremote: Compressing objects:  40% (54/133)\u001b[K\rremote: Compressing objects:  41% (55/133)\u001b[K\rremote: Compressing objects:  42% (56/133)\u001b[K\rremote: Compressing objects:  43% (58/133)\u001b[K\rremote: Compressing objects:  44% (59/133)\u001b[K\rremote: Compressing objects:  45% (60/133)\u001b[K\rremote: Compressing objects:  46% (62/133)\u001b[K\rremote: Compressing objects:  47% (63/133)\u001b[K\rremote: Compressing objects:  48% (64/133)\u001b[K\rremote: Compressing objects:  49% (66/133)\u001b[K\rremote: Compressing objects:  50% (67/133)\u001b[K\rremote: Compressing objects:  51% (68/133)\u001b[K\rremote: Compressing objects:  52% (70/133)\u001b[K\rremote: Compressing objects:  53% (71/133)\u001b[K\rremote: Compressing objects:  54% (72/133)\u001b[K\rremote: Compressing objects:  55% (74/133)\u001b[K\rremote: Compressing objects:  56% (75/133)\u001b[K\rremote: Compressing objects:  57% (76/133)\u001b[K\rremote: Compressing objects:  58% (78/133)\u001b[K\rremote: Compressing objects:  59% (79/133)\u001b[K\rremote: Compressing objects:  60% (80/133)\u001b[K\rremote: Compressing objects:  61% (82/133)\u001b[K\rremote: Compressing objects:  62% (83/133)\u001b[K\rremote: Compressing objects:  63% (84/133)\u001b[K\rremote: Compressing objects:  64% (86/133)\u001b[K\rremote: Compressing objects:  65% (87/133)\u001b[K\rremote: Compressing objects:  66% (88/133)\u001b[K\rremote: Compressing objects:  67% (90/133)\u001b[K\rremote: Compressing objects:  68% (91/133)\u001b[K\rremote: Compressing objects:  69% (92/133)\u001b[K\rremote: Compressing objects:  70% (94/133)\u001b[K\rremote: Compressing objects:  71% (95/133)\u001b[K\rremote: Compressing objects:  72% (96/133)\u001b[K\rremote: Compressing objects:  73% (98/133)\u001b[K\rremote: Compressing objects:  74% (99/133)\u001b[K\rremote: Compressing objects:  75% (100/133)\u001b[K\rremote: Compressing objects:  76% (102/133)\u001b[K\rremote: Compressing objects:  77% (103/133)\u001b[K\rremote: Compressing objects:  78% (104/133)\u001b[K\rremote: Compressing objects:  79% (106/133)\u001b[K\rremote: Compressing objects:  80% (107/133)\u001b[K\rremote: Compressing objects:  81% (108/133)\u001b[K\rremote: Compressing objects:  82% (110/133)\u001b[K\rremote: Compressing objects:  83% (111/133)\u001b[K\rremote: Compressing objects:  84% (112/133)\u001b[K\rremote: Compressing objects:  85% (114/133)\u001b[K\rremote: Compressing objects:  86% (115/133)\u001b[K\rremote: Compressing objects:  87% (116/133)\u001b[K\rremote: Compressing objects:  88% (118/133)\u001b[K\rremote: Compressing objects:  89% (119/133)\u001b[K\rremote: Compressing objects:  90% (120/133)\u001b[K\rremote: Compressing objects:  91% (122/133)\u001b[K\rremote: Compressing objects:  92% (123/133)\u001b[K\rremote: Compressing objects:  93% (124/133)\u001b[K\rremote: Compressing objects:  94% (126/133)\u001b[K\rremote: Compressing objects:  95% (127/133)\u001b[K\rremote: Compressing objects:  96% (128/133)\u001b[K\rremote: Compressing objects:  97% (130/133)\u001b[K\rremote: Compressing objects:  98% (131/133)\u001b[K\rremote: Compressing objects:  99% (132/133)\u001b[K\rremote: Compressing objects: 100% (133/133)\u001b[K\rremote: Compressing objects: 100% (133/133), done.\u001b[K\n",
            "Receiving objects:   0% (1/216)   \rReceiving objects:   1% (3/216)   \rReceiving objects:   2% (5/216)   \rReceiving objects:   3% (7/216)   \rReceiving objects:   4% (9/216)   \rReceiving objects:   5% (11/216)   \rReceiving objects:   6% (13/216)   \rReceiving objects:   7% (16/216)   \rReceiving objects:   8% (18/216)   \rReceiving objects:   9% (20/216)   \rReceiving objects:  10% (22/216)   \rReceiving objects:  11% (24/216)   \rReceiving objects:  12% (26/216)   \rReceiving objects:  13% (29/216)   \rReceiving objects:  14% (31/216)   \rReceiving objects:  15% (33/216)   \rReceiving objects:  16% (35/216)   \rReceiving objects:  17% (37/216), 100.00 KiB | 186.00 KiB/s   \rReceiving objects:  18% (39/216), 100.00 KiB | 186.00 KiB/s   \rReceiving objects:  19% (42/216), 100.00 KiB | 186.00 KiB/s   \rReceiving objects:  20% (44/216), 100.00 KiB | 186.00 KiB/s   \rReceiving objects:  20% (45/216), 228.00 KiB | 216.00 KiB/s   \rReceiving objects:  21% (46/216), 228.00 KiB | 216.00 KiB/s   \rReceiving objects:  22% (48/216), 228.00 KiB | 216.00 KiB/s   \rReceiving objects:  23% (50/216), 228.00 KiB | 216.00 KiB/s   \rReceiving objects:  24% (52/216), 228.00 KiB | 216.00 KiB/s   \rReceiving objects:  25% (54/216), 228.00 KiB | 216.00 KiB/s   \rReceiving objects:  26% (57/216), 228.00 KiB | 216.00 KiB/s   \rReceiving objects:  27% (59/216), 228.00 KiB | 216.00 KiB/s   \rReceiving objects:  28% (61/216), 228.00 KiB | 216.00 KiB/s   \rReceiving objects:  29% (63/216), 228.00 KiB | 216.00 KiB/s   \rReceiving objects:  30% (65/216), 228.00 KiB | 216.00 KiB/s   \rReceiving objects:  31% (67/216), 228.00 KiB | 216.00 KiB/s   \rReceiving objects:  32% (70/216), 228.00 KiB | 216.00 KiB/s   \rReceiving objects:  33% (72/216), 228.00 KiB | 216.00 KiB/s   \rReceiving objects:  34% (74/216), 228.00 KiB | 216.00 KiB/s   \rReceiving objects:  35% (76/216), 228.00 KiB | 216.00 KiB/s   \rReceiving objects:  36% (78/216), 228.00 KiB | 216.00 KiB/s   \rReceiving objects:  37% (80/216), 228.00 KiB | 216.00 KiB/s   \rReceiving objects:  37% (81/216), 636.00 KiB | 299.00 KiB/s   \rReceiving objects:  38% (83/216), 948.00 KiB | 358.00 KiB/s   \rReceiving objects:  39% (85/216), 948.00 KiB | 358.00 KiB/s   \rReceiving objects:  40% (87/216), 948.00 KiB | 358.00 KiB/s   \rReceiving objects:  41% (89/216), 948.00 KiB | 358.00 KiB/s   \rReceiving objects:  42% (91/216), 948.00 KiB | 358.00 KiB/s   \rReceiving objects:  43% (93/216), 948.00 KiB | 358.00 KiB/s   \rReceiving objects:  44% (96/216), 948.00 KiB | 358.00 KiB/s   \rReceiving objects:  45% (98/216), 948.00 KiB | 358.00 KiB/s   \rReceiving objects:  46% (100/216), 948.00 KiB | 358.00 KiB/s   \rReceiving objects:  47% (102/216), 948.00 KiB | 358.00 KiB/s   \rReceiving objects:  48% (104/216), 948.00 KiB | 358.00 KiB/s   \rReceiving objects:  49% (106/216), 948.00 KiB | 358.00 KiB/s   \rReceiving objects:  50% (108/216), 948.00 KiB | 358.00 KiB/s   \rReceiving objects:  51% (111/216), 948.00 KiB | 358.00 KiB/s   \rReceiving objects:  52% (113/216), 948.00 KiB | 358.00 KiB/s   \rReceiving objects:  53% (115/216), 948.00 KiB | 358.00 KiB/s   \rReceiving objects:  54% (117/216), 948.00 KiB | 358.00 KiB/s   \rReceiving objects:  55% (119/216), 948.00 KiB | 358.00 KiB/s   \rReceiving objects:  56% (121/216), 948.00 KiB | 358.00 KiB/s   \rReceiving objects:  57% (124/216), 948.00 KiB | 358.00 KiB/s   \rReceiving objects:  58% (126/216), 948.00 KiB | 358.00 KiB/s   \rReceiving objects:  59% (128/216), 948.00 KiB | 358.00 KiB/s   \rReceiving objects:  60% (130/216), 948.00 KiB | 358.00 KiB/s   \rReceiving objects:  61% (132/216), 948.00 KiB | 358.00 KiB/s   \rReceiving objects:  62% (134/216), 948.00 KiB | 358.00 KiB/s   \rReceiving objects:  63% (137/216), 1.34 MiB | 433.00 KiB/s   \rReceiving objects:  64% (139/216), 1.34 MiB | 433.00 KiB/s   \rReceiving objects:  65% (141/216), 1.34 MiB | 433.00 KiB/s   \rReceiving objects:  66% (143/216), 1.34 MiB | 433.00 KiB/s   \rReceiving objects:  67% (145/216), 1.34 MiB | 433.00 KiB/s   \rReceiving objects:  68% (147/216), 1.34 MiB | 433.00 KiB/s   \rReceiving objects:  69% (150/216), 1.34 MiB | 433.00 KiB/s   \rReceiving objects:  70% (152/216), 1.34 MiB | 433.00 KiB/s   \rReceiving objects:  71% (154/216), 1.34 MiB | 433.00 KiB/s   \rReceiving objects:  72% (156/216), 1.34 MiB | 433.00 KiB/s   \rReceiving objects:  73% (158/216), 1.34 MiB | 433.00 KiB/s   \rReceiving objects:  74% (160/216), 1.34 MiB | 433.00 KiB/s   \rReceiving objects:  75% (162/216), 1.34 MiB | 433.00 KiB/s   \rReceiving objects:  76% (165/216), 1.34 MiB | 433.00 KiB/s   \rReceiving objects:  77% (167/216), 1.34 MiB | 433.00 KiB/s   \rReceiving objects:  78% (169/216), 1.34 MiB | 433.00 KiB/s   \rReceiving objects:  79% (171/216), 1.34 MiB | 433.00 KiB/s   \rReceiving objects:  80% (173/216), 1.34 MiB | 433.00 KiB/s   \rReceiving objects:  81% (175/216), 1.34 MiB | 433.00 KiB/s   \rReceiving objects:  82% (178/216), 1.90 MiB | 529.00 KiB/s   \rReceiving objects:  83% (180/216), 1.90 MiB | 529.00 KiB/s   \rReceiving objects:  84% (182/216), 1.90 MiB | 529.00 KiB/s   \rReceiving objects:  85% (184/216), 1.90 MiB | 529.00 KiB/s   \rReceiving objects:  86% (186/216), 1.90 MiB | 529.00 KiB/s   \rReceiving objects:  87% (188/216), 1.90 MiB | 529.00 KiB/s   \rReceiving objects:  88% (191/216), 1.90 MiB | 529.00 KiB/s   \rReceiving objects:  89% (193/216), 1.90 MiB | 529.00 KiB/s   \rReceiving objects:  90% (195/216), 1.90 MiB | 529.00 KiB/s   \rReceiving objects:  91% (197/216), 1.90 MiB | 529.00 KiB/s   \rReceiving objects:  92% (199/216), 1.90 MiB | 529.00 KiB/s   \rReceiving objects:  93% (201/216), 1.90 MiB | 529.00 KiB/s   \rReceiving objects:  94% (204/216), 1.90 MiB | 529.00 KiB/s   \rremote: Total 216 (delta 100), reused 193 (delta 77), pack-reused 0\u001b[K\n",
            "Receiving objects:  95% (206/216), 1.90 MiB | 529.00 KiB/s   \rReceiving objects:  96% (208/216), 1.90 MiB | 529.00 KiB/s   \rReceiving objects:  97% (210/216), 1.90 MiB | 529.00 KiB/s   \rReceiving objects:  98% (212/216), 1.90 MiB | 529.00 KiB/s   \rReceiving objects:  99% (214/216), 1.90 MiB | 529.00 KiB/s   \rReceiving objects: 100% (216/216), 1.90 MiB | 529.00 KiB/s   \rReceiving objects: 100% (216/216), 2.04 MiB | 555.00 KiB/s, done.\n",
            "Resolving deltas:   0% (0/100)   \rResolving deltas:   3% (3/100)   \rResolving deltas:   8% (8/100)   \rResolving deltas:   9% (9/100)   \rResolving deltas:  11% (11/100)   \rResolving deltas:  15% (15/100)   \rResolving deltas:  17% (17/100)   \rResolving deltas:  22% (22/100)   \rResolving deltas:  23% (23/100)   \rResolving deltas:  38% (38/100)   \rResolving deltas:  39% (39/100)   \rResolving deltas:  42% (42/100)   \rResolving deltas:  44% (44/100)   \rResolving deltas:  45% (45/100)   \rResolving deltas:  53% (53/100)   \rResolving deltas:  56% (56/100)   \rResolving deltas:  59% (59/100)   \rResolving deltas:  61% (61/100)   \rResolving deltas:  62% (62/100)   \rResolving deltas:  63% (63/100)   \rResolving deltas:  64% (64/100)   \rResolving deltas:  70% (70/100)   \rResolving deltas:  75% (75/100)   \rResolving deltas:  76% (76/100)   \rResolving deltas:  78% (78/100)   \rResolving deltas:  81% (81/100)   \rResolving deltas:  83% (83/100)   \rResolving deltas:  86% (86/100)   \rResolving deltas:  87% (87/100)   \rResolving deltas:  89% (89/100)   \rResolving deltas:  92% (92/100)   \rResolving deltas:  93% (93/100)   \rResolving deltas:  94% (94/100)   \rResolving deltas:  97% (97/100)   \rResolving deltas:  99% (99/100)   \rResolving deltas: 100% (100/100)   \rResolving deltas: 100% (100/100), done.\n"
          ],
          "name": "stdout"
        }
      ]
    },
    {
      "cell_type": "markdown",
      "metadata": {
        "id": "cwR6lCCZev3a",
        "colab_type": "text"
      },
      "source": [
        "## Загружаем данные"
      ]
    },
    {
      "cell_type": "code",
      "metadata": {
        "id": "6z9w3muR2NA1",
        "colab_type": "code",
        "outputId": "901dc462-da0f-490c-bb4c-0f1475b8e6ac",
        "colab": {
          "base_uri": "https://localhost:8080/",
          "height": 54
        }
      },
      "source": [
        "today = pd.to_datetime('today').strftime(\"%Y-%m-%d\")\n",
        "#Загрузить список стран и удалить лишние атрибуты \n",
        "countries = pd.read_csv(\"/content/sberbank-covid19-forecast-2020/data/countries.csv\")\n",
        "countries.drop(['iso_alpha2','iso_numeric','official_name','name'], axis='columns',inplace=True)\n",
        "\n",
        "#Загрузить список регионов\n",
        "regions = pd.read_csv(\"/content/sberbank-covid19-forecast-2020/data/russia_regions.csv\")\n",
        "regions = regions[[\"iso_code\",\"csse_province_state\",\"csse_province_state2\",\"population\",\"population_urban\"]]\n",
        "regions.population_urban = regions.population_urban/regions.population\n",
        "regions.rename(columns={\"iso_code\": \"iso_alpha3\",\"csse_province_state\":\"ccse_name\",\"csse_province_state2\":\"ccse_name2\",\"population_urban\":\"urban_pop_rate\"},inplace=True)\n",
        "\n",
        "regions_info = pd.read_csv(\"/content/sberbank-covid19-forecast-2020/data/regions-info.csv\", decimal=\",\")\n",
        "regions_info = regions_info[[\"Region_eng\",\"Density_pop_sqkm\",\"Area\"]]\n",
        "regions_info.rename(columns={\"Region_eng\": \"ccse_name2\",\"Area\": \"land_area\",\"Density_pop_sqkm\": \"density\"},inplace=True)\n",
        "regions= regions.merge(regions_info, how = 'left', left_on='ccse_name2', right_on='ccse_name2')\n",
        "\n",
        "#Загрузить данные заражений по России\n",
        "data_Ru = pd.read_csv(\"/content/COVID-19_plus_Russia/csse_covid_19_data/csse_covid_19_time_series/time_series_covid19_confirmed_RU.csv\").groupby(\"Province_State\").sum()\n",
        "data_Ru = data_Ru.iloc[:,15:].stack().reset_index()\n",
        "data_Ru.columns = [\"countries\",\"date\",\"confirmed\"]\n",
        "#Загрузить данные смертей по России\n",
        "data_deaths_Ru = pd.read_csv(\"/content/COVID-19_plus_Russia/csse_covid_19_data/csse_covid_19_time_series/time_series_covid19_deaths_RU.csv\").groupby(\"Province_State\").sum()\n",
        "data_deaths_Ru = data_deaths_Ru.iloc[:,15:].stack().reset_index()\n",
        "data_deaths_Ru.columns = [\"countries\",\"date\",\"deaths\"]\n",
        "data_Ru = data_Ru.merge(data_deaths_Ru, how = 'left', left_on=('countries','date'), right_on=('countries','date'))\n",
        "data_Ru[\"recovered\"] = 0\n",
        "\n",
        "data_Ru_today = pd.read_csv(\"/content/sberbank-covid19-forecast-2020/data/covid19-russia-cases.csv\")\n",
        "data_Ru_today = data_Ru_today[data_Ru_today['Region/City-Eng']!=\"Diamond Princess\"]\n",
        "data_Ru_today = data_Ru_today[[\"Region/City-Eng\",\"Date\",\"Confirmed\",\t\"Deaths\",\t\"Recovered\"]]\n",
        "data_Ru_today.columns = [\"countries\",\"date\",\"confirmed\",\"deaths\",\"recovered\"]\n",
        "data_Ru_today = data_Ru_today[data_Ru_today.date == today]\n",
        "data_Ru_today = data_Ru_today.replace(regions.ccse_name2.to_list(), regions.ccse_name.to_list())\n",
        "data_Ru = pd.concat([data_Ru, data_Ru_today])\n",
        "regions.drop(['ccse_name2'], axis='columns',inplace=True)\n",
        "countries = pd.concat([countries, regions])\n",
        "\n",
        "#Загрузить USA\n",
        "data_USA = pd.read_csv(\"/content/COVID-19/csse_covid_19_data/csse_covid_19_time_series/time_series_covid19_confirmed_US.csv\")\n",
        "data_USA = data_USA.groupby(\"Province_State\").sum()\n",
        "data_USA = data_USA.iloc[:,5:].stack().reset_index()\n",
        "data_USA.columns = [\"countries\",\"date\",\"confirmed\"]\n",
        "\n",
        "data_USA_deaths = pd.read_csv(\"/content/COVID-19/csse_covid_19_data/csse_covid_19_time_series/time_series_covid19_deaths_US.csv\")\n",
        "data_USA_deaths = data_USA_deaths.groupby(\"Province_State\").sum()\n",
        "data_USA_deaths = data_USA_deaths.iloc[:,5:].stack().reset_index()\n",
        "data_USA_deaths.columns = [\"countries\",\"date\",\"deaths\"]\n",
        "data_USA = data_USA.merge(data_USA_deaths, how = 'left', left_on=('countries','date'), right_on=('countries','date'))\n",
        "data_USA[\"recovered\"] = 0\n",
        "data_USA.loc[data_USA.countries ==\"Georgia\",\"countries\"] = \"Georgia2\"\n",
        "USA = pd.read_csv(\"/content/sberbank-covid19-forecast-2020/data/USA.csv\")\n",
        "USA[\"iso_alpha3\"] = \"USA_\" + USA[\"ccse_name\"]\n",
        "USA[\"urban_pop_rate\"] = USA[\"urban_pop_rate\"]/100\n",
        "countries = pd.concat([countries, USA])\n",
        "\n",
        "\n",
        "#Загрузить список стран c датами\n",
        "data_ans = pd.read_csv(\"/content/sberbank-covid19-forecast-2020/sample_submission.csv\").iloc[:,:-1]\n",
        "data_ans[\"confirmed\"] = -1\n",
        "data_ans = data_ans.merge(countries, how = 'left', left_on='region', right_on='iso_alpha3')\n",
        "data_ans = data_ans[[\"date\",\"ccse_name\",\"confirmed\"]]\n",
        "data_ans = data_ans.rename(columns={\"ccse_name\": \"countries\"})\n",
        "data_ans[\"deaths\"] = 0\n",
        "data_ans[\"recovered\"] = 0\n",
        "data_ans = data_ans[data_ans.date >= today]\n",
        "\n",
        "#Загрузить данные заражений по миру\n",
        "data = pd.read_csv(\"/content/COVID-19/csse_covid_19_data/csse_covid_19_time_series/time_series_covid19_confirmed_global.csv\")\n",
        "data = data.groupby(\"Country/Region\").sum()\n",
        "\n",
        "#Загрузить данные смертей по миру\n",
        "data_deaths = pd.read_csv(\"/content/COVID-19/csse_covid_19_data/csse_covid_19_time_series/time_series_covid19_deaths_global.csv\")\n",
        "data_deaths = data_deaths.groupby(\"Country/Region\").sum()\n",
        "\n",
        "\n",
        "#Каждый день на новой строке\n",
        "data_deaths = data_deaths.iloc[:,4:].stack().reset_index()\n",
        "data_deaths.columns = [\"countries\",\"date\",\"deaths\"]\n",
        "\n",
        "#Загрузить данные смертей по миру\n",
        "data_recovered = pd.read_csv(\"/content/COVID-19/csse_covid_19_data/csse_covid_19_time_series/time_series_covid19_recovered_global.csv\")\n",
        "data_recovered = data_recovered.groupby(\"Country/Region\").sum()\n",
        "data_recovered = data_recovered.iloc[:,4:].stack().reset_index()\n",
        "data_recovered.columns = [\"countries\",\"date\",\"recovered\"]\n",
        "data_recovered[\"recovered\"] = np.log10(data_recovered[\"recovered\"]+1)\n",
        "\n",
        "#Карантин\n",
        "data_quarantine = pd.read_csv(\"/content/sberbank-covid19/data/quarantine.csv\")\n",
        "data_quarantine = data_quarantine.groupby(\"country\").max().loc[:,\"date\"]\n",
        "countries = countries.set_index(\"iso_alpha3\", drop=False)\n",
        "countries[\"Quarantine\"] = data_quarantine\n",
        "countries = countries.rename(columns={\"ccse_name\": \"countries\"})\n",
        "dic_countries = dict(zip(countries.iso_alpha3.to_list(), countries.countries.to_list()))\n",
        "\n",
        "# Сегоднящние данные\n",
        "countries_today = pd.read_csv(\"/content/COVID-19-new/data/cases_country.csv\")\n",
        "countries_today[\"Last_Update\"] = pd.to_datetime(countries_today[\"Last_Update\"]).apply(lambda x: pd.Series(x.strftime(\"%Y-%m-%d\")))\n",
        "countries_today = countries_today[[\"Country_Region\",\"Last_Update\",\"Confirmed\",\"Deaths\",\"Recovered\"]]\n",
        "countries_today.columns = ['countries', 'date', 'confirmed', 'deaths', 'recovered']\n",
        "countries_today.recovered =  np.log10(countries_today[\"recovered\"]+1)\n",
        "countries_today = countries_today[countries_today.countries.isin(countries.countries.to_list())]\n",
        "countries_today = countries_today.sort_values(by='countries')\n",
        "\n",
        "#Здравохранение\n",
        "Health_systems = pd.read_csv(\"/content/sberbank-covid19-forecast-2020/data/2.12_Health_systems.csv\").groupby(\"Country_Region\").mean()\n",
        "Health_systems = Health_systems.fillna(Health_systems.mean())\n",
        "Health_systems = Health_systems[[\"Health_exp_pct_GDP_2016\",\"Health_exp_per_capita_USD_2016\",\"Physicians_per_1000_2009-18\",\"Nurse_midwife_per_1000_2009-18\"]]\n",
        "Health_systems.columns = [\"Health_GDP\",\"Health_USD\",\"Physicians\",\"Nurse\"]\n",
        "countries = countries.merge(Health_systems, how = 'left', left_on='countries', right_on='Country_Region')\n",
        "\n",
        "#Возраст\n",
        "WorldPop = pd.read_csv(\"/content/sberbank-covid19-forecast-2020/data/WorldPopulationByAge2020.csv\")\n",
        "WorldPop = WorldPop.fillna(WorldPop.mean())\n",
        "WorldPop2 = (WorldPop[WorldPop[\"AgeGrp\"]==\"60+\"][\"PopTotal\"].to_numpy() + WorldPop[WorldPop[\"AgeGrp\"]==\"40-59\"][\"PopTotal\"].to_numpy())/(WorldPop[WorldPop[\"AgeGrp\"]==\"0-19\"][\"PopTotal\"].to_numpy()+WorldPop[WorldPop[\"AgeGrp\"]==\"20-39\"][\"PopTotal\"].to_numpy())\n",
        "WorldPop = WorldPop.groupby(\"Location\").mean()\n",
        "WorldPop[\"Age_old/new\"] = WorldPop2\n",
        "WorldPop = WorldPop[[\"Age_old/new\"]].reset_index()\n",
        "countries = countries.merge(WorldPop, how = 'left', left_on='countries', right_on='Location')\n",
        "\n",
        "#Курение\n",
        "smoke = pd.read_csv(\"/content/sberbank-covid19-forecast-2020/data/share-of-adults-who-smoke.csv\")\n",
        "smoke = smoke[smoke.Year > 2015].groupby(\"Entity\").mean()\n",
        "smoke = smoke[[\"Smoking prevalence, total (ages 15+) (% of adults)\"]]\n",
        "smoke.columns = [\"Smoking\"]\n",
        "smoke = smoke.reset_index()\n",
        "countries= countries.merge(smoke, how = 'left', left_on='countries', right_on='Entity')\n",
        "countries.drop(['Entity','Location'], axis='columns',inplace=True)\n",
        "\n",
        "#Еще инфа о странах\n",
        "countries2 = pd.read_csv(\"/content/sberbank-covid19-forecast-2020/data/covid19countryinfo.csv\")\n",
        "countries2 = countries2.fillna(0).groupby(\"country\").sum()\n",
        "countries2 = countries2[[\"tests\",\"testpop\",\"gatheringlimit\",\"hospibed\",\"healthperpop\"]]\n",
        "countries = countries.merge(countries2, how = 'left', left_on='countries', right_on='country')\n",
        "\n",
        "\n",
        "countries[\"region\"] = 0\n",
        "countries.loc[countries.iso_alpha3.str.contains('-'),\"region\"] = 1\n",
        "countries.loc[countries.iso_alpha3.str.contains('USA_'),\"region\"] = 2\n",
        "\n",
        "\"\"\"#mobility-google\n",
        "mobility = pd.read_csv(\"/content/sberbank-covid19/data/mobility-google.csv\")\n",
        "mobility.columns = [\"country\",\"date\",\"Parks\",\"Residential\",\"Retail & recreation\",\"Transit stations\",\"Workplaces\",\"Grocery & pharmacy\"]\n",
        "mobility[\"date\"] = pd.to_datetime(mobility.date)\n",
        "\n",
        "mobility_apple = pd.read_csv(\"/content/sberbank-covid19/data/mobility-apple.csv\")\n",
        "mobility_apple.drop(['apl-transit'], axis='columns',inplace=True)\n",
        "mobility_apple.columns = [\"date\", \"country\", \"driving\", \"walking\"]\n",
        "mobility_apple[\"date\"] = pd.to_datetime(mobility_apple.date)\n",
        "\n",
        "mobility_yandex = pd.read_csv(\"/content/sberbank-covid19/data/mobility-yandex.csv\")\n",
        "mobility_yandex[\"date\"] = pd.to_datetime(mobility_yandex.date)\"\"\""
      ],
      "execution_count": 8,
      "outputs": [
        {
          "output_type": "execute_result",
          "data": {
            "text/plain": [
              "'#mobility-google\\nmobility = pd.read_csv(\"/content/sberbank-covid19/data/mobility-google.csv\")\\nmobility.columns = [\"country\",\"date\",\"Parks\",\"Residential\",\"Retail & recreation\",\"Transit stations\",\"Workplaces\",\"Grocery & pharmacy\"]\\nmobility[\"date\"] = pd.to_datetime(mobility.date)\\n\\nmobility_apple = pd.read_csv(\"/content/sberbank-covid19/data/mobility-apple.csv\")\\nmobility_apple.drop([\\'apl-transit\\'], axis=\\'columns\\',inplace=True)\\nmobility_apple.columns = [\"date\", \"country\", \"driving\", \"walking\"]\\nmobility_apple[\"date\"] = pd.to_datetime(mobility_apple.date)\\n\\nmobility_yandex = pd.read_csv(\"/content/sberbank-covid19/data/mobility-yandex.csv\")\\nmobility_yandex[\"date\"] = pd.to_datetime(mobility_yandex.date)'"
            ]
          },
          "metadata": {
            "tags": []
          },
          "execution_count": 8
        }
      ]
    },
    {
      "cell_type": "code",
      "metadata": {
        "id": "lwl1Gki0kcPO",
        "colab_type": "code",
        "colab": {}
      },
      "source": [
        "# Избавляемся от Nan\n",
        "countries_mean = countries.mean()\n",
        "countries[countries.region==2] = countries[countries.region==2].fillna(countries[countries.iso_alpha3 == \"USA\"].to_dict('records')[0])\n",
        "countries[countries.region==1] = countries[countries.region==1].fillna(countries[countries.iso_alpha3 == \"RUS\"].to_dict('records')[0])\n",
        "countries.loc[countries.tests == 0,\"tests\"] = countries.tests.mean()\n",
        "countries.loc[countries.testpop == 0,\"testpop\"] = countries.testpop.mean()\n",
        "countries.loc[countries.gatheringlimit == 0,\"gatheringlimit\"] = countries.gatheringlimit.mean()\n",
        "countries.loc[countries.hospibed == 0,\"hospibed\"] = countries.hospibed.mean()\n",
        "countries['Quarantine'] = countries['Quarantine'].fillna(\"2020-04-10\")\n",
        "countries = countries.fillna(countries_mean.to_dict())"
      ],
      "execution_count": 0,
      "outputs": []
    },
    {
      "cell_type": "markdown",
      "metadata": {
        "id": "v2gXwGZ-Js5u",
        "colab_type": "text"
      },
      "source": [
        "## Смотрим на первые страны"
      ]
    },
    {
      "cell_type": "code",
      "metadata": {
        "id": "TMVUPrvb_JYP",
        "colab_type": "code",
        "outputId": "e6bee96a-5ec5-4466-ab40-1f72602d3f91",
        "colab": {
          "base_uri": "https://localhost:8080/",
          "height": 282
        }
      },
      "source": [
        "\n",
        "data.iloc[:8].T.iloc[50:].plot()"
      ],
      "execution_count": 10,
      "outputs": [
        {
          "output_type": "execute_result",
          "data": {
            "text/plain": [
              "<matplotlib.axes._subplots.AxesSubplot at 0x7f6c58366fd0>"
            ]
          },
          "metadata": {
            "tags": []
          },
          "execution_count": 10
        },
        {
          "output_type": "display_data",
          "data": {
            "image/png": "[encoded data removed]",
            "text/plain": [
              "<Figure size 432x288 with 1 Axes>"
            ]
          },
          "metadata": {
            "tags": [],
            "needs_background": "light"
          }
        }
      ]
    },
    {
      "cell_type": "markdown",
      "metadata": {
        "id": "ZQjmbQDZz6NH",
        "colab_type": "text"
      },
      "source": [
        "# Обрабатываем данные"
      ]
    },
    {
      "cell_type": "markdown",
      "metadata": {
        "id": "aWqa7oXAHPmJ",
        "colab_type": "text"
      },
      "source": [
        "## Представляем данные в виде, где каждой дате соответствует свой столбец"
      ]
    },
    {
      "cell_type": "code",
      "metadata": {
        "id": "aZyMgfcUSUIB",
        "colab_type": "code",
        "outputId": "454ccc50-add1-4511-c54e-cfa6129fe903",
        "colab": {
          "base_uri": "https://localhost:8080/",
          "height": 54
        }
      },
      "source": [
        "data2 = data.iloc[:,4:].stack().reset_index()\n",
        "data2.columns = [\"countries\",\"date\",\"confirmed\"]\n",
        "\n",
        "#Соединим смерти и заражения\n",
        "data2 = data2.merge(data_deaths, how = 'left', left_on=('countries','date'), right_on=('countries','date'))\n",
        "\n",
        "# Добавим выздоровивших\n",
        "data2 = data2.merge(data_recovered, how = 'left', left_on=('countries','date'), right_on=('countries','date'))\n",
        "data2 = data2[data2.countries.isin(countries.countries.to_list())]\n",
        "\n",
        "#Объединим с сегодня\n",
        "last_confirmed = data2.loc[pd.to_datetime(data2.date) == pd.to_datetime(today) - pd.offsets.Day(1)].sort_values(by='countries')\n",
        "countries_today_new = countries_today[countries_today.confirmed.values > last_confirmed.confirmed.values]\n",
        "data2 = pd.concat([data2, countries_today_new],ignore_index=True)\n",
        "\n",
        "#Добавим Россию\n",
        "data2 = pd.concat([data2, data_Ru],ignore_index=True)\n",
        "\n",
        "#Добавим USA\n",
        "data2 = pd.concat([data2, data_USA],ignore_index=True)\n",
        "\n",
        "#Объединим с будущим\n",
        "data_ans = data_ans[(data_ans.date != today)|(~(data_ans.countries.isin(countries_today_new.countries.values))&~(data_ans.countries.isin(data_Ru_today.countries.values)))]\n",
        "data2 = pd.concat([data2, data_ans],ignore_index=True)\n",
        "\n",
        "\n",
        "#Добавим информацию о стране(плотность, население и тд)\n",
        "data2 = data2.merge(countries, how = 'right', left_on='countries', right_on='countries')\n",
        "\n",
        "#Удалим дни без больных\n",
        "data2 = data2[data2.confirmed != 0]\n",
        "data2.loc[data2.confirmed == -1,\"confirmed\"] = 0\n",
        "\n",
        "\n",
        "data2[\"date\"] = pd.to_datetime(data2.date)\n",
        "\n",
        "\"\"\"\n",
        "data2 = data2.merge(mobility_yandex, how = 'left', left_on=('iso_alpha3','date'), right_on=('country','date'))\n",
        "mobility_min = mobility_yandex.groupby(\"country\").min().drop(['date'], axis='columns')\n",
        "mobility_min.columns = ['min_isolation']\n",
        "data2 = data2.merge(mobility_min, how = 'left', left_on='iso_alpha3', right_on='country')\n",
        "data2.loc[(data2.isolation.isnull())&(data2.date>pd.to_datetime(\"2020-04-01\")),\n",
        "          'isolation'] = data2.loc[(data2.isolation.isnull())&(data2.date>pd.to_datetime(\"2020-04-01\")),'min_isolation'].to_numpy()\n",
        "data2.drop(['country', 'min_isolation'], axis='columns',inplace=True)\n",
        "#data2['isolation'] = data2['isolation'].fillna(data2['isolation'].mean())\n",
        "data2['isolation'] = (data2['isolation'])/5\n",
        "\n",
        "\n",
        "data2 = data2.merge(mobility_apple, how = 'left', left_on=('iso_alpha3','date'), right_on=('country','date'))\n",
        "mobility_min = mobility_apple.groupby(\"country\").min().drop(['date'], axis='columns')\n",
        "mobility_min.columns = ['min_driving', 'min_walking']\n",
        "data2 = data2.merge(mobility_min, how = 'left', left_on='iso_alpha3', right_on='country')\n",
        "data2.loc[(data2.driving.isnull())&(data2.date>pd.to_datetime(\"2020-04-01\")),\n",
        "          ['driving', 'walking']] = data2.loc[(data2.driving.isnull())&(data2.date>pd.to_datetime(\"2020-04-01\")),['min_driving', 'min_walking']].to_numpy()\n",
        "data2.drop(['country', 'min_driving', 'min_walking'], axis='columns',inplace=True)\n",
        "#data2.loc[data2.region==2,['driving', 'walking']] = data2.loc[data2.region==2,['driving', 'walking']].fillna(data2.loc[data2.iso_alpha3 == \"USA\",['driving', 'walking']].to_dict('records')[0])\n",
        "#data2.loc[data2.region==1,['driving', 'walking']] = data2.loc[data2.region==1,['driving', 'walking']].fillna(data2.loc[data2.iso_alpha3 == \"RUS\",['driving', 'walking']].to_dict('records')[0])\n",
        "#data2[['driving', 'walking']] = data2[['driving', 'walking']].fillna(data2[['driving', 'walking']].mean())\n",
        "data2.loc[data2.region != 1,'isolation'] = (data2['driving'] +  data2['walking'])/100\n",
        "\n",
        "\n",
        "data2 = data2.merge(mobility, how = 'left', left_on=('iso_alpha3','date'), right_on=('country','date'))\n",
        "mobility_min = mobility.groupby(\"country\").min().drop(['date'], axis='columns')\n",
        "mobility_min.columns = ['min_Retail & recreation', 'min_Grocery & pharmacy', 'min_Parks',\n",
        "       'min_Transit stations', 'min_Workplaces', 'min_Residential']\n",
        "data2 = data2.merge(mobility_min, how = 'left', left_on='iso_alpha3', right_on='country')\n",
        "data2.loc[(data2.Parks.isnull())&(data2.date>pd.to_datetime(\"2020-04-01\")),\n",
        "          ['Retail & recreation', 'Grocery & pharmacy', 'Parks', 'Transit stations', 'Workplaces', \n",
        "           'Residential']] = data2.loc[(data2.Parks.isnull())&(data2.date>pd.to_datetime(\"2020-04-01\")),\n",
        "                                       ['min_Retail & recreation', 'min_Grocery & pharmacy', 'min_Parks',\n",
        "       'min_Transit stations', 'min_Workplaces', 'min_Residential']].to_numpy()\n",
        "data2.drop(['country', 'min_Retail & recreation', 'min_Grocery & pharmacy', 'min_Parks',\n",
        "       'min_Transit stations', 'min_Workplaces', 'min_Residential'], axis='columns',inplace=True)\n",
        "data2.loc[data2.isolation.isnull(),'isolation'] = (data2['Retail & recreation'] +data2['Grocery & pharmacy'] +data2[ 'Parks'] \n",
        "                                                   +data2['Transit stations'] +data2[ 'Workplaces'] +data2[ 'Residential']+500)/1000     \n",
        "\n",
        "data2['isolation'] = data2['isolation'].fillna(data2['isolation'].mean())\"\"\""
      ],
      "execution_count": 11,
      "outputs": [
        {
          "output_type": "execute_result",
          "data": {
            "text/plain": [
              "'\\ndata2 = data2.merge(mobility_yandex, how = \\'left\\', left_on=(\\'iso_alpha3\\',\\'date\\'), right_on=(\\'country\\',\\'date\\'))\\nmobility_min = mobility_yandex.groupby(\"country\").min().drop([\\'date\\'], axis=\\'columns\\')\\nmobility_min.columns = [\\'min_isolation\\']\\ndata2 = data2.merge(mobility_min, how = \\'left\\', left_on=\\'iso_alpha3\\', right_on=\\'country\\')\\ndata2.loc[(data2.isolation.isnull())&(data2.date>pd.to_datetime(\"2020-04-01\")),\\n          \\'isolation\\'] = data2.loc[(data2.isolation.isnull())&(data2.date>pd.to_datetime(\"2020-04-01\")),\\'min_isolation\\'].to_numpy()\\ndata2.drop([\\'country\\', \\'min_isolation\\'], axis=\\'columns\\',inplace=True)\\n#data2[\\'isolation\\'] = data2[\\'isolation\\'].fillna(data2[\\'isolation\\'].mean())\\ndata2[\\'isolation\\'] = (data2[\\'isolation\\'])/5\\n\\n\\ndata2 = data2.merge(mobility_apple, how = \\'left\\', left_on=(\\'iso_alpha3\\',\\'date\\'), right_on=(\\'country\\',\\'date\\'))\\nmobility_min = mobility_apple.groupby(\"country\").min().drop([\\'date\\'], axis=\\'columns\\')\\nmobility_min.columns = [\\'min_driving\\', \\'min_walking\\']\\ndata2 = data2.merge(mobility_min, how = \\'left\\', left_on=\\'iso_alpha3\\', right_on=\\'country\\')\\ndata2.loc[(data2.driving.isnull())&(data2.date>pd.to_datetime(\"2020-04-01\")),\\n          [\\'driving\\', \\'walking\\']] = data2.loc[(data2.driving.isnull())&(data2.date>pd.to_datetime(\"2020-04-01\")),[\\'min_driving\\', \\'min_walking\\']].to_numpy()\\ndata2.drop([\\'country\\', \\'min_driving\\', \\'min_walking\\'], axis=\\'columns\\',inplace=True)\\n#data2.loc[data2.region==2,[\\'driving\\', \\'walking\\']] = data2.loc[data2.region==2,[\\'driving\\', \\'walking\\']].fillna(data2.loc[data2.iso_alpha3 == \"USA\",[\\'driving\\', \\'walking\\']].to_dict(\\'records\\')[0])\\n#data2.loc[data2.region==1,[\\'driving\\', \\'walking\\']] = data2.loc[data2.region==1,[\\'driving\\', \\'walking\\']].fillna(data2.loc[data2.iso_alpha3 == \"RUS\",[\\'driving\\', \\'walking\\']].to_dict(\\'records\\')[0])\\n#data2[[\\'driving\\', \\'walking\\']] = data2[[\\'driving\\', \\'walking\\']].fillna(data2[[\\'driving\\', \\'walking\\']].mean())\\ndata2.loc[data2.region != 1,\\'isolation\\'] = (data2[\\'driving\\'] +  data2[\\'walking\\'])/100\\n\\n\\ndata2 = data2.merge(mobility, how = \\'left\\', left_on=(\\'iso_alpha3\\',\\'date\\'), right_on=(\\'country\\',\\'date\\'))\\nmobility_min = mobility.groupby(\"country\").min().drop([\\'date\\'], axis=\\'columns\\')\\nmobility_min.columns = [\\'min_Retail & recreation\\', \\'min_Grocery & pharmacy\\', \\'min_Parks\\',\\n       \\'min_Transit stations\\', \\'min_Workplaces\\', \\'min_Residential\\']\\ndata2 = data2.merge(mobility_min, how = \\'left\\', left_on=\\'iso_alpha3\\', right_on=\\'country\\')\\ndata2.loc[(data2.Parks.isnull())&(data2.date>pd.to_datetime(\"2020-04-01\")),\\n          [\\'Retail & recreation\\', \\'Grocery & pharmacy\\', \\'Parks\\', \\'Transit stations\\', \\'Workplaces\\', \\n           \\'Residential\\']] = data2.loc[(data2.Parks.isnull())&(data2.date>pd.to_datetime(\"2020-04-01\")),\\n                                       [\\'min_Retail & recreation\\', \\'min_Grocery & pharmacy\\', \\'min_Parks\\',\\n       \\'min_Transit stations\\', \\'min_Workplaces\\', \\'min_Residential\\']].to_numpy()\\ndata2.drop([\\'country\\', \\'min_Retail & recreation\\', \\'min_Grocery & pharmacy\\', \\'min_Parks\\',\\n       \\'min_Transit stations\\', \\'min_Workplaces\\', \\'min_Residential\\'], axis=\\'columns\\',inplace=True)\\ndata2.loc[data2.isolation.isnull(),\\'isolation\\'] = (data2[\\'Retail & recreation\\'] +data2[\\'Grocery & pharmacy\\'] +data2[ \\'Parks\\'] \\n                                                   +data2[\\'Transit stations\\'] +data2[ \\'Workplaces\\'] +data2[ \\'Residential\\']+500)/1000     \\n\\ndata2[\\'isolation\\'] = data2[\\'isolation\\'].fillna(data2[\\'isolation\\'].mean())'"
            ]
          },
          "metadata": {
            "tags": []
          },
          "execution_count": 11
        }
      ]
    },
    {
      "cell_type": "code",
      "metadata": {
        "id": "v_bWNQR45Jsx",
        "colab_type": "code",
        "colab": {}
      },
      "source": [
        "log_labels = True\n",
        "\n",
        "if log_labels:\n",
        "  data2.confirmed = np.log10(data2.confirmed+1)\n",
        "  data2.deaths = np.log10(data2.deaths+1)\n",
        "else:\n",
        "  data2.confirmed = data2.confirmed/10**4\n",
        "  data2.deaths = data2.deaths/10**3"
      ],
      "execution_count": 0,
      "outputs": []
    },
    {
      "cell_type": "markdown",
      "metadata": {
        "id": "rgQAinJNj4HU",
        "colab_type": "text"
      },
      "source": [
        "## Добавить данные за прошлый день"
      ]
    },
    {
      "cell_type": "code",
      "metadata": {
        "id": "okBJhPd2jyGB",
        "colab_type": "code",
        "colab": {}
      },
      "source": [
        "old_con = data2[\"confirmed\"].iloc[:-1]\n",
        "old_con2 = data2[\"deaths\"].iloc[:-1]\n",
        "old_recovered = data2[\"recovered\"].iloc[:-1]\n",
        "data2 = data2.iloc[1:]\n",
        "data2[\"pred_conf\"] = old_con.values\n",
        "data2[\"pred_deaths\"] = old_con2.values\n",
        "data2[\"pred_recovered\"] = old_recovered.values\n",
        "\n",
        "if log_labels:\n",
        "  data2[\"delta_conf\"] = data2[\"confirmed\"] - data2[\"pred_conf\"]\n",
        "  data2[\"delta_deaths\"] = data2[\"deaths\"] - data2[\"pred_deaths\"]\n",
        "else:\n",
        "  data2[\"delta_conf\"] = data2.confirmed/(data2[\"pred_conf\"]+0.0001) - 1\n",
        "  data2[\"delta_deaths\"] = data2.deaths/(data2[\"pred_deaths\"]+0.001) - 1\n",
        "  \n",
        "data2 = data2.iloc[1:]\n",
        "data2[\"delta_conf1\"] = old_con.values[1:] - old_con.values[:-1]\n",
        "data2[\"delta_deaths1\"] = old_con2.values[1:] - old_con2.values[:-1]\n",
        "data2 = data2.iloc[1:]\n",
        "data2[\"delta_conf2\"] = old_con.values[1:-1] - old_con.values[:-2]\n",
        "data2[\"delta_deaths2\"] = old_con2.values[1:-1] - old_con2.values[:-2]\n",
        "\n",
        "data2 = data2.iloc[1:]\n",
        "data2[\"delta_conf3\"] = old_con.values[1:-2] - old_con.values[:-3]\n",
        "data2[\"delta_deaths3\"] = old_con2.values[1:-2] - old_con2.values[:-3]\n",
        "\n",
        "data2 = data2.iloc[1:]\n",
        "data2[\"delta_conf4\"] = old_con.values[1:-3] - old_con.values[:-4]\n",
        "data2[\"delta_deaths4\"] = old_con2.values[1:-3] - old_con2.values[:-4]\n",
        "\n",
        "data2 = data2.iloc[1:]\n",
        "data2[\"delta_conf5\"] = old_con.values[1:-4] - old_con.values[:-5]\n",
        "data2[\"delta_deaths5\"] = old_con2.values[1:-4] - old_con2.values[:-5]\n",
        "\n",
        "data2 = data2.iloc[1:]\n",
        "data2[\"delta_conf6\"] = old_con.values[1:-5] - old_con.values[:-6]\n",
        "data2[\"delta_deaths6\"] = old_con2.values[1:-5] - old_con2.values[:-6]\n",
        "\n",
        "data2[\"delta_conf_sum\"] = (data2[\"delta_conf1\"] + data2[\"delta_conf2\"] + data2[\"delta_conf3\"] + data2[\"delta_conf4\"] + data2[\"delta_conf5\"] +data2[\"delta_conf6\"] ) /6\n",
        "data2[\"delta_conf_sum3\"] = (data2[\"delta_deaths1\"] + data2[\"delta_deaths2\"] + data2[\"delta_deaths3\"]) /3\n",
        "\n",
        "\n",
        "data2[\"delta_conf_count\"] = 0\n",
        "data2.loc[(data2[\"delta_conf1\"] < data2[\"delta_conf2\"]) | ((data2[\"delta_conf1\"] <0.02) & (data2[\"delta_conf1\"]>0)),\"delta_conf_count\"] +=0.2\n",
        "data2.loc[(data2[\"delta_conf2\"] < data2[\"delta_conf3\"]) | ((data2[\"delta_conf2\"] <0.02) & (data2[\"delta_conf2\"]>0)),\"delta_conf_count\"] +=0.2\n",
        "data2.loc[(data2[\"delta_conf3\"] < data2[\"delta_conf4\"]) | ((data2[\"delta_conf3\"] <0.02) & (data2[\"delta_conf3\"]>0)),\"delta_conf_count\"] +=0.2\n",
        "data2.loc[(data2[\"delta_conf4\"] < data2[\"delta_conf5\"]) | ((data2[\"delta_conf4\"] <0.02) & (data2[\"delta_conf4\"]>0)),\"delta_conf_count\"] +=0.2\n",
        "data2.loc[(data2[\"delta_conf5\"] < data2[\"delta_conf6\"]) | ((data2[\"delta_conf5\"] <0.02) & (data2[\"delta_conf5\"]>0)),\"delta_conf_count\"] +=0.2\n",
        "\n",
        "\n",
        "\n",
        "\"\"\"data2[\"Retail_Grocery_Parks_Transit_Workplaces\"] = data2['Retail & recreation'] + data2['Grocery & pharmacy'] + data2['Parks'] + data2['Transit stations'] + data2['Workplaces']\n",
        "data2[\"Retail_Grocery_Parks_Transit_Workplaces\"] = data2[\"Retail_Grocery_Parks_Transit_Workplaces\"]/500\"\"\"\n",
        "\n",
        "data2['population_log'] = np.log10(data2.population+1)\n",
        "data2['pred_conf-population_log'] = data2['pred_conf'] - data2['population_log'] + 3"
      ],
      "execution_count": 0,
      "outputs": []
    },
    {
      "cell_type": "markdown",
      "metadata": {
        "id": "cP_K0n4zHt6z",
        "colab_type": "text"
      },
      "source": [
        "## Добавляем признак, количество дней от первого зараженного"
      ]
    },
    {
      "cell_type": "code",
      "metadata": {
        "id": "gF73ZobwHs-Z",
        "colab_type": "code",
        "colab": {}
      },
      "source": [
        "# Считаем дни от первого больного\n",
        "end_date = \"2020-05-01\"\n",
        "#data2 = data2[(data2[\"date\"]<pd.to_datetime(\"2020-05-1\")) & ((data2[\"date\"]>pd.to_datetime(\"2020-04-1\")) | (data2.confirmed !=-1))]\n",
        "data4 = data2[[\"countries\",\"date\"]].groupby(\"countries\").min()\n",
        "data4.columns = [\"Date_min\"]\n",
        "data2 = data2.merge(data4, how = 'left', left_on='countries', right_on='countries')\n",
        "data2[\"days\"] = (data2.date - data2.Date_min).dt.days\n",
        "\n",
        "data4 = data2.loc[data2.confirmed > 0.5, [\"countries\",\"date\"]].groupby(\"countries\").min()\n",
        "data4.columns = [\"Date_5\"]\n",
        "data2 = data2.merge(data4, how = 'left', left_on='countries', right_on='countries')\n",
        "data2['Date_5'] = data2['Date_5'].fillna(pd.to_datetime(end_date))\n",
        "data2[\"days_5\"] = (data2.date - data2.Date_5).dt.days\n",
        "#data2.loc[data2[\"days_10\"]<0,\"days_10\"] = 0\n",
        "\n",
        "data4 = data2.loc[data2.confirmed > 1, [\"countries\",\"date\"]].groupby(\"countries\").min()\n",
        "data4.columns = [\"Date_10\"]\n",
        "data2 = data2.merge(data4, how = 'left', left_on='countries', right_on='countries')\n",
        "data2['Date_10'] = data2['Date_10'].fillna(pd.to_datetime(end_date))\n",
        "data2[\"days_10\"] = (data2.date - data2.Date_10).dt.days\n",
        "#data2.loc[data2[\"days_10\"]<0,\"days_10\"] = 0\n",
        "\n",
        "data4 = data2.loc[data2.confirmed > 1.5, [\"countries\",\"date\"]].groupby(\"countries\").min()\n",
        "data4.columns = [\"Date_50\"]\n",
        "data2 = data2.merge(data4, how = 'left', left_on='countries', right_on='countries')\n",
        "data2['Date_50'] = data2['Date_50'].fillna(pd.to_datetime(end_date))\n",
        "data2[\"days_50\"] = (data2.date - data2.Date_50).dt.days\n",
        "#data2.loc[data2[\"days_10\"]<0,\"days_10\"] = 0\n",
        "\n",
        "data4 = data2.loc[data2.confirmed > 2, [\"countries\",\"date\"]].groupby(\"countries\").min()\n",
        "data4.columns = [\"Date_100\"]\n",
        "data2 = data2.merge(data4, how = 'left', left_on='countries', right_on='countries')\n",
        "data2['Date_100'] = data2['Date_100'].fillna(pd.to_datetime(end_date))\n",
        "data2[\"days_100\"] = (data2.date - data2.Date_100).dt.days\n",
        "#data2.loc[data2[\"days_100\"]<0,\"days_100\"] = 0\n",
        "\n",
        "data4 = data2.loc[data2.confirmed > 2.5, [\"countries\",\"date\"]].groupby(\"countries\").min()\n",
        "data4.columns = [\"Date_500\"]\n",
        "data2 = data2.merge(data4, how = 'left', left_on='countries', right_on='countries')\n",
        "data2['Date_500'] = data2['Date_500'].fillna(pd.to_datetime(end_date))\n",
        "data2[\"days_500\"] = (data2.date - data2.Date_500).dt.days\n",
        "#data2.loc[data2[\"days_10\"]<0,\"days_10\"] = 0\n",
        "\n",
        "data4 = data2.loc[data2.confirmed > 3, [\"countries\",\"date\"]].groupby(\"countries\").min()\n",
        "data4.columns = [\"Date_1000\"]\n",
        "data2 = data2.merge(data4, how = 'left', left_on='countries', right_on='countries')\n",
        "data2['Date_1000'] = data2['Date_1000'].fillna(pd.to_datetime(end_date))\n",
        "data2[\"days_1000\"] = (data2.date - data2.Date_1000).dt.days\n",
        "#data2.loc[data2[\"days_1000\"]<0,\"days_1000\"] = 0\n",
        "\n",
        "data2[\"days_mart\"] = (data2.date - pd.to_datetime(\"2020-03-1\")).dt.days\n",
        "data2[\"days_after_Quarantine\"] = (data2.date - pd.to_datetime(data2.Quarantine)).dt.days - 14\n",
        "data2.loc[data2[\"days_after_Quarantine\"]<0,\"days_after_Quarantine\"] = 0\n",
        "\n",
        "data4 = data2.loc[data2['pred_conf-population_log'] > 0, [\"countries\",\"date\"]].groupby(\"countries\").min()\n",
        "data4.columns = [\"Date_1_1000\"]\n",
        "data2 = data2.merge(data4, how = 'left', left_on='countries', right_on='countries')\n",
        "data2['Date_1_1000'] = data2['Date_1_1000'].fillna(pd.to_datetime(\"2020-04-01\"))\n",
        "data2[\"days_1_1000\"] = (data2.date - data2[\"Date_1_1000\"]).dt.days\n",
        "#data2.loc[data2[\"days_1_1000\"]<0,\"days_1_1000\"] = 0\n",
        "\n",
        "data4 = data2.loc[data2['pred_conf-population_log'] > -1, [\"countries\",\"date\"]].groupby(\"countries\").min()\n",
        "data4.columns = [\"Date_1_100\"]\n",
        "data2 = data2.merge(data4, how = 'left', left_on='countries', right_on='countries')\n",
        "data2['Date_1_100'] = data2['Date_1_100'].fillna(pd.to_datetime(end_date))\n",
        "data2[\"days_1_100\"] = (data2.date - data2[\"Date_1_100\"]).dt.days\n",
        "#data2.loc[data2[\"days_1_100\"]<0,\"days_1_100\"] = 0\n",
        "\n",
        "data4 = data2.loc[data2['pred_conf-population_log'] > -2, [\"countries\",\"date\"]].groupby(\"countries\").min()\n",
        "data4.columns = [\"Date_1_10000\"]\n",
        "data2 = data2.merge(data4, how = 'left', left_on='countries', right_on='countries')\n",
        "data2['Date_1_10000'] = data2['Date_1_10000'].fillna(pd.to_datetime(end_date))\n",
        "data2[\"days_1_10000\"] = (data2.date - data2[\"Date_1_10000\"]).dt.days\n",
        "#data2.loc[data2[\"days_1_10000\"]<0,\"days_1_10000\"] = 0\n",
        "\n",
        "data2.drop(['Date_min','Date_10','Date_100','Date_1000', 'Date_5','Date_50','Date_500', 'Date_1_1000', 'Date_1_100', 'Date_1_10000'], axis='columns',inplace=True)\n",
        "data2.date = data2[\"date\"].apply(lambda x: pd.Series(x.strftime(\"%m-%d\")))\n"
      ],
      "execution_count": 0,
      "outputs": []
    },
    {
      "cell_type": "code",
      "metadata": {
        "id": "DdugXNiT0_UW",
        "colab_type": "code",
        "outputId": "3caad823-f53d-4860-c6bf-f5207c41ed78",
        "colab": {
          "base_uri": "https://localhost:8080/",
          "height": 326
        }
      },
      "source": [
        "Scale = True\n",
        "\n",
        "if Scale:\n",
        "  data2.density = data2.density/data2.density.max()\n",
        "  data2.fertility_rate = data2.fertility_rate/data2.fertility_rate.max()\n",
        "  data2.land_area = np.log10(data2.land_area+1)\n",
        "  data2.land_area = data2.land_area/data2.land_area.max()\n",
        "  data2.median_age = data2.median_age/data2.median_age.max()\n",
        "  data2.migrants = data2.migrants - data2.migrants.min()\n",
        "  data2.migrants = np.log10(data2.migrants+1)\n",
        "  data2.migrants = data2.migrants/data2.migrants.max()\n",
        "  data2.population = data2.population/data2.population.max()\n",
        "  data2.Health_GDP = data2.Health_GDP/data2.Health_GDP.max()\n",
        "  data2.Health_USD = data2.Health_USD/data2.Health_USD.max()\n",
        "  data2.Physicians = data2.Physicians/data2.Physicians.max()\n",
        "  data2.tests = data2.tests/data2.tests.max()\n",
        "  data2.testpop = data2.testpop/data2.testpop.max()\n",
        "  data2.gatheringlimit = data2.gatheringlimit/data2.gatheringlimit.max()\n",
        "  data2.hospibed = data2.hospibed/data2.hospibed.max()\n",
        "  data2.healthperpop = data2.healthperpop/data2.healthperpop.max()\n",
        "  data2.Nurse = data2.Nurse/data2.Nurse.max()\n",
        "  data2[\"Age_old/new\"] = data2[\"Age_old/new\"]/data2[\"Age_old/new\"].max()\n",
        "  data2.Smoking = data2.Smoking/50\n",
        "  data2.days = data2.days/100\n",
        "  data2.days_10 = data2.days_10/100\n",
        "  data2.days_100 = data2.days_100/100\n",
        "  data2.days_1000 = data2.days_1000/100\n",
        "  data2.days_5 = data2.days_5/100\n",
        "  data2.days_50 = data2.days_50/100\n",
        "  data2.days_500 = data2.days_500/100\n",
        "  data2.days_1_100 = data2.days_1_100/100\n",
        "  data2.days_1_1000 = data2.days_1_1000/100 \n",
        "  data2.days_1_10000 = data2.days_1_10000/100    \n",
        "  data2.days_mart = data2.days_mart/100\n",
        "\n",
        "  data2.days_after_Quarantine = data2.days_after_Quarantine/100\n",
        "  sc_days = 100\n",
        "else:\n",
        "  sc_days = 1\n",
        "data2[data2.iso_alpha3 == \"RUS\"].iloc[70:75]"
      ],
      "execution_count": 15,
      "outputs": [
        {
          "output_type": "execute_result",
          "data": {
            "text/html": [
              "<div>\n",
              "<style scoped>\n",
              "    .dataframe tbody tr th:only-of-type {\n",
              "        vertical-align: middle;\n",
              "    }\n",
              "\n",
              "    .dataframe tbody tr th {\n",
              "        vertical-align: top;\n",
              "    }\n",
              "\n",
              "    .dataframe thead th {\n",
              "        text-align: right;\n",
              "    }\n",
              "</style>\n",
              "<table border=\"1\" class=\"dataframe\">\n",
              "  <thead>\n",
              "    <tr style=\"text-align: right;\">\n",
              "      <th></th>\n",
              "      <th>countries</th>\n",
              "      <th>date</th>\n",
              "      <th>confirmed</th>\n",
              "      <th>deaths</th>\n",
              "      <th>recovered</th>\n",
              "      <th>iso_alpha3</th>\n",
              "      <th>density</th>\n",
              "      <th>fertility_rate</th>\n",
              "      <th>land_area</th>\n",
              "      <th>median_age</th>\n",
              "      <th>migrants</th>\n",
              "      <th>population</th>\n",
              "      <th>urban_pop_rate</th>\n",
              "      <th>world_share</th>\n",
              "      <th>Quarantine</th>\n",
              "      <th>Health_GDP</th>\n",
              "      <th>Health_USD</th>\n",
              "      <th>Physicians</th>\n",
              "      <th>Nurse</th>\n",
              "      <th>Age_old/new</th>\n",
              "      <th>Smoking</th>\n",
              "      <th>tests</th>\n",
              "      <th>testpop</th>\n",
              "      <th>gatheringlimit</th>\n",
              "      <th>hospibed</th>\n",
              "      <th>healthperpop</th>\n",
              "      <th>region</th>\n",
              "      <th>pred_conf</th>\n",
              "      <th>pred_deaths</th>\n",
              "      <th>pred_recovered</th>\n",
              "      <th>delta_conf</th>\n",
              "      <th>delta_deaths</th>\n",
              "      <th>delta_conf1</th>\n",
              "      <th>delta_deaths1</th>\n",
              "      <th>delta_conf2</th>\n",
              "      <th>delta_deaths2</th>\n",
              "      <th>delta_conf3</th>\n",
              "      <th>delta_deaths3</th>\n",
              "      <th>delta_conf4</th>\n",
              "      <th>delta_deaths4</th>\n",
              "      <th>delta_conf5</th>\n",
              "      <th>delta_deaths5</th>\n",
              "      <th>delta_conf6</th>\n",
              "      <th>delta_deaths6</th>\n",
              "      <th>delta_conf_sum</th>\n",
              "      <th>delta_conf_sum3</th>\n",
              "      <th>delta_conf_count</th>\n",
              "      <th>population_log</th>\n",
              "      <th>pred_conf-population_log</th>\n",
              "      <th>days</th>\n",
              "      <th>days_5</th>\n",
              "      <th>days_10</th>\n",
              "      <th>days_50</th>\n",
              "      <th>days_100</th>\n",
              "      <th>days_500</th>\n",
              "      <th>days_1000</th>\n",
              "      <th>days_mart</th>\n",
              "      <th>days_after_Quarantine</th>\n",
              "      <th>days_1_1000</th>\n",
              "      <th>days_1_100</th>\n",
              "      <th>days_1_10000</th>\n",
              "    </tr>\n",
              "  </thead>\n",
              "  <tbody>\n",
              "    <tr>\n",
              "      <th>17969</th>\n",
              "      <td>Russia</td>\n",
              "      <td>04-10</td>\n",
              "      <td>4.076203</td>\n",
              "      <td>1.977724</td>\n",
              "      <td>2.900913</td>\n",
              "      <td>RUS</td>\n",
              "      <td>0.000342</td>\n",
              "      <td>0.257143</td>\n",
              "      <td>1.0</td>\n",
              "      <td>0.833333</td>\n",
              "      <td>0.9542</td>\n",
              "      <td>0.101391</td>\n",
              "      <td>0.74</td>\n",
              "      <td>0.0187</td>\n",
              "      <td>2020-03-30</td>\n",
              "      <td>0.309942</td>\n",
              "      <td>0.047529</td>\n",
              "      <td>0.487805</td>\n",
              "      <td>0.423645</td>\n",
              "      <td>0.391229</td>\n",
              "      <td>0.786</td>\n",
              "      <td>0.356813</td>\n",
              "      <td>0.003023</td>\n",
              "      <td>0.070348</td>\n",
              "      <td>0.288732</td>\n",
              "      <td>0.000089</td>\n",
              "      <td>0</td>\n",
              "      <td>4.005695</td>\n",
              "      <td>1.886491</td>\n",
              "      <td>2.844477</td>\n",
              "      <td>0.070508</td>\n",
              "      <td>0.091233</td>\n",
              "      <td>0.067526</td>\n",
              "      <td>0.080311</td>\n",
              "      <td>0.063224</td>\n",
              "      <td>0.035328</td>\n",
              "      <td>0.072582</td>\n",
              "      <td>0.089611</td>\n",
              "      <td>0.070774</td>\n",
              "      <td>0.018483</td>\n",
              "      <td>0.056544</td>\n",
              "      <td>0.019305</td>\n",
              "      <td>0.056997</td>\n",
              "      <td>0.099385</td>\n",
              "      <td>0.064608</td>\n",
              "      <td>0.068416</td>\n",
              "      <td>0.4</td>\n",
              "      <td>8.164158</td>\n",
              "      <td>-1.158463</td>\n",
              "      <td>0.70</td>\n",
              "      <td>0.39</td>\n",
              "      <td>0.35</td>\n",
              "      <td>0.28</td>\n",
              "      <td>0.24</td>\n",
              "      <td>0.19</td>\n",
              "      <td>0.14</td>\n",
              "      <td>0.40</td>\n",
              "      <td>0.00</td>\n",
              "      <td>-0.26</td>\n",
              "      <td>-0.03</td>\n",
              "      <td>0.11</td>\n",
              "    </tr>\n",
              "    <tr>\n",
              "      <th>17970</th>\n",
              "      <td>Russia</td>\n",
              "      <td>04-11</td>\n",
              "      <td>4.133060</td>\n",
              "      <td>2.029384</td>\n",
              "      <td>3.019532</td>\n",
              "      <td>RUS</td>\n",
              "      <td>0.000342</td>\n",
              "      <td>0.257143</td>\n",
              "      <td>1.0</td>\n",
              "      <td>0.833333</td>\n",
              "      <td>0.9542</td>\n",
              "      <td>0.101391</td>\n",
              "      <td>0.74</td>\n",
              "      <td>0.0187</td>\n",
              "      <td>2020-03-30</td>\n",
              "      <td>0.309942</td>\n",
              "      <td>0.047529</td>\n",
              "      <td>0.487805</td>\n",
              "      <td>0.423645</td>\n",
              "      <td>0.391229</td>\n",
              "      <td>0.786</td>\n",
              "      <td>0.356813</td>\n",
              "      <td>0.003023</td>\n",
              "      <td>0.070348</td>\n",
              "      <td>0.288732</td>\n",
              "      <td>0.000089</td>\n",
              "      <td>0</td>\n",
              "      <td>4.076203</td>\n",
              "      <td>1.977724</td>\n",
              "      <td>2.900913</td>\n",
              "      <td>0.056856</td>\n",
              "      <td>0.051660</td>\n",
              "      <td>0.070508</td>\n",
              "      <td>0.091233</td>\n",
              "      <td>0.067526</td>\n",
              "      <td>0.080311</td>\n",
              "      <td>0.063224</td>\n",
              "      <td>0.035328</td>\n",
              "      <td>0.072582</td>\n",
              "      <td>0.089611</td>\n",
              "      <td>0.070774</td>\n",
              "      <td>0.018483</td>\n",
              "      <td>0.056544</td>\n",
              "      <td>0.019305</td>\n",
              "      <td>0.066860</td>\n",
              "      <td>0.068957</td>\n",
              "      <td>0.2</td>\n",
              "      <td>8.164158</td>\n",
              "      <td>-1.087954</td>\n",
              "      <td>0.71</td>\n",
              "      <td>0.40</td>\n",
              "      <td>0.36</td>\n",
              "      <td>0.29</td>\n",
              "      <td>0.25</td>\n",
              "      <td>0.20</td>\n",
              "      <td>0.15</td>\n",
              "      <td>0.41</td>\n",
              "      <td>0.00</td>\n",
              "      <td>-0.25</td>\n",
              "      <td>-0.02</td>\n",
              "      <td>0.12</td>\n",
              "    </tr>\n",
              "    <tr>\n",
              "      <th>17971</th>\n",
              "      <td>Russia</td>\n",
              "      <td>04-12</td>\n",
              "      <td>4.197859</td>\n",
              "      <td>2.117271</td>\n",
              "      <td>3.111263</td>\n",
              "      <td>RUS</td>\n",
              "      <td>0.000342</td>\n",
              "      <td>0.257143</td>\n",
              "      <td>1.0</td>\n",
              "      <td>0.833333</td>\n",
              "      <td>0.9542</td>\n",
              "      <td>0.101391</td>\n",
              "      <td>0.74</td>\n",
              "      <td>0.0187</td>\n",
              "      <td>2020-03-30</td>\n",
              "      <td>0.309942</td>\n",
              "      <td>0.047529</td>\n",
              "      <td>0.487805</td>\n",
              "      <td>0.423645</td>\n",
              "      <td>0.391229</td>\n",
              "      <td>0.786</td>\n",
              "      <td>0.356813</td>\n",
              "      <td>0.003023</td>\n",
              "      <td>0.070348</td>\n",
              "      <td>0.288732</td>\n",
              "      <td>0.000089</td>\n",
              "      <td>0</td>\n",
              "      <td>4.133060</td>\n",
              "      <td>2.029384</td>\n",
              "      <td>3.019532</td>\n",
              "      <td>0.064800</td>\n",
              "      <td>0.087888</td>\n",
              "      <td>0.056856</td>\n",
              "      <td>0.051660</td>\n",
              "      <td>0.070508</td>\n",
              "      <td>0.091233</td>\n",
              "      <td>0.067526</td>\n",
              "      <td>0.080311</td>\n",
              "      <td>0.063224</td>\n",
              "      <td>0.035328</td>\n",
              "      <td>0.072582</td>\n",
              "      <td>0.089611</td>\n",
              "      <td>0.070774</td>\n",
              "      <td>0.018483</td>\n",
              "      <td>0.066912</td>\n",
              "      <td>0.074401</td>\n",
              "      <td>0.4</td>\n",
              "      <td>8.164158</td>\n",
              "      <td>-1.031098</td>\n",
              "      <td>0.72</td>\n",
              "      <td>0.41</td>\n",
              "      <td>0.37</td>\n",
              "      <td>0.30</td>\n",
              "      <td>0.26</td>\n",
              "      <td>0.21</td>\n",
              "      <td>0.16</td>\n",
              "      <td>0.42</td>\n",
              "      <td>0.00</td>\n",
              "      <td>-0.24</td>\n",
              "      <td>-0.01</td>\n",
              "      <td>0.13</td>\n",
              "    </tr>\n",
              "    <tr>\n",
              "      <th>17972</th>\n",
              "      <td>Russia</td>\n",
              "      <td>04-13</td>\n",
              "      <td>4.263139</td>\n",
              "      <td>2.173186</td>\n",
              "      <td>3.167613</td>\n",
              "      <td>RUS</td>\n",
              "      <td>0.000342</td>\n",
              "      <td>0.257143</td>\n",
              "      <td>1.0</td>\n",
              "      <td>0.833333</td>\n",
              "      <td>0.9542</td>\n",
              "      <td>0.101391</td>\n",
              "      <td>0.74</td>\n",
              "      <td>0.0187</td>\n",
              "      <td>2020-03-30</td>\n",
              "      <td>0.309942</td>\n",
              "      <td>0.047529</td>\n",
              "      <td>0.487805</td>\n",
              "      <td>0.423645</td>\n",
              "      <td>0.391229</td>\n",
              "      <td>0.786</td>\n",
              "      <td>0.356813</td>\n",
              "      <td>0.003023</td>\n",
              "      <td>0.070348</td>\n",
              "      <td>0.288732</td>\n",
              "      <td>0.000089</td>\n",
              "      <td>0</td>\n",
              "      <td>4.197859</td>\n",
              "      <td>2.117271</td>\n",
              "      <td>3.111263</td>\n",
              "      <td>0.065280</td>\n",
              "      <td>0.055915</td>\n",
              "      <td>0.064800</td>\n",
              "      <td>0.087888</td>\n",
              "      <td>0.056856</td>\n",
              "      <td>0.051660</td>\n",
              "      <td>0.070508</td>\n",
              "      <td>0.091233</td>\n",
              "      <td>0.067526</td>\n",
              "      <td>0.080311</td>\n",
              "      <td>0.063224</td>\n",
              "      <td>0.035328</td>\n",
              "      <td>0.072582</td>\n",
              "      <td>0.089611</td>\n",
              "      <td>0.065916</td>\n",
              "      <td>0.076927</td>\n",
              "      <td>0.4</td>\n",
              "      <td>8.164158</td>\n",
              "      <td>-0.966299</td>\n",
              "      <td>0.73</td>\n",
              "      <td>0.42</td>\n",
              "      <td>0.38</td>\n",
              "      <td>0.31</td>\n",
              "      <td>0.27</td>\n",
              "      <td>0.22</td>\n",
              "      <td>0.17</td>\n",
              "      <td>0.43</td>\n",
              "      <td>0.00</td>\n",
              "      <td>-0.23</td>\n",
              "      <td>0.00</td>\n",
              "      <td>0.14</td>\n",
              "    </tr>\n",
              "    <tr>\n",
              "      <th>17973</th>\n",
              "      <td>Russia</td>\n",
              "      <td>04-14</td>\n",
              "      <td>4.324344</td>\n",
              "      <td>2.232996</td>\n",
              "      <td>3.229170</td>\n",
              "      <td>RUS</td>\n",
              "      <td>0.000342</td>\n",
              "      <td>0.257143</td>\n",
              "      <td>1.0</td>\n",
              "      <td>0.833333</td>\n",
              "      <td>0.9542</td>\n",
              "      <td>0.101391</td>\n",
              "      <td>0.74</td>\n",
              "      <td>0.0187</td>\n",
              "      <td>2020-03-30</td>\n",
              "      <td>0.309942</td>\n",
              "      <td>0.047529</td>\n",
              "      <td>0.487805</td>\n",
              "      <td>0.423645</td>\n",
              "      <td>0.391229</td>\n",
              "      <td>0.786</td>\n",
              "      <td>0.356813</td>\n",
              "      <td>0.003023</td>\n",
              "      <td>0.070348</td>\n",
              "      <td>0.288732</td>\n",
              "      <td>0.000089</td>\n",
              "      <td>0</td>\n",
              "      <td>4.263139</td>\n",
              "      <td>2.173186</td>\n",
              "      <td>3.167613</td>\n",
              "      <td>0.061205</td>\n",
              "      <td>0.059810</td>\n",
              "      <td>0.065280</td>\n",
              "      <td>0.055915</td>\n",
              "      <td>0.064800</td>\n",
              "      <td>0.087888</td>\n",
              "      <td>0.056856</td>\n",
              "      <td>0.051660</td>\n",
              "      <td>0.070508</td>\n",
              "      <td>0.091233</td>\n",
              "      <td>0.067526</td>\n",
              "      <td>0.080311</td>\n",
              "      <td>0.063224</td>\n",
              "      <td>0.035328</td>\n",
              "      <td>0.064699</td>\n",
              "      <td>0.065154</td>\n",
              "      <td>0.2</td>\n",
              "      <td>8.164158</td>\n",
              "      <td>-0.901019</td>\n",
              "      <td>0.74</td>\n",
              "      <td>0.43</td>\n",
              "      <td>0.39</td>\n",
              "      <td>0.32</td>\n",
              "      <td>0.28</td>\n",
              "      <td>0.23</td>\n",
              "      <td>0.18</td>\n",
              "      <td>0.44</td>\n",
              "      <td>0.01</td>\n",
              "      <td>-0.22</td>\n",
              "      <td>0.01</td>\n",
              "      <td>0.15</td>\n",
              "    </tr>\n",
              "  </tbody>\n",
              "</table>\n",
              "</div>"
            ],
            "text/plain": [
              "      countries   date  confirmed  ...  days_1_1000  days_1_100 days_1_10000\n",
              "17969    Russia  04-10   4.076203  ...        -0.26       -0.03         0.11\n",
              "17970    Russia  04-11   4.133060  ...        -0.25       -0.02         0.12\n",
              "17971    Russia  04-12   4.197859  ...        -0.24       -0.01         0.13\n",
              "17972    Russia  04-13   4.263139  ...        -0.23        0.00         0.14\n",
              "17973    Russia  04-14   4.324344  ...        -0.22        0.01         0.15\n",
              "\n",
              "[5 rows x 61 columns]"
            ]
          },
          "metadata": {
            "tags": []
          },
          "execution_count": 15
        }
      ]
    },
    {
      "cell_type": "markdown",
      "metadata": {
        "id": "LDR-u7ggH5Gz",
        "colab_type": "text"
      },
      "source": [
        "# Отделяем данные на трейн и тест"
      ]
    },
    {
      "cell_type": "code",
      "metadata": {
        "id": "eu0gPjRaKzj5",
        "colab_type": "code",
        "outputId": "4f2eddd7-cb5b-4550-b76f-29ffa2c3f0d6",
        "colab": {
          "base_uri": "https://localhost:8080/",
          "height": 456
        }
      },
      "source": [
        "#Выберите день начала приватных данных начиная с 1 марта\n",
        "days_x = 56 #39\n",
        "iterat = 10\n",
        "#type_ans_delta - Предсказывать общее число, или изменение за день\n",
        "type_ans_delta = True\n",
        "\n",
        "#ВЫберите данные(только регионы России, только страны, всё)\n",
        "type_reg = \"all\"\n",
        "#type_reg = \"country\"\n",
        "#type_reg = \"region\"\n",
        "#type_reg = \"no_USA\"\n",
        "\n",
        "param_list =['countries', 'confirmed', 'deaths', 'iso_alpha3', 'delta_conf', 'delta_deaths', 'region',\n",
        "              'pred_conf', 'pred_deaths', 'delta_conf1', 'delta_deaths1',\n",
        "             'delta_conf_count',\n",
        "             'delta_deaths2','delta_deaths3','delta_deaths4','delta_deaths5','delta_deaths6',\n",
        "\n",
        "             'urban_pop_rate',             \n",
        "             'pred_conf-population_log',              \n",
        "             'population_log',\n",
        "             'land_area',\n",
        "\n",
        "             'days',\n",
        "             'days_10',\n",
        "             'days_100',\n",
        "             'days_1000',\n",
        "             'days_5',\n",
        "             'days_50',\n",
        "             'days_500',\n",
        "             'days_1_100', \n",
        "             'days_1_1000',              \n",
        "             'days_1_10000', \n",
        "\n",
        "             'delta_conf2', \n",
        "             'delta_conf3', \n",
        "             'delta_conf4', \n",
        "             'delta_conf5', \n",
        "             'delta_conf6', \n",
        "             \"delta_conf_sum\",\n",
        "            'delta_conf_sum3',\n",
        "             'days_mart']\n",
        "\n",
        "data3 = data2[param_list]\n",
        "\n",
        "\n",
        "if type_reg == \"region\":\n",
        "  data3 = data3[data3['region'] == 1]\n",
        "elif  type_reg == \"country\":\n",
        "  data3 = data3[data3['region'] == 0]\n",
        "elif  type_reg == \"no_USA\":\n",
        "  data3 = data3[(data3['region'] == 0)|(data3['region'] == 1)]  \n",
        "else:\n",
        "  data3 = data3\n",
        "\n",
        "model_Confirmed, model_Death = {}, {}\n",
        "\n",
        "#Представляем страны в one_hot\n",
        "#one_hot = pd.get_dummies(data3['iso_alpha3'])\n",
        "#data3 = data3.join(one_hot)\n",
        "\n",
        "#Приватные данные\n",
        "type_reg_mean = \"no_USA\"\n",
        "\n",
        "new_data = data3[data3.days_mart >= (days_x)/sc_days]\n",
        "if type_reg_mean == \"region\":\n",
        "  new_data = new_data[new_data['region'] == 1]\n",
        "elif  type_reg_mean == \"country\":\n",
        "  new_data = new_data[new_data['region'] == 0]\n",
        "elif  type_reg_mean == \"no_USA\":\n",
        "  new_data = new_data[(new_data['region'] == 0)|(new_data['region'] == 1)]  \n",
        "\n",
        "data_x = new_data[new_data.days_mart == (days_x)/sc_days]\n",
        "old_data = data3[(data3.days_mart <= (days_x)/sc_days) & (data3.confirmed > 0)]\n",
        "#old_data = old_data[(old_data.countries != 'Russia')&(old_data.countries != 'Korea, South')]\n",
        "#old_data = old_data[old_data.delta_conf>0]\n",
        "\n",
        "if type_ans_delta:\n",
        "  #train_labels = old_data.delta_conf - old_data.delta_conf_sum\n",
        "  train_labels = old_data.delta_conf\n",
        "  train_death = old_data.delta_deaths\n",
        "else:\n",
        "  train_labels = old_data.confirmed\n",
        "  train_death = old_data.deaths\n",
        "\n",
        "#Убираем ответ из данных\n",
        "train_data = old_data.drop(['iso_alpha3','region','confirmed','countries','deaths',\"delta_conf\",\"delta_deaths\"], axis='columns')\n",
        "old_data"
      ],
      "execution_count": 40,
      "outputs": [
        {
          "output_type": "execute_result",
          "data": {
            "text/html": [
              "<div>\n",
              "<style scoped>\n",
              "    .dataframe tbody tr th:only-of-type {\n",
              "        vertical-align: middle;\n",
              "    }\n",
              "\n",
              "    .dataframe tbody tr th {\n",
              "        vertical-align: top;\n",
              "    }\n",
              "\n",
              "    .dataframe thead th {\n",
              "        text-align: right;\n",
              "    }\n",
              "</style>\n",
              "<table border=\"1\" class=\"dataframe\">\n",
              "  <thead>\n",
              "    <tr style=\"text-align: right;\">\n",
              "      <th></th>\n",
              "      <th>countries</th>\n",
              "      <th>confirmed</th>\n",
              "      <th>deaths</th>\n",
              "      <th>iso_alpha3</th>\n",
              "      <th>delta_conf</th>\n",
              "      <th>delta_deaths</th>\n",
              "      <th>region</th>\n",
              "      <th>pred_conf</th>\n",
              "      <th>pred_deaths</th>\n",
              "      <th>delta_conf1</th>\n",
              "      <th>delta_deaths1</th>\n",
              "      <th>delta_conf_count</th>\n",
              "      <th>delta_deaths2</th>\n",
              "      <th>delta_deaths3</th>\n",
              "      <th>delta_deaths4</th>\n",
              "      <th>delta_deaths5</th>\n",
              "      <th>delta_deaths6</th>\n",
              "      <th>urban_pop_rate</th>\n",
              "      <th>pred_conf-population_log</th>\n",
              "      <th>population_log</th>\n",
              "      <th>land_area</th>\n",
              "      <th>days</th>\n",
              "      <th>days_10</th>\n",
              "      <th>days_100</th>\n",
              "      <th>days_1000</th>\n",
              "      <th>days_1_100</th>\n",
              "      <th>days_1_1000</th>\n",
              "      <th>delta_conf2</th>\n",
              "      <th>delta_conf3</th>\n",
              "      <th>delta_conf4</th>\n",
              "      <th>delta_conf5</th>\n",
              "      <th>delta_conf6</th>\n",
              "      <th>delta_conf_sum</th>\n",
              "      <th>delta_conf_sum3</th>\n",
              "      <th>days_mart</th>\n",
              "    </tr>\n",
              "  </thead>\n",
              "  <tbody>\n",
              "    <tr>\n",
              "      <th>0</th>\n",
              "      <td>Afghanistan</td>\n",
              "      <td>0.301030</td>\n",
              "      <td>0.00000</td>\n",
              "      <td>AFG</td>\n",
              "      <td>0.000000</td>\n",
              "      <td>0.00000</td>\n",
              "      <td>0.0</td>\n",
              "      <td>0.301030</td>\n",
              "      <td>0.00000</td>\n",
              "      <td>0.000000</td>\n",
              "      <td>0.00000</td>\n",
              "      <td>0.0</td>\n",
              "      <td>0.00000</td>\n",
              "      <td>0.00000</td>\n",
              "      <td>0.00000</td>\n",
              "      <td>0.0</td>\n",
              "      <td>0.0</td>\n",
              "      <td>0.25</td>\n",
              "      <td>-4.289236</td>\n",
              "      <td>7.590266</td>\n",
              "      <td>0.806021</td>\n",
              "      <td>0.00</td>\n",
              "      <td>-0.12</td>\n",
              "      <td>-0.25</td>\n",
              "      <td>-0.49</td>\n",
              "      <td>-0.60</td>\n",
              "      <td>-0.30</td>\n",
              "      <td>0.000000</td>\n",
              "      <td>0.000000</td>\n",
              "      <td>0.000000</td>\n",
              "      <td>0.000000</td>\n",
              "      <td>0.000000</td>\n",
              "      <td>0.000000</td>\n",
              "      <td>0.000000</td>\n",
              "      <td>0.01</td>\n",
              "    </tr>\n",
              "    <tr>\n",
              "      <th>1</th>\n",
              "      <td>Afghanistan</td>\n",
              "      <td>0.301030</td>\n",
              "      <td>0.00000</td>\n",
              "      <td>AFG</td>\n",
              "      <td>0.000000</td>\n",
              "      <td>0.00000</td>\n",
              "      <td>0.0</td>\n",
              "      <td>0.301030</td>\n",
              "      <td>0.00000</td>\n",
              "      <td>0.000000</td>\n",
              "      <td>0.00000</td>\n",
              "      <td>0.0</td>\n",
              "      <td>0.00000</td>\n",
              "      <td>0.00000</td>\n",
              "      <td>0.00000</td>\n",
              "      <td>0.0</td>\n",
              "      <td>0.0</td>\n",
              "      <td>0.25</td>\n",
              "      <td>-4.289236</td>\n",
              "      <td>7.590266</td>\n",
              "      <td>0.806021</td>\n",
              "      <td>0.01</td>\n",
              "      <td>-0.11</td>\n",
              "      <td>-0.24</td>\n",
              "      <td>-0.48</td>\n",
              "      <td>-0.59</td>\n",
              "      <td>-0.29</td>\n",
              "      <td>0.000000</td>\n",
              "      <td>0.000000</td>\n",
              "      <td>0.000000</td>\n",
              "      <td>0.000000</td>\n",
              "      <td>0.000000</td>\n",
              "      <td>0.000000</td>\n",
              "      <td>0.000000</td>\n",
              "      <td>0.02</td>\n",
              "    </tr>\n",
              "    <tr>\n",
              "      <th>2</th>\n",
              "      <td>Afghanistan</td>\n",
              "      <td>0.301030</td>\n",
              "      <td>0.00000</td>\n",
              "      <td>AFG</td>\n",
              "      <td>0.000000</td>\n",
              "      <td>0.00000</td>\n",
              "      <td>0.0</td>\n",
              "      <td>0.301030</td>\n",
              "      <td>0.00000</td>\n",
              "      <td>0.000000</td>\n",
              "      <td>0.00000</td>\n",
              "      <td>0.0</td>\n",
              "      <td>0.00000</td>\n",
              "      <td>0.00000</td>\n",
              "      <td>0.00000</td>\n",
              "      <td>0.0</td>\n",
              "      <td>0.0</td>\n",
              "      <td>0.25</td>\n",
              "      <td>-4.289236</td>\n",
              "      <td>7.590266</td>\n",
              "      <td>0.806021</td>\n",
              "      <td>0.02</td>\n",
              "      <td>-0.10</td>\n",
              "      <td>-0.23</td>\n",
              "      <td>-0.47</td>\n",
              "      <td>-0.58</td>\n",
              "      <td>-0.28</td>\n",
              "      <td>0.000000</td>\n",
              "      <td>0.000000</td>\n",
              "      <td>0.000000</td>\n",
              "      <td>0.000000</td>\n",
              "      <td>0.000000</td>\n",
              "      <td>0.000000</td>\n",
              "      <td>0.000000</td>\n",
              "      <td>0.03</td>\n",
              "    </tr>\n",
              "    <tr>\n",
              "      <th>3</th>\n",
              "      <td>Afghanistan</td>\n",
              "      <td>0.301030</td>\n",
              "      <td>0.00000</td>\n",
              "      <td>AFG</td>\n",
              "      <td>0.000000</td>\n",
              "      <td>0.00000</td>\n",
              "      <td>0.0</td>\n",
              "      <td>0.301030</td>\n",
              "      <td>0.00000</td>\n",
              "      <td>0.000000</td>\n",
              "      <td>0.00000</td>\n",
              "      <td>0.0</td>\n",
              "      <td>0.00000</td>\n",
              "      <td>0.00000</td>\n",
              "      <td>0.00000</td>\n",
              "      <td>0.0</td>\n",
              "      <td>0.0</td>\n",
              "      <td>0.25</td>\n",
              "      <td>-4.289236</td>\n",
              "      <td>7.590266</td>\n",
              "      <td>0.806021</td>\n",
              "      <td>0.03</td>\n",
              "      <td>-0.09</td>\n",
              "      <td>-0.22</td>\n",
              "      <td>-0.46</td>\n",
              "      <td>-0.57</td>\n",
              "      <td>-0.27</td>\n",
              "      <td>0.000000</td>\n",
              "      <td>0.000000</td>\n",
              "      <td>0.000000</td>\n",
              "      <td>0.000000</td>\n",
              "      <td>0.000000</td>\n",
              "      <td>0.000000</td>\n",
              "      <td>0.000000</td>\n",
              "      <td>0.04</td>\n",
              "    </tr>\n",
              "    <tr>\n",
              "      <th>4</th>\n",
              "      <td>Afghanistan</td>\n",
              "      <td>0.301030</td>\n",
              "      <td>0.00000</td>\n",
              "      <td>AFG</td>\n",
              "      <td>0.000000</td>\n",
              "      <td>0.00000</td>\n",
              "      <td>0.0</td>\n",
              "      <td>0.301030</td>\n",
              "      <td>0.00000</td>\n",
              "      <td>0.000000</td>\n",
              "      <td>0.00000</td>\n",
              "      <td>0.0</td>\n",
              "      <td>0.00000</td>\n",
              "      <td>0.00000</td>\n",
              "      <td>0.00000</td>\n",
              "      <td>0.0</td>\n",
              "      <td>0.0</td>\n",
              "      <td>0.25</td>\n",
              "      <td>-4.289236</td>\n",
              "      <td>7.590266</td>\n",
              "      <td>0.806021</td>\n",
              "      <td>0.04</td>\n",
              "      <td>-0.08</td>\n",
              "      <td>-0.21</td>\n",
              "      <td>-0.45</td>\n",
              "      <td>-0.56</td>\n",
              "      <td>-0.26</td>\n",
              "      <td>0.000000</td>\n",
              "      <td>0.000000</td>\n",
              "      <td>0.000000</td>\n",
              "      <td>0.000000</td>\n",
              "      <td>0.000000</td>\n",
              "      <td>0.000000</td>\n",
              "      <td>0.000000</td>\n",
              "      <td>0.05</td>\n",
              "    </tr>\n",
              "    <tr>\n",
              "      <th>...</th>\n",
              "      <td>...</td>\n",
              "      <td>...</td>\n",
              "      <td>...</td>\n",
              "      <td>...</td>\n",
              "      <td>...</td>\n",
              "      <td>...</td>\n",
              "      <td>...</td>\n",
              "      <td>...</td>\n",
              "      <td>...</td>\n",
              "      <td>...</td>\n",
              "      <td>...</td>\n",
              "      <td>...</td>\n",
              "      <td>...</td>\n",
              "      <td>...</td>\n",
              "      <td>...</td>\n",
              "      <td>...</td>\n",
              "      <td>...</td>\n",
              "      <td>...</td>\n",
              "      <td>...</td>\n",
              "      <td>...</td>\n",
              "      <td>...</td>\n",
              "      <td>...</td>\n",
              "      <td>...</td>\n",
              "      <td>...</td>\n",
              "      <td>...</td>\n",
              "      <td>...</td>\n",
              "      <td>...</td>\n",
              "      <td>...</td>\n",
              "      <td>...</td>\n",
              "      <td>...</td>\n",
              "      <td>...</td>\n",
              "      <td>...</td>\n",
              "      <td>...</td>\n",
              "      <td>...</td>\n",
              "      <td>...</td>\n",
              "    </tr>\n",
              "    <tr>\n",
              "      <th>23491</th>\n",
              "      <td>Zimbabwe</td>\n",
              "      <td>1.462398</td>\n",
              "      <td>0.69897</td>\n",
              "      <td>ZWE</td>\n",
              "      <td>0.000000</td>\n",
              "      <td>0.09691</td>\n",
              "      <td>0.0</td>\n",
              "      <td>1.462398</td>\n",
              "      <td>0.60206</td>\n",
              "      <td>0.047425</td>\n",
              "      <td>0.00000</td>\n",
              "      <td>0.6</td>\n",
              "      <td>0.00000</td>\n",
              "      <td>0.00000</td>\n",
              "      <td>0.00000</td>\n",
              "      <td>0.0</td>\n",
              "      <td>0.0</td>\n",
              "      <td>0.38</td>\n",
              "      <td>-2.709706</td>\n",
              "      <td>7.172104</td>\n",
              "      <td>0.774517</td>\n",
              "      <td>0.33</td>\n",
              "      <td>0.16</td>\n",
              "      <td>-0.09</td>\n",
              "      <td>-0.09</td>\n",
              "      <td>-0.09</td>\n",
              "      <td>0.21</td>\n",
              "      <td>0.000000</td>\n",
              "      <td>0.000000</td>\n",
              "      <td>0.017033</td>\n",
              "      <td>0.017729</td>\n",
              "      <td>0.000000</td>\n",
              "      <td>0.013698</td>\n",
              "      <td>0.000000</td>\n",
              "      <td>0.52</td>\n",
              "    </tr>\n",
              "    <tr>\n",
              "      <th>23492</th>\n",
              "      <td>Zimbabwe</td>\n",
              "      <td>1.462398</td>\n",
              "      <td>0.69897</td>\n",
              "      <td>ZWE</td>\n",
              "      <td>0.000000</td>\n",
              "      <td>0.00000</td>\n",
              "      <td>0.0</td>\n",
              "      <td>1.462398</td>\n",
              "      <td>0.69897</td>\n",
              "      <td>0.000000</td>\n",
              "      <td>0.09691</td>\n",
              "      <td>0.6</td>\n",
              "      <td>0.00000</td>\n",
              "      <td>0.00000</td>\n",
              "      <td>0.00000</td>\n",
              "      <td>0.0</td>\n",
              "      <td>0.0</td>\n",
              "      <td>0.38</td>\n",
              "      <td>-2.709706</td>\n",
              "      <td>7.172104</td>\n",
              "      <td>0.774517</td>\n",
              "      <td>0.34</td>\n",
              "      <td>0.17</td>\n",
              "      <td>-0.08</td>\n",
              "      <td>-0.08</td>\n",
              "      <td>-0.08</td>\n",
              "      <td>0.22</td>\n",
              "      <td>0.047425</td>\n",
              "      <td>0.000000</td>\n",
              "      <td>0.000000</td>\n",
              "      <td>0.017033</td>\n",
              "      <td>0.017729</td>\n",
              "      <td>0.013698</td>\n",
              "      <td>0.032303</td>\n",
              "      <td>0.53</td>\n",
              "    </tr>\n",
              "    <tr>\n",
              "      <th>23493</th>\n",
              "      <td>Zimbabwe</td>\n",
              "      <td>1.477121</td>\n",
              "      <td>0.69897</td>\n",
              "      <td>ZWE</td>\n",
              "      <td>0.014723</td>\n",
              "      <td>0.00000</td>\n",
              "      <td>0.0</td>\n",
              "      <td>1.462398</td>\n",
              "      <td>0.69897</td>\n",
              "      <td>0.000000</td>\n",
              "      <td>0.00000</td>\n",
              "      <td>0.4</td>\n",
              "      <td>0.09691</td>\n",
              "      <td>0.00000</td>\n",
              "      <td>0.00000</td>\n",
              "      <td>0.0</td>\n",
              "      <td>0.0</td>\n",
              "      <td>0.38</td>\n",
              "      <td>-2.709706</td>\n",
              "      <td>7.172104</td>\n",
              "      <td>0.774517</td>\n",
              "      <td>0.35</td>\n",
              "      <td>0.18</td>\n",
              "      <td>-0.07</td>\n",
              "      <td>-0.07</td>\n",
              "      <td>-0.07</td>\n",
              "      <td>0.23</td>\n",
              "      <td>0.000000</td>\n",
              "      <td>0.047425</td>\n",
              "      <td>0.000000</td>\n",
              "      <td>0.000000</td>\n",
              "      <td>0.017033</td>\n",
              "      <td>0.010743</td>\n",
              "      <td>0.032303</td>\n",
              "      <td>0.54</td>\n",
              "    </tr>\n",
              "    <tr>\n",
              "      <th>23494</th>\n",
              "      <td>Zimbabwe</td>\n",
              "      <td>1.505150</td>\n",
              "      <td>0.69897</td>\n",
              "      <td>ZWE</td>\n",
              "      <td>0.028029</td>\n",
              "      <td>0.00000</td>\n",
              "      <td>0.0</td>\n",
              "      <td>1.477121</td>\n",
              "      <td>0.69897</td>\n",
              "      <td>0.014723</td>\n",
              "      <td>0.00000</td>\n",
              "      <td>0.4</td>\n",
              "      <td>0.00000</td>\n",
              "      <td>0.09691</td>\n",
              "      <td>0.00000</td>\n",
              "      <td>0.0</td>\n",
              "      <td>0.0</td>\n",
              "      <td>0.38</td>\n",
              "      <td>-2.694983</td>\n",
              "      <td>7.172104</td>\n",
              "      <td>0.774517</td>\n",
              "      <td>0.36</td>\n",
              "      <td>0.19</td>\n",
              "      <td>-0.06</td>\n",
              "      <td>-0.06</td>\n",
              "      <td>-0.06</td>\n",
              "      <td>0.24</td>\n",
              "      <td>0.000000</td>\n",
              "      <td>0.000000</td>\n",
              "      <td>0.047425</td>\n",
              "      <td>0.000000</td>\n",
              "      <td>0.000000</td>\n",
              "      <td>0.010358</td>\n",
              "      <td>0.032303</td>\n",
              "      <td>0.55</td>\n",
              "    </tr>\n",
              "    <tr>\n",
              "      <th>23495</th>\n",
              "      <td>Zimbabwe</td>\n",
              "      <td>1.505150</td>\n",
              "      <td>0.69897</td>\n",
              "      <td>ZWE</td>\n",
              "      <td>0.000000</td>\n",
              "      <td>0.00000</td>\n",
              "      <td>0.0</td>\n",
              "      <td>1.505150</td>\n",
              "      <td>0.69897</td>\n",
              "      <td>0.028029</td>\n",
              "      <td>0.00000</td>\n",
              "      <td>0.4</td>\n",
              "      <td>0.00000</td>\n",
              "      <td>0.00000</td>\n",
              "      <td>0.09691</td>\n",
              "      <td>0.0</td>\n",
              "      <td>0.0</td>\n",
              "      <td>0.38</td>\n",
              "      <td>-2.666954</td>\n",
              "      <td>7.172104</td>\n",
              "      <td>0.774517</td>\n",
              "      <td>0.37</td>\n",
              "      <td>0.20</td>\n",
              "      <td>-0.05</td>\n",
              "      <td>-0.05</td>\n",
              "      <td>-0.05</td>\n",
              "      <td>0.25</td>\n",
              "      <td>0.014723</td>\n",
              "      <td>0.000000</td>\n",
              "      <td>0.000000</td>\n",
              "      <td>0.047425</td>\n",
              "      <td>0.000000</td>\n",
              "      <td>0.015029</td>\n",
              "      <td>0.000000</td>\n",
              "      <td>0.56</td>\n",
              "    </tr>\n",
              "  </tbody>\n",
              "</table>\n",
              "<p>14835 rows × 35 columns</p>\n",
              "</div>"
            ],
            "text/plain": [
              "         countries  confirmed  ...  delta_conf_sum3 days_mart\n",
              "0      Afghanistan   0.301030  ...         0.000000      0.01\n",
              "1      Afghanistan   0.301030  ...         0.000000      0.02\n",
              "2      Afghanistan   0.301030  ...         0.000000      0.03\n",
              "3      Afghanistan   0.301030  ...         0.000000      0.04\n",
              "4      Afghanistan   0.301030  ...         0.000000      0.05\n",
              "...            ...        ...  ...              ...       ...\n",
              "23491     Zimbabwe   1.462398  ...         0.000000      0.52\n",
              "23492     Zimbabwe   1.462398  ...         0.032303      0.53\n",
              "23493     Zimbabwe   1.477121  ...         0.032303      0.54\n",
              "23494     Zimbabwe   1.505150  ...         0.032303      0.55\n",
              "23495     Zimbabwe   1.505150  ...         0.000000      0.56\n",
              "\n",
              "[14835 rows x 35 columns]"
            ]
          },
          "metadata": {
            "tags": []
          },
          "execution_count": 40
        }
      ]
    },
    {
      "cell_type": "markdown",
      "metadata": {
        "id": "ye2UK5_7Yags",
        "colab_type": "text"
      },
      "source": [
        "# Модели"
      ]
    },
    {
      "cell_type": "markdown",
      "metadata": {
        "id": "cJwzcZOrYZdB",
        "colab_type": "text"
      },
      "source": [
        "## Обучаем Линейная регрессия"
      ]
    },
    {
      "cell_type": "markdown",
      "metadata": {
        "id": "8dRnl1jKdE3t",
        "colab_type": "text"
      },
      "source": [
        "### Функция построения признаков"
      ]
    },
    {
      "cell_type": "code",
      "metadata": {
        "id": "iebPwlF3LHas",
        "colab_type": "code",
        "colab": {}
      },
      "source": [
        "# Визуализируем важность признаков\n",
        "def visualize_coefficients(classifier, feature_names):\n",
        "  n_top_features = len(feature_names)//2\n",
        "  # get coefficients with large absolute values \n",
        "  coef = classifier.coef_.ravel()\n",
        "  positive_coefficients = np.argsort(coef)[-n_top_features:]\n",
        "  negative_coefficients = np.argsort(coef)[:n_top_features]\n",
        "  interesting_coefficients = np.hstack([negative_coefficients, positive_coefficients])\n",
        "  # plot them\n",
        "  plt.figure(figsize=(15, 5))\n",
        "  colors = [\"red\" if c < 0 else \"blue\" for c in coef[interesting_coefficients]]\n",
        "  plt.bar(np.arange(2 * n_top_features), coef[interesting_coefficients], color=colors)\n",
        "  feature_names = np.array(feature_names)\n",
        "  plt.xticks(np.arange(0, 1 + 2 * n_top_features), feature_names[interesting_coefficients], rotation=60, ha=\"right\")"
      ],
      "execution_count": 0,
      "outputs": []
    },
    {
      "cell_type": "markdown",
      "metadata": {
        "id": "CYmMbkHEdO7r",
        "colab_type": "text"
      },
      "source": [
        "### Ridge"
      ]
    },
    {
      "cell_type": "code",
      "metadata": {
        "id": "2MRvwAS3dTVO",
        "colab_type": "code",
        "outputId": "7af9e920-4040-45d8-87e4-99a8596f2581",
        "colab": {
          "base_uri": "https://localhost:8080/",
          "height": 469
        }
      },
      "source": [
        "model_Confirmed[\"Ridge\"] = linear_model.Ridge().fit(train_data, train_labels)\n",
        "model_Death[\"Ridge\"] = linear_model.Ridge().fit(train_data, train_death)\n",
        "visualize_coefficients(model_Confirmed[\"Ridge\"], train_data.columns)\n",
        "del model_Confirmed[\"Ridge\"]"
      ],
      "execution_count": 42,
      "outputs": [
        {
          "output_type": "display_data",
          "data": {
            "image/png": "[encoded data removed]",
            "text/plain": [
              "<Figure size 1080x360 with 1 Axes>"
            ]
          },
          "metadata": {
            "tags": [],
            "needs_background": "light"
          }
        }
      ]
    },
    {
      "cell_type": "markdown",
      "metadata": {
        "id": "xyXZZH2kdU12",
        "colab_type": "text"
      },
      "source": [
        "### Lasso"
      ]
    },
    {
      "cell_type": "code",
      "metadata": {
        "id": "yPOkf1uAdYgl",
        "colab_type": "code",
        "colab": {}
      },
      "source": [
        "#model_Confirmed[\"Lasso\"] = linear_model.Lasso().fit(train_data, train_labels)\n",
        "#model_Death[\"Lasso\"] = linear_model.Lasso().fit(train_data, train_death)"
      ],
      "execution_count": 0,
      "outputs": []
    },
    {
      "cell_type": "markdown",
      "metadata": {
        "id": "pCslqzwMdaYJ",
        "colab_type": "text"
      },
      "source": [
        "### SGDRegressor"
      ]
    },
    {
      "cell_type": "code",
      "metadata": {
        "id": "nXfWJhS0V4T8",
        "colab_type": "code",
        "colab": {}
      },
      "source": [
        "#model_Confirmed[\"SGDRegressor\"] = linear_model.SGDRegressor().fit(train_data, train_labels)\n",
        "#model_Death[\"SGDRegressor\"] = linear_model.SGDRegressor().fit(train_data, train_death)"
      ],
      "execution_count": 0,
      "outputs": []
    },
    {
      "cell_type": "markdown",
      "metadata": {
        "id": "LjSqy9eb4p5g",
        "colab_type": "text"
      },
      "source": [
        "## Нейронная сеть"
      ]
    },
    {
      "cell_type": "markdown",
      "metadata": {
        "id": "Mq548kJ3VCD_",
        "colab_type": "text"
      },
      "source": [
        "### Обучаем MLPRegressor"
      ]
    },
    {
      "cell_type": "code",
      "metadata": {
        "id": "r_sl8LEtqP-j",
        "colab_type": "code",
        "outputId": "17fdbc1e-fa08-4633-d6b5-ebb26026a1b8",
        "colab": {
          "base_uri": "https://localhost:8080/",
          "height": 54
        }
      },
      "source": [
        "\"\"\"\n",
        "model_Confirmed[\"MLPRegressor\"] = MLPRegressor(hidden_layer_sizes=(100, 100),max_iter=5000,\n",
        "                                 learning_rate_init=0.01, random_state=0,\n",
        "                                 early_stopping=True).fit(train_data, train_labels)\n",
        "                                                            \n",
        "model_Death[\"MLPRegressor\"] = MLPRegressor(hidden_layer_sizes=(100, 100),max_iter=5000,\n",
        "                                 learning_rate_init=0.01, random_state=0,\n",
        "                                 early_stopping=True).fit(train_data, train_death)\n",
        "\"\"\""
      ],
      "execution_count": 45,
      "outputs": [
        {
          "output_type": "execute_result",
          "data": {
            "text/plain": [
              "'\\nmodel_Confirmed[\"MLPRegressor\"] = MLPRegressor(hidden_layer_sizes=(100, 100),max_iter=5000,\\n                                 learning_rate_init=0.01, random_state=0,\\n                                 early_stopping=True).fit(train_data, train_labels)\\n                                                            \\nmodel_Death[\"MLPRegressor\"] = MLPRegressor(hidden_layer_sizes=(100, 100),max_iter=5000,\\n                                 learning_rate_init=0.01, random_state=0,\\n                                 early_stopping=True).fit(train_data, train_death)\\n'"
            ]
          },
          "metadata": {
            "tags": []
          },
          "execution_count": 45
        }
      ]
    },
    {
      "cell_type": "markdown",
      "metadata": {
        "id": "AH48ukTguTMm",
        "colab_type": "text"
      },
      "source": [
        "### Обучаем Keras"
      ]
    },
    {
      "cell_type": "code",
      "metadata": {
        "id": "vP3B5_Qg63uz",
        "colab_type": "code",
        "outputId": "25984b53-7e84-439a-ec01-ac4c9c92724b",
        "colab": {
          "base_uri": "https://localhost:8080/",
          "height": 54
        }
      },
      "source": [
        "\"\"\"def build_model():\n",
        "  model = keras.Sequential([\n",
        "    layers.Dense(128, activation='relu', input_shape=[len(train_data.keys())]),\n",
        "    keras.layers.Dropout(0.2),\n",
        "    layers.Dense(32, activation='relu', kernel_regularizer=keras.regularizers.l2(0.1)),\n",
        "    keras.layers.Dropout(0.2),    \n",
        "    layers.Dense(1)\n",
        "  ])\n",
        "  model.compile(loss='mse', optimizer='adam', metrics='mse')\n",
        "  return model\n",
        "\n",
        "EPOCHS = 100\n",
        "model_Confirmed[\"keras\"] = build_model()\n",
        "history = model_Confirmed[\"keras\"].fit(train_data, train_labels, epochs=EPOCHS, validation_split = 0.1, verbose=0)\n",
        "model_Death[\"keras\"] = build_model()\n",
        "history = model_Death[\"keras\"].fit(train_data, train_death, epochs=EPOCHS, validation_split = 0.1, verbose=0)\n",
        "plt.rcParams['figure.figsize'] = [20, 10]\n",
        "hist = pd.DataFrame(history.history)\n",
        "hist['epoch'] = history.epoch\n",
        "plt.xlabel('Epoch')\n",
        "plt.ylabel('Mean Square Error [$MPG^2$]')\n",
        "plt.plot(hist['epoch'], hist['mse'], label='Train Error')\n",
        "plt.plot(hist['epoch'], hist['val_mse'], label = 'Val Error')\n",
        "plt.legend()\n",
        "\"\"\""
      ],
      "execution_count": 46,
      "outputs": [
        {
          "output_type": "execute_result",
          "data": {
            "text/plain": [
              "'def build_model():\\n  model = keras.Sequential([\\n    layers.Dense(128, activation=\\'relu\\', input_shape=[len(train_data.keys())]),\\n    keras.layers.Dropout(0.2),\\n    layers.Dense(32, activation=\\'relu\\', kernel_regularizer=keras.regularizers.l2(0.1)),\\n    keras.layers.Dropout(0.2),    \\n    layers.Dense(1)\\n  ])\\n  model.compile(loss=\\'mse\\', optimizer=\\'adam\\', metrics=\\'mse\\')\\n  return model\\n\\nEPOCHS = 100\\nmodel_Confirmed[\"keras\"] = build_model()\\nhistory = model_Confirmed[\"keras\"].fit(train_data, train_labels, epochs=EPOCHS, validation_split = 0.1, verbose=0)\\nmodel_Death[\"keras\"] = build_model()\\nhistory = model_Death[\"keras\"].fit(train_data, train_death, epochs=EPOCHS, validation_split = 0.1, verbose=0)\\nplt.rcParams[\\'figure.figsize\\'] = [20, 10]\\nhist = pd.DataFrame(history.history)\\nhist[\\'epoch\\'] = history.epoch\\nplt.xlabel(\\'Epoch\\')\\nplt.ylabel(\\'Mean Square Error [$MPG^2$]\\')\\nplt.plot(hist[\\'epoch\\'], hist[\\'mse\\'], label=\\'Train Error\\')\\nplt.plot(hist[\\'epoch\\'], hist[\\'val_mse\\'], label = \\'Val Error\\')\\nplt.legend()\\n'"
            ]
          },
          "metadata": {
            "tags": []
          },
          "execution_count": 46
        }
      ]
    },
    {
      "cell_type": "markdown",
      "metadata": {
        "id": "2yO7CvRAYQIp",
        "colab_type": "text"
      },
      "source": [
        "### Обучаем Pytorch"
      ]
    },
    {
      "cell_type": "code",
      "metadata": {
        "id": "NOUCE0wQducc",
        "colab_type": "code",
        "outputId": "5efa98b3-5b93-44b5-bc43-72d6c75f5dd2",
        "colab": {
          "base_uri": "https://localhost:8080/",
          "height": 54
        }
      },
      "source": [
        "\"\"\"\n",
        "class Net(nn.Module):\n",
        "  def __init__(self):\n",
        "    super(Net, self).__init__()\n",
        "    self.fc1 = nn.Linear(len(train_data.keys()), 100)\n",
        "    self.fc2 = nn.Linear(100, 100)\n",
        "    self.fc3 = nn.Linear(100, 1)\n",
        "  def forward(self, x):\n",
        "    x = F.relu(self.fc1(x))\n",
        "    x = F.dropout(x, p=0.2)\n",
        "    x = F.relu(self.fc2(x))\n",
        "    x = F.dropout(x, p=0.2)\n",
        "    x = self.fc3(x)\n",
        "    return x\n",
        "  def predict(self, data):\n",
        "    pred_y = self(data)\n",
        "    return pred_y.detach().numpy()[:,0]\n",
        "\n",
        "model_Confirmed[\"pytorch\"] = Net()\n",
        "\n",
        "X = Variable(torch.tensor(train_data.values)).float()\n",
        "target = Variable(torch.tensor(train_labels.to_numpy().reshape(-1,1))).float()\n",
        "\n",
        "criterion = torch.nn.MSELoss()\n",
        "optimizer = torch.optim.Adam(model_Confirmed[\"pytorch\"].parameters(), lr = 0.005)\n",
        "epochs = 200\n",
        "for epoch in range(epochs):\n",
        "  net_out = model_Confirmed[\"pytorch\"](X)\n",
        "  loss = criterion(net_out, target)\n",
        "  optimizer.zero_grad()\n",
        "  loss.backward()\n",
        "  optimizer.step()\n",
        "  if (epoch + 1) % (epochs / 10) == 0:\n",
        "      print('epoch {}, loss {}'.format(epoch, loss.item()))\n",
        "model_Confirmed[\"pytorch\"].eval()      \n",
        "\n",
        "model_Death[\"pytorch\"] =Net()\n",
        "target = Variable(torch.tensor(train_death.to_numpy().reshape(-1,1))).float()\n",
        "for epoch in range(epochs):\n",
        "  net_out = model_Death[\"pytorch\"](X)\n",
        "  loss = criterion(net_out, target)\n",
        "  optimizer.zero_grad()\n",
        "  loss.backward()\n",
        "  optimizer.step()\n",
        "model_Death[\"pytorch\"].eval()\n",
        "\"\"\""
      ],
      "execution_count": 47,
      "outputs": [
        {
          "output_type": "execute_result",
          "data": {
            "text/plain": [
              "'\\nclass Net(nn.Module):\\n  def __init__(self):\\n    super(Net, self).__init__()\\n    self.fc1 = nn.Linear(len(train_data.keys()), 100)\\n    self.fc2 = nn.Linear(100, 100)\\n    self.fc3 = nn.Linear(100, 1)\\n  def forward(self, x):\\n    x = F.relu(self.fc1(x))\\n    x = F.dropout(x, p=0.2)\\n    x = F.relu(self.fc2(x))\\n    x = F.dropout(x, p=0.2)\\n    x = self.fc3(x)\\n    return x\\n  def predict(self, data):\\n    pred_y = self(data)\\n    return pred_y.detach().numpy()[:,0]\\n\\nmodel_Confirmed[\"pytorch\"] = Net()\\n\\nX = Variable(torch.tensor(train_data.values)).float()\\ntarget = Variable(torch.tensor(train_labels.to_numpy().reshape(-1,1))).float()\\n\\ncriterion = torch.nn.MSELoss()\\noptimizer = torch.optim.Adam(model_Confirmed[\"pytorch\"].parameters(), lr = 0.005)\\nepochs = 200\\nfor epoch in range(epochs):\\n  net_out = model_Confirmed[\"pytorch\"](X)\\n  loss = criterion(net_out, target)\\n  optimizer.zero_grad()\\n  loss.backward()\\n  optimizer.step()\\n  if (epoch + 1) % (epochs / 10) == 0:\\n      print(\\'epoch {}, loss {}\\'.format(epoch, loss.item()))\\nmodel_Confirmed[\"pytorch\"].eval()      \\n\\nmodel_Death[\"pytorch\"] =Net()\\ntarget = Variable(torch.tensor(train_death.to_numpy().reshape(-1,1))).float()\\nfor epoch in range(epochs):\\n  net_out = model_Death[\"pytorch\"](X)\\n  loss = criterion(net_out, target)\\n  optimizer.zero_grad()\\n  loss.backward()\\n  optimizer.step()\\nmodel_Death[\"pytorch\"].eval()\\n'"
            ]
          },
          "metadata": {
            "tags": []
          },
          "execution_count": 47
        }
      ]
    },
    {
      "cell_type": "markdown",
      "metadata": {
        "id": "FcNKWsjH5D7E",
        "colab_type": "text"
      },
      "source": [
        "## Бустинг и Лес"
      ]
    },
    {
      "cell_type": "markdown",
      "metadata": {
        "id": "3FKBe0XbYmwz",
        "colab_type": "text"
      },
      "source": [
        "### Обучаем случайный лес"
      ]
    },
    {
      "cell_type": "code",
      "metadata": {
        "id": "WzzmuIGvYk-f",
        "colab_type": "code",
        "outputId": "e20f0f83-717a-4b3d-dad1-75ba9e3d104f",
        "colab": {
          "base_uri": "https://localhost:8080/",
          "height": 54
        }
      },
      "source": [
        "\"\"\"\n",
        "param_grid = {\n",
        "    'n_estimators': [200], #Больше - лучше\n",
        "    'max_depth':[5, 10, 15]\n",
        "                }\n",
        "RandomForest1 = ensemble.RandomForestRegressor(random_state=42)\n",
        "model_Confirmed[\"RandomForest\"] = model_selection.GridSearchCV(estimator = RandomForest1, param_grid = param_grid, \n",
        "                                         cv = 3, n_jobs = -1).fit(train_data, train_labels)\n",
        "model_Death[\"RandomForest\"] = model_selection.GridSearchCV(estimator = RandomForest1, param_grid = param_grid, \n",
        "                                         cv = 3, n_jobs = -1).fit(train_data, train_labels)\n",
        "model_Confirmed[\"RandomForest\"].best_params_\n",
        "\"\"\""
      ],
      "execution_count": 48,
      "outputs": [
        {
          "output_type": "execute_result",
          "data": {
            "text/plain": [
              "'\\nparam_grid = {\\n    \\'n_estimators\\': [200], #Больше - лучше\\n    \\'max_depth\\':[5, 10, 15]\\n                }\\nRandomForest1 = ensemble.RandomForestRegressor(random_state=42)\\nmodel_Confirmed[\"RandomForest\"] = model_selection.GridSearchCV(estimator = RandomForest1, param_grid = param_grid, \\n                                         cv = 3, n_jobs = -1).fit(train_data, train_labels)\\nmodel_Death[\"RandomForest\"] = model_selection.GridSearchCV(estimator = RandomForest1, param_grid = param_grid, \\n                                         cv = 3, n_jobs = -1).fit(train_data, train_labels)\\nmodel_Confirmed[\"RandomForest\"].best_params_\\n'"
            ]
          },
          "metadata": {
            "tags": []
          },
          "execution_count": 48
        }
      ]
    },
    {
      "cell_type": "markdown",
      "metadata": {
        "id": "xJT8FNQJYo-j",
        "colab_type": "text"
      },
      "source": [
        "### Обучаем xgboost"
      ]
    },
    {
      "cell_type": "code",
      "metadata": {
        "id": "WgrVV-nvAKza",
        "colab_type": "code",
        "outputId": "405b9ffd-e191-4996-a8c7-d83557ae7803",
        "colab": {
          "base_uri": "https://localhost:8080/",
          "height": 54
        }
      },
      "source": [
        "\"\"\"model_Confirmed[\"Xgboost\"] = xgb.XGBRegressor(objective ='reg:squarederror',n_estimators=iterat, max_depth=13, \n",
        "                                              n_jobs = -1).fit(train_data, train_labels)\n",
        "model_Death[\"Xgboost\"] = xgb.XGBRegressor(objective ='reg:squarederror',n_estimators=iterat//10, max_depth=13, \n",
        "                                          n_jobs = -1).fit(train_data, train_death)\"\"\""
      ],
      "execution_count": 49,
      "outputs": [
        {
          "output_type": "execute_result",
          "data": {
            "text/plain": [
              "'model_Confirmed[\"Xgboost\"] = xgb.XGBRegressor(objective =\\'reg:squarederror\\',n_estimators=iterat, max_depth=13, \\n                                              n_jobs = -1).fit(train_data, train_labels)\\nmodel_Death[\"Xgboost\"] = xgb.XGBRegressor(objective =\\'reg:squarederror\\',n_estimators=iterat//10, max_depth=13, \\n                                          n_jobs = -1).fit(train_data, train_death)'"
            ]
          },
          "metadata": {
            "tags": []
          },
          "execution_count": 49
        }
      ]
    },
    {
      "cell_type": "markdown",
      "metadata": {
        "id": "jwah1COMYgad",
        "colab_type": "text"
      },
      "source": [
        "### Обучаем Adaboost Regressor"
      ]
    },
    {
      "cell_type": "code",
      "metadata": {
        "id": "mYyabu1A7JEd",
        "colab_type": "code",
        "outputId": "421d48d7-81a5-4525-c7a2-9d009bac0cf6",
        "colab": {
          "base_uri": "https://localhost:8080/",
          "height": 54
        }
      },
      "source": [
        "\"\"\"treeDepth = 30\n",
        "mdl = tree.DecisionTreeRegressor(max_depth=treeDepth)\n",
        "param_grid = {\n",
        "    'n_estimators': [iterat//10],\n",
        "    'learning_rate': [0.0001],\n",
        "    'loss' : [\"exponential\"]\n",
        "                }\n",
        "regrMdl = ensemble.AdaBoostRegressor(base_estimator=mdl)\n",
        "model_Confirmed[\"Adaboost\"] = model_selection.GridSearchCV(estimator = regrMdl, param_grid = param_grid, \n",
        "                                         cv = 2, n_jobs = -1).fit(train_data, train_labels)\n",
        "model_Death[\"Adaboost\"] = model_selection.GridSearchCV(estimator = regrMdl, param_grid = param_grid, \n",
        "                                         cv = 2, n_jobs = -1).fit(train_data, train_death)\n",
        "model_Confirmed[\"Adaboost\"].best_params_\"\"\""
      ],
      "execution_count": 50,
      "outputs": [
        {
          "output_type": "execute_result",
          "data": {
            "text/plain": [
              "'treeDepth = 30\\nmdl = tree.DecisionTreeRegressor(max_depth=treeDepth)\\nparam_grid = {\\n    \\'n_estimators\\': [iterat//10],\\n    \\'learning_rate\\': [0.0001],\\n    \\'loss\\' : [\"exponential\"]\\n                }\\nregrMdl = ensemble.AdaBoostRegressor(base_estimator=mdl)\\nmodel_Confirmed[\"Adaboost\"] = model_selection.GridSearchCV(estimator = regrMdl, param_grid = param_grid, \\n                                         cv = 2, n_jobs = -1).fit(train_data, train_labels)\\nmodel_Death[\"Adaboost\"] = model_selection.GridSearchCV(estimator = regrMdl, param_grid = param_grid, \\n                                         cv = 2, n_jobs = -1).fit(train_data, train_death)\\nmodel_Confirmed[\"Adaboost\"].best_params_'"
            ]
          },
          "metadata": {
            "tags": []
          },
          "execution_count": 50
        }
      ]
    },
    {
      "cell_type": "markdown",
      "metadata": {
        "id": "ThUgPuBoyOfo",
        "colab_type": "text"
      },
      "source": [
        "### Catboost"
      ]
    },
    {
      "cell_type": "code",
      "metadata": {
        "id": "pPh3Q-dKpdBE",
        "colab_type": "code",
        "colab": {}
      },
      "source": [
        "model_Confirmed[\"catboost\"] = CatBoostRegressor(iterations=iterat*5, depth=10,  l2_leaf_reg = 1, verbose=False).fit(train_data, train_labels) \n",
        "model_Death[\"catboost\"] = CatBoostRegressor(iterations=iterat, depth=10, verbose=False).fit(train_data, train_death)\n",
        "#print(model_Confirmed[\"catboost\"].get_all_params())"
      ],
      "execution_count": 0,
      "outputs": []
    },
    {
      "cell_type": "markdown",
      "metadata": {
        "id": "nobqZjAPONnR",
        "colab_type": "text"
      },
      "source": [
        "### Lightgbm"
      ]
    },
    {
      "cell_type": "code",
      "metadata": {
        "id": "lWFCYX9qAco6",
        "colab_type": "code",
        "colab": {}
      },
      "source": [
        "params = {'min_data': 10}\n",
        "d_train = lgb.Dataset(train_data, label=train_labels)\n",
        "model_Confirmed[\"lightgbm\"]  = lgb.train(params, d_train, iterat)\n",
        "d_train = lgb.Dataset(train_data, label=train_death)\n",
        "model_Death[\"lightgbm\"]  = lgb.train(params, d_train, iterat)"
      ],
      "execution_count": 0,
      "outputs": []
    },
    {
      "cell_type": "markdown",
      "metadata": {
        "id": "FHt8X6mKdutc",
        "colab_type": "text"
      },
      "source": [
        "## Обучаем свою модель"
      ]
    },
    {
      "cell_type": "code",
      "metadata": {
        "id": "4wNgf_jHuLMJ",
        "colab_type": "code",
        "colab": {}
      },
      "source": [
        "#model_Confirmed[\"new\"] = \n",
        "#model_Death[\"new\"] = "
      ],
      "execution_count": 0,
      "outputs": []
    },
    {
      "cell_type": "markdown",
      "metadata": {
        "id": "7mK52KxpHbSN",
        "colab_type": "text"
      },
      "source": [
        "#Предсказываем новые данные"
      ]
    },
    {
      "cell_type": "markdown",
      "metadata": {
        "id": "ZBOvOvtke27Q",
        "colab_type": "text"
      },
      "source": [
        "## Функция отображения данных"
      ]
    },
    {
      "cell_type": "code",
      "metadata": {
        "id": "Fz2ffe27OeEh",
        "colab_type": "code",
        "colab": {}
      },
      "source": [
        "def plot_new(list_countries, Matrix, Death = False,subplot_x = 2, days_before = 10, point = True):\n",
        "  dat2 = data2.copy()\n",
        "  plt.rcParams['figure.figsize'] = [24, len(list_countries)*20/subplot_x**2]\n",
        "  if log_labels:\n",
        "    dat2.deaths = 10**dat2.deaths - 1\n",
        "    dat2.confirmed = 10**dat2.confirmed - 1\n",
        "  else:\n",
        "    dat2.deaths = 10**3*dat2.deaths\n",
        "    dat2.confirmed = 10**4*dat2.confirmed  \n",
        "  for i, Country in enumerate(list_countries):\n",
        "    plt.subplot(len(list_countries)// subplot_x + 1, subplot_x, i+1)\n",
        "    yyy = dat2.loc[(dat2.iso_alpha3 == Country)&(dat2.confirmed>0)&(dat2.days_mart>=(days_x - days_before)/sc_days)]\n",
        "    yyy = yyy.loc[(yyy.days_mart<=(days_x + 7)/sc_days)]\n",
        "    if Death:\n",
        "      if point:\n",
        "        plt.plot(yyy.date, yyy.deaths, label = \"Истинное значение\", marker='o')\n",
        "        ax = plt.gca()\n",
        "        for x,y,i in zip(yyy.date,yyy.deaths,range(0,len(yyy))):\n",
        "          if not i % ((subplot_x * (days_before+days_prog))//20):\n",
        "            plt.annotate(int(y), (x,y), textcoords=\"offset points\", xytext=(-5,10), ha=\"right\", va = \"bottom\")\n",
        "      plt.plot(yyy.date, yyy.deaths, label = \"Истинное значение\")\n",
        "      plt.gca().set(xlabel='Дата', ylabel='Смерти')\n",
        "    else:\n",
        "      if point:\n",
        "        plt.plot(yyy.date, yyy.confirmed, label = \"Истинное значение\", marker='o')\n",
        "        ax = plt.gca()\n",
        "        for x,y,i in zip(yyy.date,yyy.confirmed,range(0,len(yyy))):\n",
        "          if not i % ((subplot_x * (days_before+days_prog))//20):\n",
        "            plt.annotate(int(y), (x,y), textcoords=\"offset points\", xytext=(-5,10), ha=\"right\", va = \"bottom\")\n",
        "      else:\n",
        "        plt.plot(yyy.date, yyy.confirmed, label = \"Истинное значение\")\n",
        "      plt.gca().set(xlabel='Дата', ylabel='Заражения')\n",
        "    for name in Matrix:\n",
        "      yyy2 = Matrix[name].loc[:,[Country]]\n",
        "      if point:\n",
        "        plt.plot(yyy2, label = name, marker='o')\n",
        "        ax = plt.gca()\n",
        "        for x,y,i in zip(yyy2.index,yyy2.values.T[0],range(0,len(yyy2))):\n",
        "          if not i % ((subplot_x * (days_before+days_prog))//20):\n",
        "            plt.annotate(int(y), (x,y), textcoords=\"offset points\", xytext=(5,-10), ha=\"left\", va = \"top\")\n",
        "      else:\n",
        "        plt.plot(yyy2, label = name)\n",
        "    plt.title(dic_countries[Country])\n",
        "    plt.xticks(np.arange(0, (days_before+days_prog), ((days_before+days_prog)//10)*subplot_x))\n",
        "    #plt.yticks(np.linspace(0,10+days_prog,30//subplot_x))\n",
        "    plt.grid(True)\n",
        "    plt.legend()\n",
        "\n",
        "#Считаем скор\n",
        "def pred_score(predictions, day):\n",
        "  yyy = new_data[(new_data.days_mart==(days_x + day - 1)/sc_days) & (new_data.confirmed > 0)]\n",
        "  region_list_x = new_data[(new_data.days_mart==(days_x)/sc_days) & (new_data.confirmed > 0)].countries.to_list()\n",
        "  yyy = yyy[yyy.countries.isin(region_list_x)]\n",
        "  #print(len(yyy),len(predictions))\n",
        "  \n",
        "  if len(yyy)==len(predictions):\n",
        "\n",
        "    labels = yyy.confirmed.values  \n",
        "    if log_labels:\n",
        "      labels = 10**labels - 1\n",
        "    else:\n",
        "      labels = 10**4*labels\n",
        "    return np.mean(np.abs(np.log10((predictions+1)/(labels+1))))\n",
        "  else:\n",
        "    return 0      "
      ],
      "execution_count": 0,
      "outputs": []
    },
    {
      "cell_type": "markdown",
      "metadata": {
        "id": "PvblEMdS5rT-",
        "colab_type": "text"
      },
      "source": [
        "## Расчёт значений"
      ]
    },
    {
      "cell_type": "code",
      "metadata": {
        "id": "ShbS_nOqC0ju",
        "colab_type": "code",
        "colab": {}
      },
      "source": [
        "#del model_Confirmed[\"Adaboost\"]"
      ],
      "execution_count": 0,
      "outputs": []
    },
    {
      "cell_type": "code",
      "metadata": {
        "id": "3bQVsTWd3MWV",
        "colab_type": "code",
        "outputId": "12b245e2-d35b-44a6-ba07-1bf9509ff03f",
        "colab": {
          "base_uri": "https://localhost:8080/",
          "height": 68
        }
      },
      "source": [
        "# Сколько дней прогнозируем?\n",
        "days_prog = 8   #256\n",
        "podgon = True\n",
        "\n",
        "\n",
        "Matrix_confirmed,Matrix_Death ={},{}\n",
        "data_list = pd.date_range('2020-04-'+str(days_x-31), periods = days_prog+1, freq ='d')\n",
        "data_list = data_list.strftime('%#m-%#d') \n",
        "new_data_list = data_x.copy()\n",
        "labels = new_data_list.iso_alpha3\n",
        "Matrix_confirmed[\"Среднее\"] = pd.DataFrame(np.zeros((days_prog+1, len(labels))),columns = labels,index = data_list)\n",
        "Matrix_Death[\"Среднее\"] = pd.DataFrame(np.zeros((days_prog+1, len(labels))),columns = labels,index = data_list)\n",
        "\n",
        "for model_name in model_Confirmed:\n",
        "  scores = []\n",
        "  new_data_list = data_x.copy()\n",
        "  labels = new_data_list.iso_alpha3\n",
        "  if log_labels:\n",
        "    predictions_confirmed = [(10**new_data_list.pred_conf - 1).tolist()]\n",
        "    predictions_Death = [(10**new_data_list.pred_deaths - 1).tolist()]\n",
        "  else:\n",
        "    predictions_confirmed = [(new_data_list.pred_conf*10**4).tolist()]\n",
        "    predictions_Death = [(new_data_list.pred_deaths*10**3).tolist()]        \n",
        "  new_data_list = new_data_list.drop(['iso_alpha3','region','confirmed','countries','deaths',\"delta_conf\",\"delta_deaths\"], axis='columns')  \n",
        "  for i in range(days_prog):\n",
        "    #print(data.iloc[-10:-7,-5:])\n",
        "    if model_name == \"pytorch\":\n",
        "      prediction_confirmed = model_Confirmed[model_name].predict(torch.tensor(new_data_list.values).float())\n",
        "      prediction_Death = model_Death[model_name].predict(torch.tensor(new_data_list.values).float())\n",
        "    else:\n",
        "      prediction_confirmed = model_Confirmed[model_name].predict(new_data_list).flatten()\n",
        "      prediction_Death = model_Death[model_name].predict(new_data_list).flatten()\n",
        "    prediction_confirmed[prediction_confirmed<0] = 0\n",
        "    prediction_Death[prediction_Death<0] = 0\n",
        "    #prediction_confirmed = prediction_confirmed + new_data_list.delta_conf_sum\n",
        "    #prediction_confirmed = prediction_confirmed + new_data_list.delta_conf1   \n",
        "    if podgon:\n",
        "      prediction_confirmed = prediction_confirmed*(0.95**(new_data_list.days_10.values*5))\n",
        "      prediction_Death = prediction_Death*(0.95**(new_data_list.days_10.values*5))\n",
        "    \n",
        "    if type_ans_delta:\n",
        "      if log_labels:\n",
        "        prediction_confirmed = prediction_confirmed + new_data_list.pred_conf.values\n",
        "        prediction_Death = prediction_Death + new_data_list.pred_deaths.values\n",
        "      else:\n",
        "        #prediction_confirmed = prediction_confirmed + new_data_list.pred_conf.values\n",
        "        #prediction_Death = prediction_Death + new_data_list.pred_deaths.values        \n",
        "        prediction_Death = (1+prediction_Death)*(new_data_list.pred_deaths.values  + 0.001) \n",
        "        prediction_confirmed = (1+prediction_confirmed)*(new_data_list.pred_conf.values  + 0.0001)\n",
        "\n",
        "\n",
        "    if ('delta_conf_sum' in new_data_list.columns):\n",
        "      new_data_list[\"delta_conf_sum\"] = 0\n",
        "    if ('delta_conf6' in new_data_list.columns):\n",
        "      new_data_list[\"delta_conf6\"] = new_data_list[\"delta_conf5\"]\n",
        "      if ('delta_conf_sum' in new_data_list.columns):\n",
        "        new_data_list[\"delta_conf_sum\"] = new_data_list[\"delta_conf_sum\"] + new_data_list[\"delta_conf6\"]\n",
        "    if ('delta_conf5' in new_data_list.columns):\n",
        "      new_data_list[\"delta_conf5\"] = new_data_list[\"delta_conf4\"]\n",
        "      if ('delta_conf_sum' in new_data_list.columns):\n",
        "        new_data_list[\"delta_conf_sum\"] = new_data_list[\"delta_conf_sum\"] + new_data_list[\"delta_conf5\"]\n",
        "    if ('delta_conf4' in new_data_list.columns):\n",
        "      new_data_list[\"delta_conf4\"] = new_data_list[\"delta_conf3\"]    \n",
        "      if ('delta_conf_sum' in new_data_list.columns):\n",
        "        new_data_list[\"delta_conf_sum\"] = new_data_list[\"delta_conf_sum\"] + new_data_list[\"delta_conf4\"]\n",
        "    if ('delta_conf3' in new_data_list.columns):\n",
        "      new_data_list[\"delta_conf3\"] = new_data_list[\"delta_conf2\"]\n",
        "      if ('delta_conf_sum' in new_data_list.columns):\n",
        "        new_data_list[\"delta_conf_sum\"] = new_data_list[\"delta_conf_sum\"] + new_data_list[\"delta_conf3\"]\n",
        "      if ('delta_conf_sum3' in new_data_list.columns):\n",
        "        new_data_list[\"delta_conf_sum3\"] = new_data_list[\"delta_conf_sum3\"] + new_data_list[\"delta_conf3\"]        \n",
        "    if ('delta_conf2' in new_data_list.columns):\n",
        "      new_data_list[\"delta_conf2\"] = new_data_list[\"delta_conf1\"]\n",
        "      if ('delta_conf_sum' in new_data_list.columns):\n",
        "        new_data_list[\"delta_conf_sum\"] = new_data_list[\"delta_conf_sum\"] + new_data_list[\"delta_conf2\"]\n",
        "      if ('delta_conf_sum3' in new_data_list.columns):\n",
        "        new_data_list[\"delta_conf_sum3\"] = new_data_list[\"delta_conf_sum3\"] + new_data_list[\"delta_conf2\"]        \n",
        "    new_data_list[\"delta_conf1\"] = (prediction_confirmed - new_data_list[\"pred_conf\"])\n",
        "        \n",
        "    if ('delta_conf_sum' in new_data_list.columns):\n",
        "      new_data_list[\"delta_conf_sum\"] = new_data_list[\"delta_conf_sum\"] + new_data_list[\"delta_conf1\"]\n",
        "      new_data_list[\"delta_conf_sum\"] = new_data_list[\"delta_conf_sum\"]/6\n",
        "    if ('delta_conf_sum3' in new_data_list.columns):\n",
        "      new_data_list[\"delta_conf_sum3\"] = new_data_list[\"delta_conf_sum3\"] + new_data_list[\"delta_conf1\"]\n",
        "      new_data_list[\"delta_conf_sum3\"] = new_data_list[\"delta_conf_sum3\"]/3\n",
        "\n",
        "\n",
        "    if ('delta_conf_count' in new_data_list.columns) and ('delta_conf1' in new_data_list.columns) and ('delta_conf2' in new_data_list.columns):\n",
        "      new_data_list.loc[(new_data_list[\"delta_conf1\"] < new_data_list[\"delta_conf2\"]) | \n",
        "                        ((new_data_list[\"delta_conf1\"] <0.02) & (new_data_list[\"delta_conf1\"]>0)),\"delta_conf_count\"] +=0.2\n",
        "    if ('delta_conf_count' in new_data_list.columns) and ('delta_conf2' in new_data_list.columns) and ('delta_conf3' in new_data_list.columns):\n",
        "      new_data_list.loc[(new_data_list[\"delta_conf2\"] < new_data_list[\"delta_conf3\"]) | \n",
        "                      ((new_data_list[\"delta_conf2\"] <0.02) & (new_data_list[\"delta_conf2\"]>0)),\"delta_conf_count\"] +=0.2\n",
        "    if ('delta_conf_count' in new_data_list.columns) and ('delta_conf3' in new_data_list.columns) and ('delta_conf4' in new_data_list.columns):\n",
        "      new_data_list.loc[(new_data_list[\"delta_conf3\"] < new_data_list[\"delta_conf4\"]) | \n",
        "                      ((new_data_list[\"delta_conf3\"] <0.02) & (new_data_list[\"delta_conf3\"]>0)),\"delta_conf_count\"] +=0.2\n",
        "    if ('delta_conf_count' in new_data_list.columns) and ('delta_conf4' in new_data_list.columns) and ('delta_conf5' in new_data_list.columns):\n",
        "      new_data_list.loc[(new_data_list[\"delta_conf4\"] < new_data_list[\"delta_conf5\"]) | \n",
        "                      ((new_data_list[\"delta_conf4\"] <0.02) & (new_data_list[\"delta_conf4\"]>0)),\"delta_conf_count\"] +=0.2\n",
        "    if ('delta_conf_count' in new_data_list.columns) and ('delta_conf5' in new_data_list.columns) and ('delta_conf6' in new_data_list.columns):\n",
        "      new_data_list.loc[(new_data_list[\"delta_conf5\"] < new_data_list[\"delta_conf6\"]) | \n",
        "                      ((new_data_list[\"delta_conf5\"] <0.02) & (new_data_list[\"delta_conf5\"]>0)),\"delta_conf_count\"] +=0.2    \n",
        "\n",
        "    if ('delta_deaths6' in new_data_list.columns):\n",
        "      new_data_list[\"delta_deaths6\"] = new_data_list[\"delta_deaths5\"]\n",
        "    if ('delta_deaths5' in new_data_list.columns):\n",
        "      new_data_list[\"delta_deaths5\"] = new_data_list[\"delta_deaths4\"]\n",
        "    if ('delta_deaths4' in new_data_list.columns):\n",
        "      new_data_list[\"delta_deaths4\"] = new_data_list[\"delta_deaths3\"]\n",
        "    if ('delta_deaths3' in new_data_list.columns):\n",
        "      new_data_list[\"delta_deaths3\"] = new_data_list[\"delta_deaths2\"]\n",
        "    if ('delta_deaths2' in new_data_list.columns):\n",
        "      new_data_list[\"delta_deaths2\"] = new_data_list[\"delta_deaths1\"]\n",
        "    new_data_list[\"delta_deaths1\"] = prediction_Death - new_data_list[\"pred_deaths\"] \n",
        "    \n",
        "    if ('days_mart' in new_data_list.columns):  \n",
        "      new_data_list[\"days_mart\"] += 1/sc_days\n",
        "    if ('days' in new_data_list.columns):\n",
        "      new_data_list[\"days\"] += 1/sc_days\n",
        "    if ('days_after_Quarantine' in new_data_list.columns):\n",
        "      new_data_list['days_after_Quarantine'] += 1/sc_days\n",
        "\n",
        "\n",
        "    if ('days_10' in new_data_list.columns):\n",
        "      new_data_list.loc[new_data_list['days_10']>-100,'days_10'] += 1/sc_days      \n",
        "    if ('days_100' in new_data_list.columns):\n",
        "      new_data_list.loc[new_data_list['days_100']>-100,'days_100'] += 1/sc_days\n",
        "    if ('days_1000' in new_data_list.columns):\n",
        "      new_data_list.loc[new_data_list['days_1000']>-100,'days_1000'] += 1/sc_days\n",
        "    if ('days_5' in new_data_list.columns):\n",
        "      new_data_list.loc[new_data_list['days_5']>-100,'days_5'] += 1/sc_days      \n",
        "    if ('days_50' in new_data_list.columns):\n",
        "      new_data_list.loc[new_data_list['days_50']>-100,'days_50'] += 1/sc_days\n",
        "    if ('days_500' in new_data_list.columns):\n",
        "      new_data_list.loc[new_data_list['days_500']>-100,'days_500'] += 1/sc_days\n",
        "    if ('days_1_100' in new_data_list.columns):\n",
        "      new_data_list.loc[new_data_list['days_1_100']>-100,'days_1_100'] += 1/sc_days\n",
        "    if ('days_1_1000' in new_data_list.columns):\n",
        "      new_data_list.loc[new_data_list['days_1_1000']>-100,'days_1_1000'] += 1/sc_days\n",
        "    if ('days_1_10000' in new_data_list.columns):\n",
        "      new_data_list.loc[new_data_list['days_1_10000']>-100,'days_1_10000'] += 1/sc_days\n",
        "    if ('recovered' in new_data_list.columns) and ('pred_recovered' in new_data_list.columns):\n",
        "      new_data_list[\"recovered\"] = new_data_list[\"recovered\"] - new_data_list[\"pred_recovered\"] + new_data_list[\"recovered\"]*0.95\n",
        "    new_data_list[\"pred_deaths\"] = prediction_Death\n",
        "    new_data_list[\"pred_conf\"] = prediction_confirmed    \n",
        "\n",
        "    if log_labels:\n",
        "      prediction_Death = 10**prediction_Death - 1\n",
        "      prediction_confirmed = 10**prediction_confirmed - 1    \n",
        "    else:\n",
        "      prediction_Death = 10**3*prediction_Death \n",
        "      prediction_confirmed = 10**4*prediction_confirmed\n",
        "    \n",
        "    if ('pred_conf-population_log' in new_data_list.columns and 'population_log' in new_data_list.columns):\n",
        "      new_data_list['pred_conf-population_log'] = new_data_list['pred_conf'] - new_data_list['population_log'] + 3      \n",
        "      if ('days_1_100' in new_data_list.columns):\n",
        "        new_data_list.loc[(new_data_list['pred_conf-population_log'] > -1)&(new_data_list['days_1_100']<1), 'days_1_100'] = 1/sc_days\n",
        "      if ('days_1_1000' in new_data_list.columns):\n",
        "        new_data_list.loc[(new_data_list['pred_conf-population_log'] > 0)&(new_data_list['days_1_1000']<1), 'days_1_1000'] = 1/sc_days\n",
        "      if ('days_1_10000' in new_data_list.columns):\n",
        "        new_data_list.loc[(new_data_list['pred_conf-population_log'] > -2)&(new_data_list['days_1_10000']<1), 'days_1_10000'] = 1/sc_days\n",
        "\n",
        "    prediction_confirmed[prediction_confirmed>10**7] = 10**7\n",
        "    prediction_Death[prediction_Death>10**6] = 10**6      \n",
        "    predictions_Death.append(np.round(prediction_Death))\n",
        "    predictions_confirmed.append(np.round(prediction_confirmed))\n",
        "\n",
        "    score = pred_score(prediction_confirmed,i+1)\n",
        "    if score:\n",
        "      scores.append(score)\n",
        "    if ('days_10' in new_data_list.columns):\n",
        "      new_data_list.loc[(new_data_list.days_10<1) & (prediction_confirmed > 10),\"days_10\"] = 1\n",
        "    if ('days_100' in new_data_list.columns):\n",
        "      new_data_list.loc[(new_data_list.days_100<1) & (prediction_confirmed > 100),\"days_100\"] = 1\n",
        "    if ('days_1000' in new_data_list.columns):\n",
        "      new_data_list.loc[(new_data_list.days_1000<1) & (prediction_confirmed > 1000),\"days_1000\"] = 1\n",
        "    if ('days_5' in new_data_list.columns):\n",
        "      new_data_list.loc[(new_data_list.days_5<1) & (prediction_confirmed > 5),\"days_5\"] = 1\n",
        "    if ('days_50' in new_data_list.columns):\n",
        "      new_data_list.loc[(new_data_list.days_50<1) & (prediction_confirmed > 50),\"days_50\"] = 1\n",
        "    if ('days_500' in new_data_list.columns):\n",
        "      new_data_list.loc[(new_data_list.days_500<1) & (prediction_confirmed > 500),\"days_500\"] = 1\n",
        "\n",
        "  Matrix_confirmed[model_name] = pd.DataFrame(predictions_confirmed,columns = labels,index = data_list)\n",
        "  Matrix_Death[model_name] = pd.DataFrame(predictions_Death,columns = labels,index = data_list)\n",
        "  Matrix_confirmed[\"Среднее\"] += Matrix_confirmed[model_name]\n",
        "  Matrix_Death[\"Среднее\"] += Matrix_Death[model_name]\n",
        "  print(model_name, sum(scores), scores)\n",
        "Matrix_confirmed[\"Среднее\"] = Matrix_confirmed[\"Среднее\"]//len(model_Confirmed)\n",
        "Matrix_Death[\"Среднее\"] = Matrix_Death[\"Среднее\"]//len(model_Confirmed)\n",
        "scores = []\n",
        "for i,(index, row) in enumerate(Matrix_confirmed[\"Среднее\"].iterrows()):\n",
        "  score = pred_score(np.abs(row),i)\n",
        "  if score:\n",
        "    scores.append(score)\n",
        "print(\"Среднее\", sum(scores), scores)  "
      ],
      "execution_count": 57,
      "outputs": [
        {
          "output_type": "stream",
          "text": [
            "catboost 0.09604661941144575 [0.017447546311616286, 0.03192465877101355, 0.046674414328815916]\n",
            "lightgbm 0.10507033241692396 [0.02024958242022532, 0.03490553877324977, 0.04991521122344887]\n",
            "Среднее 0.09855291547838049 [0.01829899027402645, 0.033043295047522986, 0.04721063015683105]\n"
          ],
          "name": "stdout"
        }
      ]
    },
    {
      "cell_type": "markdown",
      "metadata": {
        "id": "w-Nlr45Vb_LH",
        "colab_type": "text"
      },
      "source": [
        "## Строим график"
      ]
    },
    {
      "cell_type": "code",
      "metadata": {
        "id": "E62VuPfOcDHe",
        "colab_type": "code",
        "outputId": "ebd3a806-447d-4ddd-ac59-53a6a69706f2",
        "colab": {
          "base_uri": "https://localhost:8080/",
          "height": 584
        }
      },
      "source": [
        "# Создаём список стран\n",
        "#list_countries = countries.iso_alpha3.to_list()[-100:-90]\n",
        "list_countries = []\n",
        "list_countries.extend([\"RU-MOW\"])\n",
        "#list_countries.extend([\"RUS\",\"FRA\",\"ITA\",\"CHN\",\"KOR\",\"USA\"])\n",
        "# Количество графиков в строке\n",
        "subplot_x = 1\n",
        "# Отмечать точки\n",
        "point = True\n",
        "\n",
        "#За сколько дней до начала прогноза\n",
        "days_before = 12\n",
        "\n",
        "#Строим для заражений, или смертей\n",
        "death_bool = False \n",
        "if death_bool:\n",
        "  Matrix = Matrix_Death\n",
        "else:\n",
        "  Matrix = Matrix_confirmed\n",
        "Matrix = {\"Предсказанное\": Matrix[\"lightgbm\"]}\n",
        "plot_new(list_countries, Matrix, death_bool, subplot_x, days_before, point)"
      ],
      "execution_count": 58,
      "outputs": [
        {
          "output_type": "display_data",
          "data": {
            "image/png": "[encoded data removed]",
            "text/plain": [
              "<Figure size 1728x1440 with 1 Axes>"
            ]
          },
          "metadata": {
            "tags": [],
            "needs_background": "light"
          }
        }
      ]
    },
    {
      "cell_type": "markdown",
      "metadata": {
        "id": "D9dg3lMgJ8QG",
        "colab_type": "text"
      },
      "source": [
        "# Сохраняем прогноз"
      ]
    },
    {
      "cell_type": "code",
      "metadata": {
        "id": "uhEYxJJyEDZL",
        "colab_type": "code",
        "colab": {}
      },
      "source": [
        "ans = Matrix_confirmed[\"Среднее\"].stack().reset_index()\n",
        "ans_Death = Matrix_Death[\"Среднее\"].stack().reset_index()\n",
        "ans[\"prediction_deaths\"] = ans_Death[0]\n",
        "ans.columns = ['date','region','prediction_confirmed', 'prediction_deaths']\n",
        "ans['date'] = pd.to_datetime('2020-'+ans['date'])\n",
        "ans['prediction_confirmed'] = ans['prediction_confirmed'].astype('int')\n",
        "ans['prediction_deaths'] = ans['prediction_deaths'].astype('int')\n",
        "ans.sort_values(by=['region', 'date']).to_csv('submission.csv', index=False)\n",
        "ans.sort_values(by=['region', 'date']).to_csv('/content/sberbank-covid19-forecast-2020/submission/submission.csv', index=False)"
      ],
      "execution_count": 0,
      "outputs": []
    },
    {
      "cell_type": "markdown",
      "metadata": {
        "id": "PB_eo5GDtiGh",
        "colab_type": "text"
      },
      "source": [
        "# Считаю ошибку на новых данных для всех участников"
      ]
    },
    {
      "cell_type": "markdown",
      "metadata": {
        "id": "d6qtU9Ah3xZt",
        "colab_type": "text"
      },
      "source": [
        "## Загружаем правильные данные"
      ]
    },
    {
      "cell_type": "code",
      "metadata": {
        "id": "0UFcaU82l8Js",
        "colab_type": "code",
        "colab": {}
      },
      "source": [
        "data2 = data2[data2.days_mart<0.59]\n",
        "new = pd.read_csv(\"/content/sberbank-covid19-forecast-2020/time.csv\").iloc[:,:4]\n",
        "new.columns =  [\"countries\",\"iso_alpha3\",\"date\",\"confirmed\"]\n",
        "new[\"date\"] = pd.to_datetime(new[\"date\"])\n",
        "new[\"days_mart\"] = (new.date - pd.to_datetime(\"2020-03-1\")).dt.days\n",
        "new[\"days_mart\"] = new[\"days_mart\"]/100\n",
        "new[\"confirmed\"] = pd.to_numeric(new[\"confirmed\"])+1\n",
        "new[\"confirmed\"] =  np.log10(new[\"confirmed\"])\n",
        "new[\"date\"] = new[\"date\"].apply(lambda x: pd.Series(x.strftime(\"%m-%d\")))\n",
        "data2 = pd.concat([data2, new],ignore_index=False)\n",
        "data2 = data2.sort_values(by=['iso_alpha3','date'])"
      ],
      "execution_count": 0,
      "outputs": []
    },
    {
      "cell_type": "markdown",
      "metadata": {
        "id": "na9bzNnM9oLk",
        "colab_type": "text"
      },
      "source": [
        "## Функции"
      ]
    },
    {
      "cell_type": "code",
      "metadata": {
        "id": "i9c7Dn2WChQs",
        "colab_type": "code",
        "colab": {}
      },
      "source": [
        "def plot_new(Country, Matrix, Death = False,subplot_x = 2, days_before = 10, point = True):\n",
        "  dat2 = data2.copy()\n",
        "  if log_labels:\n",
        "    dat2.deaths = 10**dat2.deaths - 1\n",
        "    dat2.confirmed = 10**dat2.confirmed - 1\n",
        "  else:\n",
        "    dat2.deaths = 10**3*dat2.deaths\n",
        "    dat2.confirmed = 10**4*dat2.confirmed  \n",
        "  yyy = dat2.loc[(dat2.iso_alpha3 == Country)&(dat2.confirmed>0)&(dat2.days_mart>=(days_x - days_before)/sc_days)]\n",
        "  if Death:\n",
        "    if point:\n",
        "      plt.plot(yyy.date, yyy.deaths, label = \"Истинное значение\", marker='o')\n",
        "      ax = plt.gca()\n",
        "      for x,y,i in zip(yyy.date,yyy.deaths,range(0,len(yyy))):\n",
        "        if not i % ((subplot_x * (days_before+days_prog))//10):\n",
        "          plt.annotate(int(y), (x,y), textcoords=\"offset points\", xytext=(-5,10), ha=\"right\", va = \"bottom\")\n",
        "    plt.plot(yyy.date, yyy.deaths, label = \"Истинное значение\")\n",
        "    plt.gca().set(xlabel='Дата', ylabel='Смерти')\n",
        "  else:\n",
        "    if point:\n",
        "      plt.plot(yyy.date, yyy.confirmed, label = \"Истинное значение\", marker='o', linewidth = 5)\n",
        "      ax = plt.gca()\n",
        "      for x,y,i in zip(yyy.date,yyy.confirmed,range(0,len(yyy))):\n",
        "        if not i % ((subplot_x * (days_before+days_prog))//10):\n",
        "          plt.annotate(int(y), (x,y), textcoords=\"offset points\", xytext=(-5,10), ha=\"right\", va = \"bottom\")\n",
        "    else:\n",
        "      plt.plot(yyy.date, yyy.confirmed, label = \"Истинное значение\", linewidth = 5)\n",
        "    plt.gca().set(xlabel='Дата', ylabel='Заражения')\n",
        "  Matrix2 = {}\n",
        "  for j, name in enumerate(Matrix):\n",
        "    yyy2 = Matrix[name].loc[:,[Country]]\n",
        "    Matrix2[pred_score3(yyy,yyy2)+\" \"+name] = Matrix[name]\n",
        "  Matrix = OrderedDict(sorted(Matrix2.items(), key=lambda t: t[0]))  \n",
        "  for j, name in enumerate(Matrix):\n",
        "    yyy2 = Matrix[name].loc[:,[Country]]\n",
        "    if point:\n",
        "      plt.plot(yyy2, label = str(j+1)+\") \" + name, marker='o')\n",
        "      ax = plt.gca()\n",
        "      for x,y,i in zip(yyy2.index,yyy2.values.T[0],range(0,len(yyy2))):\n",
        "        if not i % ((subplot_x * (days_before+days_prog))//10):\n",
        "          plt.annotate(int(y), (x,y), textcoords=\"offset points\", xytext=(5,-10), ha=\"left\", va = \"top\")\n",
        "    else:\n",
        "      plt.plot(yyy2, label = str(j+1)+\") \" + name)\n",
        "    \n",
        "    plt.title(dic_countries[Country])\n",
        "    plt.xticks(np.arange(0, (days_before+days_prog+1), ((days_before+days_prog)//10)*subplot_x))\n",
        "    #plt.yticks(np.linspace(0,10+days_prog,30//subplot_x))\n",
        "    plt.grid(True)\n",
        "    plt.legend()\n",
        "    \n",
        "def pred_score2(predictions, day):\n",
        "  yyy = data2[(data2.days_mart==(57 + day)/sc_days) & (data2.confirmed > 0)].sort_values(by=['iso_alpha3'])\n",
        "  region_list_x = data_x.iso_alpha3.to_list()\n",
        "  yyy = yyy[yyy.iso_alpha3.isin(region_list_x)]\n",
        "  #print(len(yyy),len(predictions))\n",
        "  if len(yyy)==len(predictions):\n",
        "    labels = 10**yyy.confirmed.values  - 1\n",
        "    return np.mean(np.abs(np.log10((predictions+1)/(labels+1))))\n",
        "    #return np.sum(np.abs(predictions - labels))\n",
        "  else:\n",
        "    return 0    \n",
        "\n",
        "def pred_score3(yy,yy2):\n",
        "  ers = 0\n",
        "  for i in ['04-27','04-28','04-29','04-30','05-01','05-02','05-03']:\n",
        "    yyy = yy[yy.date == i]\n",
        "    yyy2 = yy2[yy2.index == i]\n",
        "    er = np.abs(np.log10((yyy2.values[0,0]+1)/(yyy.confirmed.to_list()[0]+1)))\n",
        "    #er = np.abs(yyy2.values[0,0] - yyy.confirmed.to_list()[0])\n",
        "    ers += er\n",
        "  return str(round(ers/85,5))\n",
        "  #return str(round(ers))\n",
        "def open_sub(name):\n",
        "  ers = 0\n",
        "  data = pd.read_csv(\"/content/sberbank-covid19-forecast-2020/submission/\"+name+\".csv\").sort_values(by=['region','date'])\n",
        "  data222 = data2[['date','iso_alpha3','confirmed']]\n",
        "  data222.confirmed = 10**data222.confirmed - 1\n",
        "  data222.date = \"2020-\" + data222.date\n",
        "  submission = data.merge(data222, how = 'left', left_on=('date','region'), right_on=('date','iso_alpha3'))\n",
        "  submission = submission[submission.confirmed>0]\n",
        "  submission = submission.loc[submission.region.str.contains('-')]\n",
        "  #submission = submission.loc[submission.region != \"RU-NEN\"]\n",
        "  for i in ['2020-04-27','2020-04-28','2020-04-29','2020-04-30','2020-05-01','2020-05-02','2020-05-03']:  \n",
        "    sub = submission[submission.date == i]\n",
        "    er = np.mean(np.abs(np.log10((sub.confirmed.values+1)/(sub.prediction_confirmed.values+1))))\n",
        "    #er = np.sum(np.abs(sub.confirmed.values-sub.prediction_confirmed.values))\n",
        "    ers += er\n",
        "    #print(i, er)\n",
        "  #print(\"Общая\", ers)\n",
        "  data = data[data.region.str.contains('-')]\n",
        "  data = data[(data.date >=\"2020-04-27\") & (data.date <=\"2020-05-03\")]\n",
        "  data = pd.DataFrame(data[\"prediction_confirmed\"].values.reshape((85,-1)).T,columns = labels,index = data_list)\n",
        "  return data, round(ers,3)   "
      ],
      "execution_count": 0,
      "outputs": []
    },
    {
      "cell_type": "markdown",
      "metadata": {
        "id": "YuqpF8Wa955m",
        "colab_type": "text"
      },
      "source": [
        "## Графики в img.zip"
      ]
    },
    {
      "cell_type": "code",
      "metadata": {
        "id": "XVagSZFLvVRp",
        "colab_type": "code",
        "colab": {}
      },
      "source": [
        "days_prog = 7\n",
        "data_x = data_x[(data_x.iso_alpha3.str.contains('-'))]\n",
        "labels = data_x.sort_values(by=['iso_alpha3']).iso_alpha3\n",
        "data_list = pd.date_range('2020-04-27', periods = days_prog, freq ='d')\n",
        "data_list = data_list.strftime('%#m-%#d') \n",
        "#niw = pd.DataFrame(pd.read_csv(\"/content/niw.csv\").sort_values(by=['region','date'])[\"prediction_confirmed\"].values.reshape((85,-1)).T,columns = labels,index = data_list)\n",
        "Matrix = {}\n",
        "Matrix[\"Среднее\"] = pd.DataFrame(np.zeros((days_prog, len(labels))),columns = labels,index = data_list)\n",
        "members = [\"niw\",\"tyz910\",\"zfturbo\",\"SG_da \",\"topspin26\",\"ksetherg\", \"therealroman\",\"solemn_leader\",\"LastEmperor\",\"supertoha\",\"macroslav\",\"Shapovalov\",\"submission\"]\n",
        "#members = [\"tyz910\",\"zfturbo\",\"SG_da \",\"topspin26\",\"solemn_leader\"]\n",
        "for member in members:\n",
        "  x, ers =  open_sub(member)\n",
        "  Matrix[member + \" (\" + str(ers) + \")\"] = x\n",
        "  Matrix[member + \" (\" + str(ers) + \")\"][\"RUS\"] = Matrix[member + \" (\" + str(ers) + \")\"].sum(axis=1)\n",
        "  Matrix[\"Среднее\"] += Matrix[member + \" (\" + str(ers) + \")\"]\n",
        "\n",
        "Matrix[\"Среднее\"] = Matrix[\"Среднее\"]//(len(Matrix) - 1)\n",
        "scores = []\n",
        "for i,(index, row) in enumerate(Matrix[\"Среднее\"].iterrows()):\n",
        "  score = pred_score2(np.abs(row),i)\n",
        "  if score:\n",
        "    scores.append(score)\n",
        "#print(\"Среднее\", sum(scores), scores) \n",
        "Matrix[\"Среднее\"][\"RUS\"] = Matrix[\"Среднее\"].sum(axis=1) \n",
        "Matrix[\"Среднее (\"+str(round(sum(scores),3))+\")\"] = Matrix[\"Среднее\"].copy()\n",
        "del Matrix[\"Среднее\"]\n",
        "\n",
        "from collections import OrderedDict\n",
        "Matrix = OrderedDict(sorted(Matrix.items(), key=lambda t: t[0]))\n",
        "\n",
        "# Количество графиков в строке\n",
        "subplot_x = 1\n",
        "# Отмечать точки\n",
        "point = True\n",
        "\n",
        "#За сколько дней до начала прогноза\n",
        "days_before = 3\n",
        "\n",
        "\n",
        "!mkdir img\n",
        "plt.rcParams['figure.figsize'] = [20, 10]\n",
        "plt.rcParams['font.size'] = 14\n",
        "labels = labels.tolist()\n",
        "labels.append(\"RUS\")\n",
        "for i in labels:\n",
        "  fig, ax = plt.subplots()\n",
        "  plot_new(i, Matrix, death_bool, subplot_x, days_before, point)\n",
        "  fig.savefig(\"/content/img/\"+i+'.png')\n",
        "  plt.clf()\n",
        "!zip -r img.zip img"
      ],
      "execution_count": 0,
      "outputs": []
    },
    {
      "cell_type": "markdown",
      "metadata": {
        "id": "kPpDAwWbeqaV",
        "colab_type": "text"
      },
      "source": [
        "# Мусор параметры"
      ]
    },
    {
      "cell_type": "code",
      "metadata": {
        "id": "zDoQ95bb1Bdo",
        "colab_type": "code",
        "colab": {}
      },
      "source": [
        "param_list =['countries', 'confirmed', 'deaths', 'iso_alpha3', 'delta_conf', 'delta_deaths', 'region',\n",
        "              'pred_conf', 'pred_deaths', 'delta_conf1', 'delta_deaths1',\n",
        "             \"delta_conf_count\",\n",
        "              \"isolation\",\n",
        "             'testpop',\n",
        "             'Health_GDP',\n",
        "             'Physicians', \n",
        "             'urban_pop_rate',             \n",
        "             'hospibed',\n",
        "             'Nurse',\n",
        "              'pred_conf-population_log',              \n",
        "             'population_log',\n",
        "             'tests',\n",
        "             'population',\n",
        "             'gatheringlimit',\n",
        "             'world_share',\n",
        "             'fertility_rate', \n",
        "             'migrants', \n",
        "             'land_area',\n",
        "             'healthperpop',\n",
        "             'Age_old/new', \n",
        "             'Health_USD', \n",
        "             'median_age',             \n",
        "             'Smoking', \n",
        "             'density',\n",
        "             'pred_recovered',\n",
        "             'recovered',\n",
        "             'days',\n",
        "             'days_10',\n",
        "             'days_100',\n",
        "             'days_1000',\n",
        "             'days_1_1000',\n",
        "             'days_after_Quarantine', \n",
        "             'delta_conf2', \n",
        "             'delta_deaths2',\n",
        "             'delta_conf3', \n",
        "             'delta_deaths3',\n",
        "             'delta_conf4', \n",
        "             'delta_deaths4',\n",
        "             'delta_conf5', \n",
        "             'delta_deaths5',\n",
        "             'delta_conf6', \n",
        "             'delta_deaths6',\n",
        "             \"delta_conf_sum\",\n",
        "             'days_mart']"
      ],
      "execution_count": 0,
      "outputs": []
    }
  ]
}